{
 "cells": [
  {
   "cell_type": "markdown",
   "metadata": {},
   "source": [
    "##  Modeling the Impact of LAI paramter values on simulation of below canopy shortwave radiation in the Reynolds Mountain East catchment using pySUMMA"
   ]
  },
  {
   "cell_type": "markdown",
   "metadata": {},
   "source": [
    "## 1. Introduction"
   ]
  },
  {
   "cell_type": "markdown",
   "metadata": {},
   "source": [
    "One part of the Clark et al. (2015) study explored the impact of the choice of model parameter values on simulations of below canopy shortwave radiation at the aspen site in the Reynolds Mountain East catchment. This study looked at the impact of the Leaf Area Index[1.00, 1.25, 1.50, 1.75, 2.00] as used in the parameterization described by Mahat and Tarboton [2012] - UEB_2stream method(Mahat and Tarboton, WRR 2011:MT 2012)\n",
    "\n",
    "In this Jupyter Notebook, the pySUMMA library is used to reproduce this analysis. According to the application of different Leaf Area Index [1.00, 1.25, 1.50, 1.75, 2.00], the sensitivity of result describes. \n",
    "The Results section shows how to use pySUMMA and the Pandas library to reproduce Figure 1(below) from Clark et al. (2015). \n",
    "\n",
    "Collectively, this Jupyter Notebook serves as an example of how hydrologic modeling can be conducted directly within a Jupyter Notebook by leveraging the pySUMMA library. "
   ]
  },
  {
   "cell_type": "markdown",
   "metadata": {},
   "source": [
    "## 2. Background"
   ]
  },
  {
   "cell_type": "markdown",
   "metadata": {},
   "source": [
    "### Transmission of shortwave radiation through the vegetation canopy available in SUMMA"
   ]
  },
  {
   "cell_type": "markdown",
   "metadata": {},
   "source": [
    "An important source of predictive differences among hydrologic and land-surface models is the method used to simulate the transmission and attenuation of shortwave radiation through the vegetation canopy. The main inter-model differences stem from (i) the methods used to simulate radiation transmission through homogenous vegetation [Dickinson, 1983; Sellers, 1985; Nijssen and Lettenmaier, 1999; Mahat and Tarboton, 2012]; (ii) the methods used to parameterize the impact of the canopy gap fraction on grid-average shortwave radiation fluxes [Cescatti, 1997; Kucharik et al., 1999; Niu and Yang, 2004; Essery et al., 2008]; and (iii) the methods used to represent spatial variability in vegetation type [Koster and Suarez, 1992; Bonan et al., 2002]. In this paper the parameterizations of canopy shortwave radiation are restricted to radiation transmission through homogenous vegetation, as this approach is used in many existing models. Recent advances in modeling the impact of canopy heterogeneity on grid average fluxes [e.g., Essery et al., 2008] are not included at this stage in model development, and will be considered in future work.\n",
    "\n",
    "The methods considered for radiation transmission through homogenous vegetation allow for different levels of model complexity. At the simplest level we include an application of Beer’s Law for direct-beam radiation (e.g., as used in VIC). At a more complex level, we include methods that model direct and diffuse beams separately and account for multiple scattering and multiple reflections [Nijssen and Lettenmaier, 1999]. Building additional complexity, we also include options for two-stream radiative transfer models as implemented in UEB [Mahat and Tarboton, 2012] and the Noah-MP model and CLM [Dickinson, 1983; Sellers, 1985; Oleson et al., 2010; Niu et al., 2011]."
   ]
  },
  {
   "cell_type": "markdown",
   "metadata": {},
   "source": [
    "### Two-stream radiative transfer models (UEB_2stream method, Mahat and Tarboton, 2012)"
   ]
  },
  {
   "cell_type": "markdown",
   "metadata": {},
   "source": [
    "Mahat and Tarboton [2012] describe a two stream radiative transfer model based on the assumptions that radiation is scattered equally in an upward and downward direction and that scattering is along the same path as the incoming radiation. These assumptions yield"
   ]
  },
  {
   "cell_type": "markdown",
   "metadata": {},
   "source": [
    "\\begin{equation*}\n",
    "- \\frac{dU_{sw}}{dz} = \\frac{G\\eta_{l}}{cos({\\theta}_{zen})}[-U_{sw} + \\alpha_{leaf} \\frac{U_{sw}+Q_{sw}}{2}]      \\mspace{200mu}           (14)    \n",
    "\\end{equation*}"
   ]
  },
  {
   "cell_type": "markdown",
   "metadata": {},
   "source": [
    "\\begin{equation*}\n",
    "- \\frac{dQ_{sw}}{dz} = \\frac{G\\eta_{l}}{cos({\\theta}_{zen})}[-Q_{sw} + \\alpha_{leaf} \\frac{U_{sw}+Q_{sw}}{2}]      \\mspace{200mu}           (15)    \n",
    "\\end{equation*}"
   ]
  },
  {
   "cell_type": "markdown",
   "metadata": {},
   "source": [
    "where $\\alpha_{leaf}$  (-) is the leaf scattering coefficient, distinguished from the bulk canopy albedo used in equation (5) and (11), and $U_{sw}$ and $Q_{sw}$ $(W {m}^{-2})$ are the intensity of the upward and downward beams.\n",
    "The solution for transmission over an infinitely deep canopy is [Mahat and Tarboton, 2012]"
   ]
  },
  {
   "cell_type": "markdown",
   "metadata": {},
   "source": [
    "\\begin{equation*}\n",
    "\\tau_{deep,b} = \\frac{Q_{swb}(D_{can})} {Q_{swb}^{0}} = exp(-k^{'}G\\frac{V_{ex}}{cos{\\theta}_{zen}}) \\mspace{200mu}           (16)\n",
    "\\end{equation*}"
   ]
  },
  {
   "cell_type": "markdown",
   "metadata": {},
   "source": [
    "\\begin{equation*}\n",
    "\\tau_{deep,d} = \\frac{Q_{swd}(D_{can})} {Q_{swd}^{0}} = (1-k^{'}GV_{ex})exp(-k^{'}GV_{ex})+(k^{'}GV_{ex})^2E_{i}(1,k^{'}GV_{ex}) \\mspace{200mu}           (17)\n",
    "\\end{equation*}"
   ]
  },
  {
   "cell_type": "markdown",
   "metadata": {},
   "source": [
    "where $ k^{'} = \\sqrt{1-\\alpha_{leaf}} $ Equations (16) and (17) are similar to the expressions in equations (3) and (8), except the factor $ k^{'}$ is included to account for the effects of multiple scattering. Recall that $V_{ex}={\\eta_{l}}D_{can}$.\n",
    "\n",
    "The upward reflection factor $\\alpha_{deep}^{veg} $ giving the fraction of radiation reflected from a deep canopy with multiple scattering is"
   ]
  },
  {
   "cell_type": "markdown",
   "metadata": {},
   "source": [
    "\\begin{equation*}\n",
    "\\alpha_{deep}^{veg} = \\frac{U_{sw}(z)}{Q_{sw}(z)} = \\frac{1-k^{'}}{1+k^{'}}       \\mspace{200mu}           (18)    \n",
    "\\end{equation*}"
   ]
  },
  {
   "cell_type": "markdown",
   "metadata": {},
   "source": [
    "Mahat and Tarboton [2012] use the principle of superposition to derive solutions for a finite canopy, as"
   ]
  },
  {
   "cell_type": "markdown",
   "metadata": {},
   "source": [
    "\\begin{equation*}\n",
    "\\tau_{b} = \\frac{Q_{swb}(D_{can})} {Q_{swb}^{0}} = \\frac{\\tau_{deep,b}[1-(\\alpha_{deep}^{veg})^2]}{1-(\\alpha_{deep}^{veg})^{2}(\\tau_{deep,b})^2} \\mspace{200mu}           (19)\n",
    "\\end{equation*}"
   ]
  },
  {
   "cell_type": "markdown",
   "metadata": {},
   "source": [
    "\\begin{equation*}\n",
    "\\alpha_{b}^{veg} = \\frac{U_{swb}^{0}} {Q_{swb}^{0}} = \\frac{\\alpha_{deep}^{veg}[1-(\\tau_{deep,b})^2]}{1-(\\alpha_{deep}^{veg})^{2}(\\tau_{deep,b})^2} \\mspace{200mu}           (20)\n",
    "\\end{equation*}"
   ]
  },
  {
   "cell_type": "markdown",
   "metadata": {},
   "source": [
    "where $\\tau_{b}$ and $\\alpha_{b}^{veg}$ define the transmittance and reflectance for direct-beam radiation. Equations (19) and (20) can also be used to obtain $\\tau_{d}$ and $\\alpha_{d}^{veg}$ by replacing the direct transmittance $\\tau_{deep,b}$ with the diffuse transmittance $\\tau_{deep,d}$ [Mahat and Tarboton, 2012]."
   ]
  },
  {
   "cell_type": "markdown",
   "metadata": {},
   "source": [
    "The shortwave radiation flux absorbed by the vegetation canopy and the ground surface can now be given as (now distinguishing between direct and diffuse surface albedo, $\\alpha_{b}^{sfc}$ and $\\alpha_{d}^{sfc}$, as defined in the next section),"
   ]
  },
  {
   "cell_type": "markdown",
   "metadata": {},
   "source": [
    "\\begin{equation*}\n",
    "Q_{swnet}^{veg} = [Q_{swb}^{0}(1-\\tau_{b})(1-\\alpha^{veg}_{b})+Q_{swd}^{0}(1-\\tau_{d})(1-\\alpha^{veg}_{d}] + (Q_{swb}^{0}\\tau_{b}\\alpha_{b}^{sfc}+Q_{swd}^{0}\\tau_{d}\\alpha_{d}^{sfc})m_{r}(1-\\tau_{d}) \\mspace{50mu}           (21)\n",
    "\\end{equation*}"
   ]
  },
  {
   "cell_type": "markdown",
   "metadata": {},
   "source": [
    "\\begin{equation*}\n",
    "Q_{swnet}^{sfc} = [Q_{swb}^{0}\\tau_{b}(1-\\alpha^{sfc}_{b})+Q_{swd}^{0}(\\tau_{d})(1-\\alpha^{sfc}_{d})]m_{r} \\mspace{200mu}           (22)\n",
    "\\end{equation*}"
   ]
  },
  {
   "cell_type": "markdown",
   "metadata": {},
   "source": [
    "where $m_{r}$ is the multiple reflections factor as defined in equation (13) but computed using diffuse reflectances and defined as $m_{r} = [1-\\alpha_{d}^{veg}\\alpha_{d}^{sfc}(1-\\tau_{d})]^{-1}$ . As in equation (11) it is assumed that all upward radiation is diffuse."
   ]
  },
  {
   "cell_type": "markdown",
   "metadata": {},
   "source": [
    "We also consider the two-stream radiative transfer model of Dickinson [1983] and Sellers [1985], as implemented in both the Community Land Model [Oleson et al., 2010] and the Noah-MP model [Niu et al., 2011]. In this approach fluxes are computed separately for visible and near-infra-red wavelengths. Complete algorithmic details are provided by Oleson et al. [2010] and are not repeated here."
   ]
  },
  {
   "cell_type": "markdown",
   "metadata": {},
   "source": [
    "The above description are taken from the Stomal Resistance Method section within the manual Structure for Unifying Multiple Modeling Alternatives (SUMMA), Version 1.0: Technical Description (April, 2015)."
   ]
  },
  {
   "cell_type": "markdown",
   "metadata": {},
   "source": [
    "## 3. Methods"
   ]
  },
  {
   "cell_type": "markdown",
   "metadata": {},
   "source": [
    "### 1) Install pySUMMA from GitHub (UVA-Hydroinformatics/pysumma-develop branch)"
   ]
  },
  {
   "cell_type": "code",
   "execution_count": null,
   "metadata": {},
   "outputs": [],
   "source": [
    "# On HydroShare, pySUMMA installed, so users don't need to install pySUMMA.\n",
    "# !/opt/conda/bin/pip install git+https://github.com/uva-hydroinformatics/pysumma.git@develop"
   ]
  },
  {
   "cell_type": "markdown",
   "metadata": {},
   "source": [
    "### 2) Download SUMMA Model Instance from HydroShare"
   ]
  },
  {
   "cell_type": "code",
   "execution_count": 1,
   "metadata": {},
   "outputs": [],
   "source": [
    "from pysumma.utils import utils"
   ]
  },
  {
   "cell_type": "code",
   "execution_count": 2,
   "metadata": {},
   "outputs": [],
   "source": [
    "# Download SUMMA Model Instance from HydroShare\n",
    "resource_id = '2bedc3b88f3547d5b9b0ade7248dfdd5'\n",
    "instance = utils.download_model_instance(resource_id)"
   ]
  },
  {
   "cell_type": "markdown",
   "metadata": {},
   "source": [
    "### 3) Study Area"
   ]
  },
  {
   "cell_type": "markdown",
   "metadata": {},
   "source": [
    "#### The Reynolds Mountain East catchment is located in southwestern Idaho as shown in the figure below."
   ]
  },
  {
   "cell_type": "code",
   "execution_count": 3,
   "metadata": {},
   "outputs": [],
   "source": [
    "from ipyleaflet import Map, GeoJSON\n",
    "import json, os"
   ]
  },
  {
   "cell_type": "code",
   "execution_count": 4,
   "metadata": {},
   "outputs": [
    {
     "data": {
      "application/vnd.jupyter.widget-view+json": {
       "model_id": "08e0fa4d31ef482d98aaf18e6a452191",
       "version_major": 2,
       "version_minor": 0
      },
      "text/plain": [
       "Map(basemap={'url': 'https://{s}.tile.openstreetmap.org/{z}/{x}/{y}.png', 'max_zoom': 19, 'attribution': 'Map …"
      ]
     },
     "metadata": {},
     "output_type": "display_data"
    }
   ],
   "source": [
    "m = Map(center=[43.06745, -116.75489], zoom=15)\n",
    "with open(os.getcwd() + '/' + instance + '/data/reynolds_geojson_latlon.geojson') as f:\n",
    "    data = json.load(f)\n",
    "g = GeoJSON(data=data)\n",
    "m.add_layer(g)\n",
    "m"
   ]
  },
  {
   "cell_type": "markdown",
   "metadata": {},
   "source": [
    "### 4) Create pySUMMA Simulation Object"
   ]
  },
  {
   "cell_type": "code",
   "execution_count": 5,
   "metadata": {
    "scrolled": true
   },
   "outputs": [],
   "source": [
    "from pysumma.Simulation import Simulation"
   ]
  },
  {
   "cell_type": "code",
   "execution_count": 6,
   "metadata": {},
   "outputs": [],
   "source": [
    "# path to the SUMMA filemanager file\n",
    "file_manager = os.getcwd() + '/' + instance + '/settings/summa_fileManager_riparianAspenVegParamPerturb.txt'"
   ]
  },
  {
   "cell_type": "code",
   "execution_count": 7,
   "metadata": {},
   "outputs": [
    {
     "name": "stdout",
     "output_type": "stream",
     "text": [
      "ModelOuput master file filepath: /home/jovyan/work/notebooks/data/c1bb4a12bff44bf08c5958cba7947348/c1bb4a12bff44bf08c5958cba7947348/data/contents/SummaModel_ReynoldsAspenStand_ShortwaveRadiation_LAI_sopron/settings/meta/var_lookup.f90\n"
     ]
    }
   ],
   "source": [
    "# Create pySUMMA Simulation Object\n",
    "S = Simulation(file_manager)"
   ]
  },
  {
   "cell_type": "markdown",
   "metadata": {},
   "source": [
    "### 4) Run SUMMA for the different LAI parameter values"
   ]
  },
  {
   "cell_type": "code",
   "execution_count": 8,
   "metadata": {},
   "outputs": [
    {
     "data": {
      "text/plain": [
       "('2005-07-01 00:00', '2008-09-30 00:00')"
      ]
     },
     "execution_count": 8,
     "metadata": {},
     "output_type": "execute_result"
    }
   ],
   "source": [
    "# check the simulation start and finish times\n",
    "S.decision_obj.simulStart.value, S.decision_obj.simulFinsh.value"
   ]
  },
  {
   "cell_type": "markdown",
   "metadata": {},
   "source": [
    "#### 4-1) Check root Distribution Exponents"
   ]
  },
  {
   "cell_type": "code",
   "execution_count": 9,
   "metadata": {},
   "outputs": [
    {
     "data": {
      "text/plain": [
       "<xarray.DataArray 'summerLAI' (hru: 5)>\n",
       "array([ 1.  ,  1.25,  1.5 ,  1.75,  2.  ])\n",
       "Dimensions without coordinates: hru"
      ]
     },
     "execution_count": 9,
     "metadata": {},
     "output_type": "execute_result"
    }
   ],
   "source": [
    "import xarray as xr\n",
    "Param_trial = xr.open_dataset(os.path.dirname(file_manager)+'/'+S.para_trial.value)\n",
    "Param_trial.summerLAI"
   ]
  },
  {
   "cell_type": "markdown",
   "metadata": {},
   "source": [
    "#### 4.2) simulate SUMMA with the UEB_2stream method (Mahat and Tarboton, 2012)"
   ]
  },
  {
   "cell_type": "code",
   "execution_count": 10,
   "metadata": {},
   "outputs": [
    {
     "data": {
      "text/plain": [
       "'UEB_2stream'"
      ]
     },
     "execution_count": 10,
     "metadata": {},
     "output_type": "execute_result"
    }
   ],
   "source": [
    "S.decision_obj.canopySrad.value = 'UEB_2stream'\n",
    "S.decision_obj.canopySrad.value"
   ]
  },
  {
   "cell_type": "code",
   "execution_count": 11,
   "metadata": {},
   "outputs": [],
   "source": [
    "S.output_prefix.value = \"UEB_2stream\""
   ]
  },
  {
   "cell_type": "markdown",
   "metadata": {},
   "source": [
    "#### if you executed SUMMA for this test case previously and have output file in output folder, you can move to next line."
   ]
  },
  {
   "cell_type": "code",
   "execution_count": 12,
   "metadata": {},
   "outputs": [
    {
     "name": "stderr",
     "output_type": "stream",
     "text": [
      "/home/jovyan/libs/specworker/__init__.py:4: Warning: The SPECS library is in beta development, use at your own risk.\n",
      "  warnings.warn(\"The SPECS library is in beta development, use at your own risk.\", Warning)\n"
     ]
    },
    {
     "name": "stdout",
     "output_type": "stream",
     "text": [
      "Job finished                                           \n",
      "task complete\n",
      "file_master is '/tmp/summa/home/jovyan/work/notebooks/data/c1bb4a12bff44bf08c5958cba7947348/c1bb4a12bff44bf08c5958cba7947348/data/contents/SummaModel_ReynoldsAspenStand_ShortwaveRadiation_LAI_sopron/settings/summa_fileManager_riparianAspenVegParamPerturb.txt_tmp'.\n",
      "start at 05:57:21\n",
      "Name of Model Output control file: /tmp/summa/home/jovyan/work/notebooks/data/c1bb4a12bff44bf08c5958cba7947348/c1bb4a12bff44bf08c5958cba7947348/data/contents/SummaModel_ReynoldsAspenStand_ShortwaveRadiation_LAI_sopron/settings/meta/Model_Output.txt\n",
      "decisions file =  /tmp/summa/home/jovyan/work/notebooks/data/c1bb4a12bff44bf08c5958cba7947348/c1bb4a12bff44bf08c5958cba7947348/data/contents/SummaModel_ReynoldsAspenStand_ShortwaveRadiation_LAI_sopron/settings/summa_zDecisions_riparianAspenUEB2stream.txt\n",
      "   1 simulStart: 2005-07-01 00:00\n",
      "   2 simulFinsh: 2008-09-30 00:00\n",
      "   3 soilCatTbl: ROSETTA\n",
      "   4 vegeParTbl: USGS\n",
      "   5 soilStress: NoahType\n",
      "   6 stomResist: BallBerry\n",
      "   7 num_method: itertive\n",
      "   8 fDerivMeth: analytic\n",
      "   9 LAI_method: specified\n",
      "  10 f_Richards: mixdform\n",
      "  11 groundwatr: noXplict\n",
      "  12 hc_profile: constant\n",
      "  13 bcUpprTdyn: nrg_flux\n",
      "  14 bcLowrTdyn: zeroFlux\n",
      "  15 bcUpprSoiH: liq_flux\n",
      "  16 bcLowrSoiH: drainage\n",
      "  17 veg_traits: CM_QJRMS1988\n",
      "  18 canopyEmis: difTrans\n",
      "  19 snowIncept: lightSnow\n",
      "  20 windPrfile: logBelowCanopy\n",
      "  21 astability: louisinv\n",
      "  22 canopySrad: UEB_2stream\n",
      "  23 alb_method: varDecay\n",
      "  24 compaction: anderson\n",
      "  25 snowLayers: CLM_2010\n",
      "  26 thCondSnow: jrdn1991\n",
      "  27 thCondSoil: mixConstit\n",
      "  28 spatial_gw: localColumn\n",
      "  29 subRouting: timeDlay\n",
      "startTime: iyyy, im, id, ih, imin = 2005  7  1  0  0\n",
      "finshTime: iyyy, im, id, ih, imin = 2008  9 30  0  0\n",
      "/tmp/summa/home/jovyan/work/notebooks/data/c1bb4a12bff44bf08c5958cba7947348/c1bb4a12bff44bf08c5958cba7947348/data/contents/SummaModel_ReynoldsAspenStand_ShortwaveRadiation_LAI_sopron/settings/summa_zLocalParamInfo.txt\n",
      "/tmp/summa/home/jovyan/work/notebooks/data/c1bb4a12bff44bf08c5958cba7947348/c1bb4a12bff44bf08c5958cba7947348/data/contents/SummaModel_ReynoldsAspenStand_ShortwaveRadiation_LAI_sopron/settings/summa_zBasinParamInfo.txt\n",
      "Skipping over SLTYPE = STAS\n",
      "Skipping over SLTYPE = STAS-RUC\n",
      " hruIndex\n",
      " frozenPrecipMultip\n",
      " rootingDepth\n",
      " rootDistExp\n",
      " theta_sat\n",
      " theta_res\n",
      " vGn_alpha\n",
      " vGn_n\n",
      " k_soil\n",
      " critSoilWilting\n",
      " critSoilTranspire\n",
      " winterSAI\n",
      " summerLAI\n",
      " heightCanopyTop\n",
      " heightCanopyBottom\n",
      " windReductionParam\n",
      "Created output file:/tmp/summa/home/jovyan/work/notebooks/data/c1bb4a12bff44bf08c5958cba7947348/c1bb4a12bff44bf08c5958cba7947348/data/contents/SummaModel_ReynoldsAspenStand_ShortwaveRadiation_LAI_sopron/output/UEB_2stream_output_timestep.nc\n",
      "2005  7  1  0  0\n",
      "2005  7  2  0  0\n",
      "2005  7  3  0  0\n",
      "2005  7  4  0  0\n",
      "2005  7  5  0  0\n",
      "2005  7  6  0  0\n",
      "2005  7  7  0  0\n",
      "2005  7  8  0  0\n",
      "2005  7  9  0  0\n",
      "2005  7 10  0  0\n",
      "2005  7 11  0  0\n",
      "2005  7 12  0  0\n",
      "2005  7 13  0  0\n",
      "2005  7 14  0  0\n",
      "2005  7 15  0  0\n",
      "2005  7 16  0  0\n",
      "2005  7 17  0  0\n",
      "2005  7 18  0  0\n",
      "2005  7 19  0  0\n",
      "2005  7 20  0  0\n",
      "2005  7 21  0  0\n",
      "2005  7 22  0  0\n",
      "2005  7 23  0  0\n",
      "2005  7 24  0  0\n",
      "2005  7 25  0  0\n",
      "2005  7 26  0  0\n",
      "2005  7 27  0  0\n",
      "2005  7 28  0  0\n",
      "2005  7 29  0  0\n",
      "2005  7 30  0  0\n",
      "2005  7 31  0  0\n",
      "2005  8  1  0  0\n",
      "2005  8  2  0  0\n",
      "2005  8  3  0  0\n",
      "2005  8  4  0  0\n",
      "2005  8  5  0  0\n",
      "2005  8  6  0  0\n",
      "2005  8  7  0  0\n",
      "2005  8  8  0  0\n",
      "2005  8  9  0  0\n",
      "2005  8 10  0  0\n",
      "2005  8 11  0  0\n",
      "2005  8 12  0  0\n",
      "2005  8 13  0  0\n",
      "2005  8 14  0  0\n",
      "2005  8 15  0  0\n",
      "2005  8 16  0  0\n",
      "2005  8 17  0  0\n",
      "2005  8 18  0  0\n",
      "2005  8 19  0  0\n",
      "2005  8 20  0  0\n",
      "2005  8 21  0  0\n",
      "2005  8 22  0  0\n",
      "2005  8 23  0  0\n",
      "2005  8 24  0  0\n",
      "2005  8 25  0  0\n",
      "2005  8 26  0  0\n",
      "2005  8 27  0  0\n",
      "2005  8 28  0  0\n",
      "2005  8 29  0  0\n",
      "2005  8 30  0  0\n",
      "2005  8 31  0  0\n",
      "2005  9  1  0  0\n",
      "2005  9  2  0  0\n",
      "2005  9  3  0  0\n",
      "2005  9  4  0  0\n",
      "2005  9  5  0  0\n",
      "2005  9  6  0  0\n",
      "2005  9  7  0  0\n",
      "2005  9  8  0  0\n",
      "2005  9  9  0  0\n",
      "2005  9 10  0  0\n",
      "2005  9 11  0  0\n",
      "2005  9 12  0  0\n",
      "2005  9 13  0  0\n",
      "2005  9 14  0  0\n",
      "2005  9 15  0  0\n",
      "2005  9 16  0  0\n",
      "2005  9 17  0  0\n",
      "2005  9 18  0  0\n",
      "2005  9 19  0  0\n",
      "2005  9 20  0  0\n",
      "2005  9 21  0  0\n",
      "2005  9 22  0  0\n",
      "2005  9 23  0  0\n",
      "2005  9 24  0  0\n",
      "2005  9 25  0  0\n",
      "2005  9 26  0  0\n",
      "2005  9 27  0  0\n",
      "2005  9 28  0  0\n",
      "2005  9 29  0  0\n",
      "2005  9 30  0  0\n",
      "2005 10  1  0  0\n",
      "2005 10  2  0  0\n",
      "2005 10  3  0  0\n",
      "2005 10  4  0  0\n",
      "2005 10  5  0  0\n",
      "2005 10  6  0  0\n",
      "2005 10  7  0  0\n",
      "2005 10  8  0  0\n",
      "2005 10  9  0  0\n",
      "2005 10 10  0  0\n",
      "2005 10 11  0  0\n",
      "2005 10 12  0  0\n",
      "2005 10 13  0  0\n",
      "2005 10 14  0  0\n",
      "2005 10 15  0  0\n",
      "2005 10 16  0  0\n",
      "2005 10 17  0  0\n",
      "2005 10 18  0  0\n",
      "2005 10 19  0  0\n",
      "2005 10 20  0  0\n",
      "2005 10 21  0  0\n",
      "2005 10 22  0  0\n",
      "2005 10 23  0  0\n",
      "2005 10 24  0  0\n",
      "2005 10 25  0  0\n",
      "2005 10 26  0  0\n",
      "2005 10 27  0  0\n",
      "2005 10 28  0  0\n",
      "2005 10 29  0  0\n",
      "2005 10 30  0  0\n",
      "2005 10 31  0  0\n",
      "2005 11  1  0  0\n",
      "2005 11  2  0  0\n",
      "2005 11  3  0  0\n",
      "2005 11  4  0  0\n",
      "2005 11  5  0  0\n",
      "2005 11  6  0  0\n",
      "2005 11  7  0  0\n",
      "2005 11  8  0  0\n",
      "2005 11  9  0  0\n",
      "2005 11 10  0  0\n",
      "2005 11 11  0  0\n",
      "2005 11 12  0  0\n",
      "2005 11 13  0  0\n",
      "2005 11 14  0  0\n",
      "2005 11 15  0  0\n",
      "2005 11 16  0  0\n",
      "2005 11 17  0  0\n",
      "2005 11 18  0  0\n",
      "2005 11 19  0  0\n",
      "2005 11 20  0  0\n",
      "2005 11 21  0  0\n",
      "2005 11 22  0  0\n",
      "2005 11 23  0  0\n",
      "2005 11 24  0  0\n",
      "2005 11 25  0  0\n",
      "2005 11 26  0  0\n",
      "2005 11 27  0  0\n",
      "2005 11 28  0  0\n",
      "2005 11 29  0  0\n",
      "2005 11 30  0  0\n",
      "2005 12  1  0  0\n",
      "2005 12  2  0  0\n",
      "2005 12  3  0  0\n",
      "2005 12  4  0  0\n",
      "2005 12  5  0  0\n",
      "2005 12  6  0  0\n",
      "2005 12  7  0  0\n",
      "2005 12  8  0  0\n",
      "2005 12  9  0  0\n",
      "2005 12 10  0  0\n",
      "2005 12 11  0  0\n",
      "2005 12 12  0  0\n",
      "2005 12 13  0  0\n",
      "2005 12 14  0  0\n",
      "2005 12 15  0  0\n",
      "2005 12 16  0  0\n",
      "2005 12 17  0  0\n",
      "2005 12 18  0  0\n",
      "2005 12 19  0  0\n",
      "2005 12 20  0  0\n",
      "2005 12 21  0  0\n",
      "2005 12 22  0  0\n",
      "2005 12 23  0  0\n",
      "2005 12 24  0  0\n",
      "2005 12 25  0  0\n",
      "2005 12 26  0  0\n",
      "2005 12 27  0  0\n",
      "2005 12 28  0  0\n",
      "2005 12 29  0  0\n",
      "2005 12 30  0  0\n",
      "2005 12 31  0  0\n",
      "2006  1  1  0  0\n",
      "2006  1  2  0  0\n",
      "2006  1  3  0  0\n",
      "2006  1  4  0  0\n",
      "2006  1  5  0  0\n",
      "2006  1  6  0  0\n",
      "2006  1  7  0  0\n",
      "2006  1  8  0  0\n",
      "2006  1  9  0  0\n",
      "2006  1 10  0  0\n",
      "2006  1 11  0  0\n",
      "2006  1 12  0  0\n",
      "2006  1 13  0  0\n",
      "2006  1 14  0  0\n",
      "2006  1 15  0  0\n",
      "2006  1 16  0  0\n",
      "2006  1 17  0  0\n",
      "2006  1 18  0  0\n",
      "2006  1 19  0  0\n",
      "2006  1 20  0  0\n",
      "2006  1 21  0  0\n",
      "2006  1 22  0  0\n",
      "2006  1 23  0  0\n",
      "2006  1 24  0  0\n",
      "2006  1 25  0  0\n",
      "2006  1 26  0  0\n",
      "2006  1 27  0  0\n",
      "2006  1 28  0  0\n",
      "2006  1 29  0  0\n",
      "2006  1 30  0  0\n",
      "2006  1 31  0  0\n",
      "2006  2  1  0  0\n",
      "2006  2  2  0  0\n",
      "2006  2  3  0  0\n",
      "2006  2  4  0  0\n",
      "2006  2  5  0  0\n",
      "2006  2  6  0  0\n",
      "2006  2  7  0  0\n",
      "2006  2  8  0  0\n",
      "2006  2  9  0  0\n",
      "2006  2 10  0  0\n",
      "2006  2 11  0  0\n",
      "2006  2 12  0  0\n",
      "2006  2 13  0  0\n",
      "2006  2 14  0  0\n",
      "2006  2 15  0  0\n",
      "2006  2 16  0  0\n",
      "2006  2 17  0  0\n",
      "2006  2 18  0  0\n",
      "2006  2 19  0  0\n",
      "2006  2 20  0  0\n",
      "2006  2 21  0  0\n",
      "2006  2 22  0  0\n",
      "2006  2 23  0  0\n",
      "2006  2 24  0  0\n",
      "2006  2 25  0  0\n",
      "2006  2 26  0  0\n",
      "2006  2 27  0  0\n",
      "2006  2 28  0  0\n",
      "2006  3  1  0  0\n",
      "2006  3  2  0  0\n",
      "2006  3  3  0  0\n",
      "2006  3  4  0  0\n",
      "2006  3  5  0  0\n",
      "2006  3  6  0  0\n",
      "2006  3  7  0  0\n",
      "2006  3  8  0  0\n",
      "2006  3  9  0  0\n",
      "2006  3 10  0  0\n",
      "2006  3 11  0  0\n",
      "2006  3 12  0  0\n",
      "2006  3 13  0  0\n",
      "2006  3 14  0  0\n",
      "2006  3 15  0  0\n",
      "2006  3 16  0  0\n",
      "2006  3 17  0  0\n",
      "2006  3 18  0  0\n",
      "2006  3 19  0  0\n",
      "2006  3 20  0  0\n",
      "2006  3 21  0  0\n",
      "2006  3 22  0  0\n",
      "2006  3 23  0  0\n",
      "2006  3 24  0  0\n",
      "2006  3 25  0  0\n",
      "2006  3 26  0  0\n",
      "2006  3 27  0  0\n",
      "2006  3 28  0  0\n",
      "2006  3 29  0  0\n",
      "2006  3 30  0  0\n",
      "2006  3 31  0  0\n",
      "2006  4  1  0  0\n",
      "2006  4  2  0  0\n",
      "2006  4  3  0  0\n",
      "2006  4  4  0  0\n",
      "2006  4  5  0  0\n",
      "2006  4  6  0  0\n",
      "2006  4  7  0  0\n",
      "2006  4  8  0  0\n",
      "2006  4  9  0  0\n",
      "2006  4 10  0  0\n",
      "2006  4 11  0  0\n",
      "2006  4 12  0  0\n",
      "2006  4 13  0  0\n",
      "2006  4 14  0  0\n",
      "2006  4 15  0  0\n",
      "2006  4 16  0  0\n",
      "2006  4 17  0  0\n",
      "2006  4 18  0  0\n",
      "2006  4 19  0  0\n",
      "2006  4 20  0  0\n",
      "2006  4 21  0  0\n",
      "2006  4 22  0  0\n",
      "2006  4 23  0  0\n",
      "2006  4 24  0  0\n",
      "2006  4 25  0  0\n",
      "2006  4 26  0  0\n",
      "2006  4 27  0  0\n",
      "2006  4 28  0  0\n",
      "2006  4 29  0  0\n",
      "2006  4 30  0  0\n",
      "2006  5  1  0  0\n",
      "2006  5  2  0  0\n",
      "2006  5  3  0  0\n",
      "2006  5  4  0  0\n",
      "2006  5  5  0  0\n",
      "2006  5  6  0  0\n",
      "2006  5  7  0  0\n",
      "2006  5  8  0  0\n",
      "2006  5  9  0  0\n",
      "2006  5 10  0  0\n",
      "2006  5 11  0  0\n",
      "2006  5 12  0  0\n",
      "2006  5 13  0  0\n",
      "2006  5 14  0  0\n",
      "2006  5 15  0  0\n",
      "2006  5 16  0  0\n",
      "2006  5 17  0  0\n",
      "2006  5 18  0  0\n",
      "2006  5 19  0  0\n",
      "2006  5 20  0  0\n",
      "2006  5 21  0  0\n",
      "2006  5 22  0  0\n",
      "2006  5 23  0  0\n",
      "2006  5 24  0  0\n",
      "2006  5 25  0  0\n",
      "2006  5 26  0  0\n",
      "2006  5 27  0  0\n",
      "2006  5 28  0  0\n",
      "2006  5 29  0  0\n",
      "2006  5 30  0  0\n",
      "2006  5 31  0  0\n",
      "2006  6  1  0  0\n",
      "2006  6  2  0  0\n",
      "2006  6  3  0  0\n",
      "2006  6  4  0  0\n",
      "2006  6  5  0  0\n",
      "2006  6  6  0  0\n",
      "2006  6  7  0  0\n",
      "2006  6  8  0  0\n",
      "2006  6  9  0  0\n",
      "2006  6 10  0  0\n",
      "2006  6 11  0  0\n",
      "2006  6 12  0  0\n",
      "2006  6 13  0  0\n",
      "2006  6 14  0  0\n",
      "2006  6 15  0  0\n",
      "2006  6 16  0  0\n",
      "2006  6 17  0  0\n",
      "2006  6 18  0  0\n",
      "2006  6 19  0  0\n",
      "2006  6 20  0  0\n",
      "2006  6 21  0  0\n",
      "2006  6 22  0  0\n",
      "2006  6 23  0  0\n",
      "2006  6 24  0  0\n",
      "2006  6 25  0  0\n",
      "2006  6 26  0  0\n",
      "2006  6 27  0  0\n",
      "2006  6 28  0  0\n",
      "2006  6 29  0  0\n",
      "2006  6 30  0  0\n",
      "2006  7  1  0  0\n",
      "2006  7  2  0  0\n",
      "2006  7  3  0  0\n",
      "2006  7  4  0  0\n",
      "2006  7  5  0  0\n",
      "2006  7  6  0  0\n",
      "2006  7  7  0  0\n",
      "2006  7  8  0  0\n",
      "2006  7  9  0  0\n",
      "2006  7 10  0  0\n",
      "2006  7 11  0  0\n",
      "2006  7 12  0  0\n",
      "2006  7 13  0  0\n",
      "2006  7 14  0  0\n",
      "2006  7 15  0  0\n",
      "2006  7 16  0  0\n",
      "2006  7 17  0  0\n",
      "2006  7 18  0  0\n",
      "2006  7 19  0  0\n",
      "2006  7 20  0  0\n",
      "2006  7 21  0  0\n",
      "2006  7 22  0  0\n",
      "2006  7 23  0  0\n",
      "2006  7 24  0  0\n",
      "2006  7 25  0  0\n",
      "2006  7 26  0  0\n",
      "2006  7 27  0  0\n",
      "2006  7 28  0  0\n",
      "2006  7 29  0  0\n",
      "2006  7 30  0  0\n",
      "2006  7 31  0  0\n",
      "2006  8  1  0  0\n",
      "2006  8  2  0  0\n",
      "2006  8  3  0  0\n",
      "2006  8  4  0  0\n",
      "2006  8  5  0  0\n",
      "2006  8  6  0  0\n",
      "2006  8  7  0  0\n",
      "2006  8  8  0  0\n",
      "2006  8  9  0  0\n",
      "2006  8 10  0  0\n",
      "2006  8 11  0  0\n",
      "2006  8 12  0  0\n",
      "2006  8 13  0  0\n",
      "2006  8 14  0  0\n",
      "2006  8 15  0  0\n",
      "2006  8 16  0  0\n",
      "2006  8 17  0  0\n",
      "2006  8 18  0  0\n",
      "2006  8 19  0  0\n",
      "2006  8 20  0  0\n",
      "2006  8 21  0  0\n",
      "2006  8 22  0  0\n",
      "2006  8 23  0  0\n",
      "2006  8 24  0  0\n",
      "2006  8 25  0  0\n",
      "2006  8 26  0  0\n",
      "2006  8 27  0  0\n",
      "2006  8 28  0  0\n",
      "2006  8 29  0  0\n",
      "2006  8 30  0  0\n",
      "2006  8 31  0  0\n",
      "2006  9  1  0  0\n",
      "2006  9  2  0  0\n",
      "2006  9  3  0  0\n",
      "2006  9  4  0  0\n",
      "2006  9  5  0  0\n",
      "2006  9  6  0  0\n",
      "2006  9  7  0  0\n",
      "2006  9  8  0  0\n",
      "2006  9  9  0  0\n",
      "2006  9 10  0  0\n",
      "2006  9 11  0  0\n",
      "2006  9 12  0  0\n",
      "2006  9 13  0  0\n",
      "2006  9 14  0  0\n",
      "2006  9 15  0  0\n",
      "2006  9 16  0  0\n",
      "2006  9 17  0  0\n",
      "2006  9 18  0  0\n",
      "2006  9 19  0  0\n",
      "2006  9 20  0  0\n",
      "2006  9 21  0  0\n",
      "2006  9 22  0  0\n",
      "2006  9 23  0  0\n",
      "2006  9 24  0  0\n",
      "2006  9 25  0  0\n",
      "2006  9 26  0  0\n",
      "2006  9 27  0  0\n",
      "2006  9 28  0  0\n",
      "2006  9 29  0  0\n",
      "2006  9 30  0  0\n",
      "2006 10  1  0  0\n",
      "2006 10  2  0  0\n",
      "2006 10  3  0  0\n",
      "2006 10  4  0  0\n",
      "2006 10  5  0  0\n",
      "2006 10  6  0  0\n",
      "2006 10  7  0  0\n",
      "2006 10  8  0  0\n",
      "2006 10  9  0  0\n",
      "2006 10 10  0  0\n",
      "2006 10 11  0  0\n",
      "2006 10 12  0  0\n",
      "2006 10 13  0  0\n",
      "2006 10 14  0  0\n",
      "2006 10 15  0  0\n",
      "2006 10 16  0  0\n",
      "2006 10 17  0  0\n",
      "2006 10 18  0  0\n",
      "2006 10 19  0  0\n",
      "2006 10 20  0  0\n",
      "2006 10 21  0  0\n",
      "2006 10 22  0  0\n",
      "2006 10 23  0  0\n",
      "2006 10 24  0  0\n",
      "2006 10 25  0  0\n",
      "2006 10 26  0  0\n",
      "2006 10 27  0  0\n",
      "2006 10 28  0  0\n",
      "2006 10 29  0  0\n",
      "2006 10 30  0  0\n",
      "2006 10 31  0  0\n",
      "2006 11  1  0  0\n",
      "2006 11  2  0  0\n",
      "2006 11  3  0  0\n",
      "2006 11  4  0  0\n",
      "2006 11  5  0  0\n",
      "2006 11  6  0  0\n",
      "2006 11  7  0  0\n",
      "2006 11  8  0  0\n",
      "2006 11  9  0  0\n",
      "2006 11 10  0  0\n",
      "2006 11 11  0  0\n",
      "2006 11 12  0  0\n",
      "2006 11 13  0  0\n",
      "2006 11 14  0  0\n",
      "2006 11 15  0  0\n",
      "2006 11 16  0  0\n",
      "2006 11 17  0  0\n",
      "2006 11 18  0  0\n",
      "2006 11 19  0  0\n",
      "2006 11 20  0  0\n",
      "2006 11 21  0  0\n",
      "2006 11 22  0  0\n",
      "2006 11 23  0  0\n",
      "2006 11 24  0  0\n",
      "2006 11 25  0  0\n",
      "2006 11 26  0  0\n",
      "2006 11 27  0  0\n",
      "2006 11 28  0  0\n",
      "2006 11 29  0  0\n",
      "2006 11 30  0  0\n",
      "2006 12  1  0  0\n",
      "2006 12  2  0  0\n",
      "2006 12  3  0  0\n",
      "2006 12  4  0  0\n",
      "2006 12  5  0  0\n",
      "2006 12  6  0  0\n",
      "2006 12  7  0  0\n",
      "2006 12  8  0  0\n",
      "2006 12  9  0  0\n",
      "2006 12 10  0  0\n",
      "2006 12 11  0  0\n",
      "2006 12 12  0  0\n",
      "2006 12 13  0  0\n",
      "2006 12 14  0  0\n",
      "2006 12 15  0  0\n",
      "2006 12 16  0  0\n",
      "2006 12 17  0  0\n",
      "2006 12 18  0  0\n",
      "2006 12 19  0  0\n",
      "2006 12 20  0  0\n",
      "2006 12 21  0  0\n",
      "2006 12 22  0  0\n",
      "2006 12 23  0  0\n",
      "2006 12 24  0  0\n",
      "2006 12 25  0  0\n",
      "2006 12 26  0  0\n",
      "2006 12 27  0  0\n",
      "2006 12 28  0  0\n",
      "2006 12 29  0  0\n",
      "2006 12 30  0  0\n",
      "2006 12 31  0  0\n",
      "2007  1  1  0  0\n",
      "2007  1  2  0  0\n",
      "2007  1  3  0  0\n",
      "2007  1  4  0  0\n",
      "2007  1  5  0  0\n",
      "2007  1  6  0  0\n",
      "2007  1  7  0  0\n",
      "2007  1  8  0  0\n",
      "2007  1  9  0  0\n",
      "2007  1 10  0  0\n",
      "2007  1 11  0  0\n",
      "2007  1 12  0  0\n",
      "2007  1 13  0  0\n",
      "2007  1 14  0  0\n",
      "2007  1 15  0  0\n",
      "2007  1 16  0  0\n",
      "2007  1 17  0  0\n",
      "2007  1 18  0  0\n",
      "2007  1 19  0  0\n",
      "2007  1 20  0  0\n",
      "2007  1 21  0  0\n",
      "2007  1 22  0  0\n",
      "2007  1 23  0  0\n",
      "2007  1 24  0  0\n",
      "2007  1 25  0  0\n",
      "2007  1 26  0  0\n",
      "2007  1 27  0  0\n",
      "2007  1 28  0  0\n",
      "2007  1 29  0  0\n",
      "2007  1 30  0  0\n",
      "2007  1 31  0  0\n",
      "2007  2  1  0  0\n",
      "2007  2  2  0  0\n",
      "2007  2  3  0  0\n",
      "2007  2  4  0  0\n",
      "2007  2  5  0  0\n",
      "2007  2  6  0  0\n",
      "2007  2  7  0  0\n",
      "2007  2  8  0  0\n",
      "2007  2  9  0  0\n",
      "2007  2 10  0  0\n",
      "2007  2 11  0  0\n",
      "2007  2 12  0  0\n",
      "2007  2 13  0  0\n",
      "2007  2 14  0  0\n",
      "2007  2 15  0  0\n",
      "2007  2 16  0  0\n",
      "2007  2 17  0  0\n",
      "2007  2 18  0  0\n",
      "2007  2 19  0  0\n",
      "2007  2 20  0  0\n",
      "2007  2 21  0  0\n",
      "2007  2 22  0  0\n",
      "2007  2 23  0  0\n",
      "2007  2 24  0  0\n",
      "2007  2 25  0  0\n",
      "2007  2 26  0  0\n",
      "2007  2 27  0  0\n",
      "2007  2 28  0  0\n",
      "2007  3  1  0  0\n",
      "2007  3  2  0  0\n",
      "2007  3  3  0  0\n",
      "2007  3  4  0  0\n",
      "2007  3  5  0  0\n",
      "2007  3  6  0  0\n",
      "2007  3  7  0  0\n",
      "2007  3  8  0  0\n",
      "2007  3  9  0  0\n",
      "2007  3 10  0  0\n",
      "2007  3 11  0  0\n",
      "2007  3 12  0  0\n",
      "2007  3 13  0  0\n",
      "2007  3 14  0  0\n",
      "2007  3 15  0  0\n",
      "2007  3 16  0  0\n",
      "2007  3 17  0  0\n",
      "2007  3 18  0  0\n",
      "2007  3 19  0  0\n",
      "2007  3 20  0  0\n",
      "2007  3 21  0  0\n",
      "2007  3 22  0  0\n",
      "2007  3 23  0  0\n",
      "2007  3 24  0  0\n",
      "2007  3 25  0  0\n",
      "2007  3 26  0  0\n",
      "2007  3 27  0  0\n",
      "2007  3 28  0  0\n",
      "2007  3 29  0  0\n",
      "2007  3 30  0  0\n",
      "2007  3 31  0  0\n",
      "2007  4  1  0  0\n",
      "2007  4  2  0  0\n",
      "2007  4  3  0  0\n",
      "2007  4  4  0  0\n",
      "2007  4  5  0  0\n",
      "2007  4  6  0  0\n",
      "2007  4  7  0  0\n",
      "2007  4  8  0  0\n",
      "2007  4  9  0  0\n",
      "2007  4 10  0  0\n",
      "2007  4 11  0  0\n",
      "2007  4 12  0  0\n",
      "2007  4 13  0  0\n",
      "2007  4 14  0  0\n",
      "2007  4 15  0  0\n",
      "2007  4 16  0  0\n",
      "2007  4 17  0  0\n",
      "2007  4 18  0  0\n",
      "2007  4 19  0  0\n",
      "2007  4 20  0  0\n",
      "2007  4 21  0  0\n",
      "2007  4 22  0  0\n",
      "2007  4 23  0  0\n",
      "2007  4 24  0  0\n",
      "2007  4 25  0  0\n",
      "2007  4 26  0  0\n",
      "2007  4 27  0  0\n",
      "2007  4 28  0  0\n",
      "2007  4 29  0  0\n",
      "2007  4 30  0  0\n",
      "2007  5  1  0  0\n",
      "2007  5  2  0  0\n",
      "2007  5  3  0  0\n",
      "2007  5  4  0  0\n",
      "2007  5  5  0  0\n",
      "2007  5  6  0  0\n",
      "2007  5  7  0  0\n",
      "2007  5  8  0  0\n",
      "2007  5  9  0  0\n",
      "2007  5 10  0  0\n",
      "2007  5 11  0  0\n",
      "2007  5 12  0  0\n",
      "2007  5 13  0  0\n",
      "2007  5 14  0  0\n",
      "2007  5 15  0  0\n",
      "2007  5 16  0  0\n",
      "2007  5 17  0  0\n",
      "2007  5 18  0  0\n",
      "2007  5 19  0  0\n",
      "2007  5 20  0  0\n",
      "2007  5 21  0  0\n",
      "2007  5 22  0  0\n",
      "2007  5 23  0  0\n",
      "2007  5 24  0  0\n",
      "2007  5 25  0  0\n",
      "2007  5 26  0  0\n",
      "2007  5 27  0  0\n",
      "2007  5 28  0  0\n",
      "2007  5 29  0  0\n",
      "2007  5 30  0  0\n",
      "2007  5 31  0  0\n",
      "2007  6  1  0  0\n",
      "2007  6  2  0  0\n",
      "2007  6  3  0  0\n",
      "2007  6  4  0  0\n",
      "2007  6  5  0  0\n",
      "2007  6  6  0  0\n",
      "2007  6  7  0  0\n",
      "2007  6  8  0  0\n",
      "2007  6  9  0  0\n",
      "2007  6 10  0  0\n",
      "2007  6 11  0  0\n",
      "2007  6 12  0  0\n",
      "2007  6 13  0  0\n",
      "2007  6 14  0  0\n",
      "2007  6 15  0  0\n",
      "2007  6 16  0  0\n",
      "2007  6 17  0  0\n",
      "2007  6 18  0  0\n",
      "2007  6 19  0  0\n",
      "2007  6 20  0  0\n",
      "2007  6 21  0  0\n",
      "2007  6 22  0  0\n",
      "2007  6 23  0  0\n",
      "2007  6 24  0  0\n",
      "2007  6 25  0  0\n",
      "2007  6 26  0  0\n",
      "2007  6 27  0  0\n",
      "2007  6 28  0  0\n",
      "2007  6 29  0  0\n",
      "2007  6 30  0  0\n",
      "2007  7  1  0  0\n",
      "2007  7  2  0  0\n",
      "2007  7  3  0  0\n",
      "2007  7  4  0  0\n",
      "2007  7  5  0  0\n",
      "2007  7  6  0  0\n",
      "2007  7  7  0  0\n",
      "2007  7  8  0  0\n",
      "2007  7  9  0  0\n",
      "2007  7 10  0  0\n",
      "2007  7 11  0  0\n",
      "2007  7 12  0  0\n",
      "2007  7 13  0  0\n",
      "2007  7 14  0  0\n",
      "2007  7 15  0  0\n",
      "2007  7 16  0  0\n",
      "2007  7 17  0  0\n",
      "2007  7 18  0  0\n",
      "2007  7 19  0  0\n",
      "2007  7 20  0  0\n",
      "2007  7 21  0  0\n",
      "2007  7 22  0  0\n",
      "2007  7 23  0  0\n",
      "2007  7 24  0  0\n",
      "2007  7 25  0  0\n",
      "2007  7 26  0  0\n",
      "2007  7 27  0  0\n",
      "2007  7 28  0  0\n",
      "2007  7 29  0  0\n",
      "2007  7 30  0  0\n",
      "2007  7 31  0  0\n",
      "2007  8  1  0  0\n",
      "2007  8  2  0  0\n",
      "2007  8  3  0  0\n",
      "2007  8  4  0  0\n",
      "2007  8  5  0  0\n",
      "2007  8  6  0  0\n",
      "2007  8  7  0  0\n",
      "2007  8  8  0  0\n",
      "2007  8  9  0  0\n",
      "2007  8 10  0  0\n",
      "2007  8 11  0  0\n",
      "2007  8 12  0  0\n",
      "2007  8 13  0  0\n",
      "2007  8 14  0  0\n",
      "2007  8 15  0  0\n",
      "2007  8 16  0  0\n",
      "2007  8 17  0  0\n",
      "2007  8 18  0  0\n",
      "2007  8 19  0  0\n",
      "2007  8 20  0  0\n",
      "2007  8 21  0  0\n",
      "2007  8 22  0  0\n",
      "2007  8 23  0  0\n",
      "2007  8 24  0  0\n",
      "2007  8 25  0  0\n",
      "2007  8 26  0  0\n",
      "2007  8 27  0  0\n",
      "2007  8 28  0  0\n",
      "2007  8 29  0  0\n",
      "2007  8 30  0  0\n",
      "2007  8 31  0  0\n",
      "2007  9  1  0  0\n",
      "2007  9  2  0  0\n",
      "2007  9  3  0  0\n",
      "2007  9  4  0  0\n",
      "2007  9  5  0  0\n",
      "2007  9  6  0  0\n",
      "2007  9  7  0  0\n",
      "2007  9  8  0  0\n",
      "2007  9  9  0  0\n",
      "2007  9 10  0  0\n",
      "2007  9 11  0  0\n",
      "2007  9 12  0  0\n",
      "2007  9 13  0  0\n",
      "2007  9 14  0  0\n",
      "2007  9 15  0  0\n",
      "2007  9 16  0  0\n",
      "2007  9 17  0  0\n",
      "2007  9 18  0  0\n",
      "2007  9 19  0  0\n",
      "2007  9 20  0  0\n",
      "2007  9 21  0  0\n",
      "2007  9 22  0  0\n",
      "2007  9 23  0  0\n",
      "2007  9 24  0  0\n",
      "2007  9 25  0  0\n",
      "2007  9 26  0  0\n",
      "2007  9 27  0  0\n",
      "2007  9 28  0  0\n",
      "2007  9 29  0  0\n",
      "2007  9 30  0  0\n",
      "2007 10  1  0  0\n",
      "2007 10  2  0  0\n",
      "2007 10  3  0  0\n",
      "2007 10  4  0  0\n",
      "2007 10  5  0  0\n",
      "2007 10  6  0  0\n",
      "2007 10  7  0  0\n",
      "2007 10  8  0  0\n",
      "2007 10  9  0  0\n",
      "2007 10 10  0  0\n",
      "2007 10 11  0  0\n",
      "2007 10 12  0  0\n",
      "2007 10 13  0  0\n",
      "2007 10 14  0  0\n",
      "2007 10 15  0  0\n",
      "2007 10 16  0  0\n",
      "2007 10 17  0  0\n",
      "2007 10 18  0  0\n",
      "2007 10 19  0  0\n",
      "2007 10 20  0  0\n",
      "2007 10 21  0  0\n",
      "2007 10 22  0  0\n",
      "2007 10 23  0  0\n",
      "2007 10 24  0  0\n",
      "2007 10 25  0  0\n",
      "2007 10 26  0  0\n",
      "2007 10 27  0  0\n",
      "2007 10 28  0  0\n",
      "2007 10 29  0  0\n",
      "2007 10 30  0  0\n",
      "2007 10 31  0  0\n",
      "2007 11  1  0  0\n",
      "2007 11  2  0  0\n",
      "2007 11  3  0  0\n",
      "2007 11  4  0  0\n",
      "2007 11  5  0  0\n",
      "2007 11  6  0  0\n",
      "2007 11  7  0  0\n",
      "2007 11  8  0  0\n",
      "2007 11  9  0  0\n",
      "2007 11 10  0  0\n",
      "2007 11 11  0  0\n",
      "2007 11 12  0  0\n",
      "2007 11 13  0  0\n",
      "2007 11 14  0  0\n",
      "2007 11 15  0  0\n",
      "2007 11 16  0  0\n",
      "2007 11 17  0  0\n",
      "2007 11 18  0  0\n",
      "2007 11 19  0  0\n",
      "2007 11 20  0  0\n",
      "2007 11 21  0  0\n",
      "2007 11 22  0  0\n",
      "2007 11 23  0  0\n",
      "2007 11 24  0  0\n",
      "2007 11 25  0  0\n",
      "2007 11 26  0  0\n",
      "2007 11 27  0  0\n",
      "2007 11 28  0  0\n",
      "2007 11 29  0  0\n",
      "2007 11 30  0  0\n",
      "2007 12  1  0  0\n",
      "2007 12  2  0  0\n",
      "2007 12  3  0  0\n",
      "2007 12  4  0  0\n",
      "2007 12  5  0  0\n",
      "2007 12  6  0  0\n",
      "2007 12  7  0  0\n",
      "2007 12  8  0  0\n",
      "2007 12  9  0  0\n",
      "2007 12 10  0  0\n",
      "2007 12 11  0  0\n",
      "2007 12 12  0  0\n",
      "2007 12 13  0  0\n",
      "2007 12 14  0  0\n",
      "2007 12 15  0  0\n",
      "2007 12 16  0  0\n",
      "2007 12 17  0  0\n",
      "2007 12 18  0  0\n",
      "2007 12 19  0  0\n",
      "2007 12 20  0  0\n",
      "2007 12 21  0  0\n",
      "2007 12 22  0  0\n",
      "2007 12 23  0  0\n",
      "2007 12 24  0  0\n",
      "2007 12 25  0  0\n",
      "2007 12 26  0  0\n",
      "2007 12 27  0  0\n",
      "2007 12 28  0  0\n",
      "2007 12 29  0  0\n",
      "2007 12 30  0  0\n",
      "2007 12 31  0  0\n",
      "2008  1  1  0  0\n",
      "2008  1  2  0  0\n",
      "2008  1  3  0  0\n",
      "2008  1  4  0  0\n",
      "2008  1  5  0  0\n",
      "2008  1  6  0  0\n",
      "2008  1  7  0  0\n",
      "2008  1  8  0  0\n",
      "2008  1  9  0  0\n",
      "2008  1 10  0  0\n",
      "2008  1 11  0  0\n",
      "2008  1 12  0  0\n",
      "2008  1 13  0  0\n",
      "2008  1 14  0  0\n",
      "2008  1 15  0  0\n",
      "2008  1 16  0  0\n",
      "2008  1 17  0  0\n",
      "2008  1 18  0  0\n",
      "2008  1 19  0  0\n",
      "2008  1 20  0  0\n",
      "2008  1 21  0  0\n",
      "2008  1 22  0  0\n",
      "2008  1 23  0  0\n",
      "2008  1 24  0  0\n",
      "2008  1 25  0  0\n",
      "2008  1 26  0  0\n",
      "2008  1 27  0  0\n",
      "2008  1 28  0  0\n",
      "2008  1 29  0  0\n",
      "2008  1 30  0  0\n",
      "2008  1 31  0  0\n",
      "2008  2  1  0  0\n",
      "2008  2  2  0  0\n",
      "2008  2  3  0  0\n",
      "2008  2  4  0  0\n",
      "2008  2  5  0  0\n",
      "2008  2  6  0  0\n",
      "2008  2  7  0  0\n",
      "2008  2  8  0  0\n",
      "2008  2  9  0  0\n",
      "2008  2 10  0  0\n",
      "2008  2 11  0  0\n",
      "2008  2 12  0  0\n",
      "2008  2 13  0  0\n",
      "2008  2 14  0  0\n",
      "2008  2 15  0  0\n",
      "2008  2 16  0  0\n",
      "2008  2 17  0  0\n",
      "2008  2 18  0  0\n",
      "2008  2 19  0  0\n",
      "2008  2 20  0  0\n",
      "2008  2 21  0  0\n",
      "2008  2 22  0  0\n",
      "2008  2 23  0  0\n",
      "2008  2 24  0  0\n",
      "2008  2 25  0  0\n",
      "2008  2 26  0  0\n",
      "2008  2 27  0  0\n",
      "2008  2 28  0  0\n",
      "2008  2 29  0  0\n",
      "2008  3  1  0  0\n",
      "2008  3  2  0  0\n",
      "2008  3  3  0  0\n",
      "2008  3  4  0  0\n",
      "2008  3  5  0  0\n",
      "2008  3  6  0  0\n",
      "2008  3  7  0  0\n",
      "2008  3  8  0  0\n",
      "2008  3  9  0  0\n",
      "2008  3 10  0  0\n",
      "2008  3 11  0  0\n",
      "2008  3 12  0  0\n",
      "2008  3 13  0  0\n",
      "2008  3 14  0  0\n",
      "2008  3 15  0  0\n",
      "2008  3 16  0  0\n",
      "2008  3 17  0  0\n",
      "2008  3 18  0  0\n",
      "2008  3 19  0  0\n",
      "2008  3 20  0  0\n",
      "2008  3 21  0  0\n",
      "2008  3 22  0  0\n",
      "2008  3 23  0  0\n",
      "2008  3 24  0  0\n",
      "2008  3 25  0  0\n",
      "2008  3 26  0  0\n",
      "2008  3 27  0  0\n",
      "2008  3 28  0  0\n",
      "2008  3 29  0  0\n",
      "2008  3 30  0  0\n",
      "2008  3 31  0  0\n",
      "2008  4  1  0  0\n",
      "2008  4  2  0  0\n",
      "2008  4  3  0  0\n",
      "2008  4  4  0  0\n",
      "2008  4  5  0  0\n",
      "2008  4  6  0  0\n",
      "2008  4  7  0  0\n",
      "2008  4  8  0  0\n",
      "2008  4  9  0  0\n",
      "2008  4 10  0  0\n",
      "2008  4 11  0  0\n",
      "2008  4 12  0  0\n",
      "2008  4 13  0  0\n",
      "2008  4 14  0  0\n",
      "2008  4 15  0  0\n",
      "2008  4 16  0  0\n",
      "2008  4 17  0  0\n",
      "2008  4 18  0  0\n",
      "2008  4 19  0  0\n",
      "2008  4 20  0  0\n",
      "2008  4 21  0  0\n",
      "2008  4 22  0  0\n",
      "2008  4 23  0  0\n",
      "2008  4 24  0  0\n",
      "2008  4 25  0  0\n",
      "2008  4 26  0  0\n",
      "2008  4 27  0  0\n",
      "2008  4 28  0  0\n",
      "2008  4 29  0  0\n",
      "2008  4 30  0  0\n",
      "2008  5  1  0  0\n",
      "2008  5  2  0  0\n",
      "2008  5  3  0  0\n",
      "2008  5  4  0  0\n",
      "2008  5  5  0  0\n",
      "2008  5  6  0  0\n",
      "2008  5  7  0  0\n",
      "2008  5  8  0  0\n",
      "2008  5  9  0  0\n",
      "2008  5 10  0  0\n",
      "2008  5 11  0  0\n",
      "2008  5 12  0  0\n",
      "2008  5 13  0  0\n",
      "2008  5 14  0  0\n",
      "2008  5 15  0  0\n",
      "2008  5 16  0  0\n",
      "2008  5 17  0  0\n",
      "2008  5 18  0  0\n",
      "2008  5 19  0  0\n",
      "2008  5 20  0  0\n",
      "2008  5 21  0  0\n",
      "2008  5 22  0  0\n",
      "2008  5 23  0  0\n",
      "2008  5 24  0  0\n",
      "2008  5 25  0  0\n",
      "2008  5 26  0  0\n",
      "2008  5 27  0  0\n",
      "2008  5 28  0  0\n",
      "2008  5 29  0  0\n",
      "2008  5 30  0  0\n",
      "2008  5 31  0  0\n",
      "2008  6  1  0  0\n",
      "2008  6  2  0  0\n",
      "2008  6  3  0  0\n",
      "2008  6  4  0  0\n",
      "2008  6  5  0  0\n",
      "2008  6  6  0  0\n",
      "2008  6  7  0  0\n",
      "2008  6  8  0  0\n",
      "2008  6  9  0  0\n",
      "2008  6 10  0  0\n",
      "2008  6 11  0  0\n",
      "2008  6 12  0  0\n",
      "2008  6 13  0  0\n",
      "2008  6 14  0  0\n",
      "2008  6 15  0  0\n",
      "2008  6 16  0  0\n",
      "2008  6 17  0  0\n",
      "2008  6 18  0  0\n",
      "2008  6 19  0  0\n",
      "2008  6 20  0  0\n",
      "2008  6 21  0  0\n",
      "2008  6 22  0  0\n",
      "2008  6 23  0  0\n",
      "2008  6 24  0  0\n",
      "2008  6 25  0  0\n",
      "2008  6 26  0  0\n",
      "2008  6 27  0  0\n",
      "2008  6 28  0  0\n",
      "2008  6 29  0  0\n",
      "2008  6 30  0  0\n",
      "2008  7  1  0  0\n",
      "2008  7  2  0  0\n",
      "2008  7  3  0  0\n",
      "2008  7  4  0  0\n",
      "2008  7  5  0  0\n",
      "2008  7  6  0  0\n",
      "2008  7  7  0  0\n",
      "2008  7  8  0  0\n",
      "2008  7  9  0  0\n",
      "2008  7 10  0  0\n",
      "2008  7 11  0  0\n",
      "2008  7 12  0  0\n",
      "2008  7 13  0  0\n",
      "2008  7 14  0  0\n",
      "2008  7 15  0  0\n",
      "2008  7 16  0  0\n",
      "2008  7 17  0  0\n",
      "2008  7 18  0  0\n",
      "2008  7 19  0  0\n",
      "2008  7 20  0  0\n",
      "2008  7 21  0  0\n",
      "2008  7 22  0  0\n",
      "2008  7 23  0  0\n",
      "2008  7 24  0  0\n",
      "2008  7 25  0  0\n",
      "2008  7 26  0  0\n",
      "2008  7 27  0  0\n",
      "2008  7 28  0  0\n",
      "2008  7 29  0  0\n",
      "2008  7 30  0  0\n",
      "2008  7 31  0  0\n",
      "2008  8  1  0  0\n",
      "2008  8  2  0  0\n",
      "2008  8  3  0  0\n",
      "2008  8  4  0  0\n",
      "2008  8  5  0  0\n",
      "2008  8  6  0  0\n",
      "2008  8  7  0  0\n",
      "2008  8  8  0  0\n",
      "2008  8  9  0  0\n",
      "2008  8 10  0  0\n",
      "2008  8 11  0  0\n",
      "2008  8 12  0  0\n",
      "2008  8 13  0  0\n",
      "2008  8 14  0  0\n",
      "2008  8 15  0  0\n",
      "2008  8 16  0  0\n",
      "2008  8 17  0  0\n",
      "2008  8 18  0  0\n",
      "2008  8 19  0  0\n",
      "2008  8 20  0  0\n",
      "2008  8 21  0  0\n",
      "2008  8 22  0  0\n",
      "2008  8 23  0  0\n",
      "2008  8 24  0  0\n",
      "2008  8 25  0  0\n",
      "2008  8 26  0  0\n",
      "2008  8 27  0  0\n",
      "2008  8 28  0  0\n",
      "2008  8 29  0  0\n",
      "2008  8 30  0  0\n",
      "2008  8 31  0  0\n",
      "2008  9  1  0  0\n",
      "2008  9  2  0  0\n",
      "2008  9  3  0  0\n",
      "2008  9  4  0  0\n",
      "2008  9  5  0  0\n",
      "2008  9  6  0  0\n",
      "2008  9  7  0  0\n",
      "2008  9  8  0  0\n",
      "2008  9  9  0  0\n",
      "2008  9 10  0  0\n",
      "2008  9 11  0  0\n",
      "2008  9 12  0  0\n",
      "2008  9 13  0  0\n",
      "2008  9 14  0  0\n",
      "2008  9 15  0  0\n",
      "2008  9 16  0  0\n",
      "2008  9 17  0  0\n",
      "2008  9 18  0  0\n",
      "2008  9 19  0  0\n",
      "2008  9 20  0  0\n",
      "2008  9 21  0  0\n",
      "2008  9 22  0  0\n",
      "2008  9 23  0  0\n",
      "2008  9 24  0  0\n",
      "2008  9 25  0  0\n",
      "2008  9 26  0  0\n",
      "2008  9 27  0  0\n",
      "2008  9 28  0  0\n",
      "2008  9 29  0  0\n",
      "2008  9 30  0  0\n",
      "\n",
      "initial date/time = 2018-11-25   5:57:21.586\n",
      "  final date/time = 2018-11-25   5:58:52.292\n",
      "\n",
      "     elapsed init =   0.1140000     s\n",
      "    fraction init =   1.2568077E-03 s\n",
      "\n",
      "     elapsed read =    1.003000     s\n",
      "    fraction read =   1.1057703E-02 s\n",
      "\n",
      "    elapsed write =    7.753000     s\n",
      "   fraction write =   8.5473949E-02 s\n",
      "\n",
      "  elapsed physics =    81.34700     s\n",
      " fraction physics =   0.8968205     s\n",
      "\n",
      "     elapsed time =    90.70600     s\n",
      "       or              1.511767     m\n",
      "       or             2.5196111E-02 h\n",
      "       or             1.0498380E-03 d\n",
      "\n",
      "   number threads =          1\n",
      "\n",
      " FORTRAN STOP: finished simulation successfully.\n",
      "Note: The following floating-point exceptions are signalling: IEEE_INVALID_FLAG IEEE_UNDERFLOW_FLAG IEEE_DENORMAL\n",
      "meta_force           -> OK\n",
      "local_attr           -> OK\n",
      "output_path          -> OK\n",
      "meta_index           -> OK\n",
      "meta_attr            -> OK\n",
      "setting_path         -> OK\n",
      "output_prefix        -> OK\n",
      "initial_cond         -> OK\n",
      "meta_type            -> OK\n",
      "meta_localpar        -> OK\n",
      "forcing_list         -> OK\n",
      "basin_par            -> OK\n",
      "OUTPUT_CONTROL       -> OK\n",
      "para_trial           -> OK\n",
      "local_par            -> OK\n",
      "input_path           -> OK\n",
      "meta_basinvar        -> OK\n",
      "decision             -> OK\n",
      "fman_ver             -> OK\n",
      "meta_basinpar        -> OK\n",
      "meta_time            -> OK\n",
      "Running SUMMA simulation\n",
      "\n"
     ]
    }
   ],
   "source": [
    "results_UEB_2stream, out_file = S.execute(run_suffix=\"UEB_2stream\", run_option = 'specworker', specworker_img='cuahsi/summa:sopron')"
   ]
  },
  {
   "cell_type": "code",
   "execution_count": 13,
   "metadata": {},
   "outputs": [],
   "source": [
    "# get xarry output and output path if you executed SUMMA.\n",
    "S.output_prefix.value = \"UEB_2stream\"\n",
    "results_UEB_2stream, out_file = S.get_output(\"cuahsi_sopron\", S.output_prefix.value)"
   ]
  },
  {
   "cell_type": "markdown",
   "metadata": {},
   "source": [
    "## 4. Results"
   ]
  },
  {
   "cell_type": "markdown",
   "metadata": {},
   "source": [
    "### Recreate the Figure 1(below) plot from Clark et al., 2015: The Impact of LAI parameter on the below canopy shortwave radiation of SUMMA Model at Reynolds Mountain East"
   ]
  },
  {
   "cell_type": "code",
   "execution_count": 14,
   "metadata": {},
   "outputs": [],
   "source": [
    "from pysumma.Plotting import Plotting\n",
    "from jupyterthemes import jtplot\n",
    "#import matplotlib.pyplot as plt\n",
    "import pandas as pd\n",
    "jtplot.figsize(x=10, y=10)"
   ]
  },
  {
   "cell_type": "markdown",
   "metadata": {},
   "source": [
    "#### 4.1) Create function to calculate below canopy shortwave radiation from SUMMA output"
   ]
  },
  {
   "cell_type": "code",
   "execution_count": 15,
   "metadata": {},
   "outputs": [],
   "source": [
    "# get output netCDF and resample data by the average for hour of day\n",
    "def calc_short_radiation(rad_output_df, start_time, end_time):\n",
    "    # get 'solar radiation transmitted below the canopy' data from output netCDF, unit : Wm-2\n",
    "    short_radiation_data = rad_output_df['scalarBelowCanopySolar']\n",
    "    # create dates(X-axis) attribute from ouput netcdf\n",
    "    dates = short_radiation_data.coords['time'].data\n",
    "    # create data value(Y-axis) attribute from ouput netcdf\n",
    "    data_values = short_radiation_data.data\n",
    "    # create two dimensional tabular data structure \n",
    "    short_radiation_df = pd.DataFrame(data_values, index=dates)\n",
    "    # round time to nearest hour (ex. 2006-10-01T00:59:59.99 -> 2006-10-01T01:00:00)\n",
    "    short_radiation_df.index = short_radiation_df.index.round(\"H\")\n",
    "    # set the time period to display plot \n",
    "    short_radiation_df = short_radiation_df.loc[start_time:end_time] #\"2006-07-01\":\"2007-09-30\"\n",
    "    # resample data by the average value hourly\n",
    "    short_radiation_df_hourly = short_radiation_df.resample(\"H\").mean()\n",
    "    # resample data by the average for hour of day\n",
    "    short_radiation_by_hour = short_radiation_df_hourly.groupby(short_radiation_df_hourly.index.hour).mean()\n",
    "    return short_radiation_by_hour"
   ]
  },
  {
   "cell_type": "markdown",
   "metadata": {},
   "source": [
    "#### 4.2) Get hour of day output of the four below canopy shortwave radiation parameterization for the specific period (2005-10-01~2006-09-30)"
   ]
  },
  {
   "cell_type": "code",
   "execution_count": 16,
   "metadata": {},
   "outputs": [],
   "source": [
    "UEB_2stream_hour = calc_short_radiation(results_UEB_2stream, \"2005-10-01\", \"2006-09-30\")"
   ]
  },
  {
   "cell_type": "code",
   "execution_count": 17,
   "metadata": {},
   "outputs": [],
   "source": [
    "UEB_2stream_LAI_1_00 = UEB_2stream_hour[0]\n",
    "UEB_2stream_LAI_1_25 = UEB_2stream_hour[1]\n",
    "UEB_2stream_LAI_1_50 = UEB_2stream_hour[2]\n",
    "UEB_2stream_LAI_1_75 = UEB_2stream_hour[3]\n",
    "UEB_2stream_LAI_2_00 = UEB_2stream_hour[4]"
   ]
  },
  {
   "cell_type": "markdown",
   "metadata": {},
   "source": [
    "#### 4.3) Create function to get below canopy shortwave radiation from forcing data"
   ]
  },
  {
   "cell_type": "code",
   "execution_count": 18,
   "metadata": {},
   "outputs": [],
   "source": [
    "# get forcing netCDF and resample data by the average for hour of day\n",
    "def calc_forcing(forcing_df, start_time, end_time):\n",
    "    # get 'downward shortwave radiation at the upper boundary' data from forcing netCDF, unit : Wm-2\n",
    "    forcing_data = forcing_df['SWRadAtm']\n",
    "    # create dates(X-axis) attribute from ouput netcdf\n",
    "    dates = forcing_data.coords['time'].data\n",
    "    # create data value(Y-axis) attribute from ouput netcdf\n",
    "    data_values = forcing_data.data\n",
    "    # create two dimensional tabular data structure \n",
    "    total_forcing_df = pd.DataFrame(data_values, index=dates)\n",
    "    # round time to nearest hour (ex. 2006-10-01T00:59:59.99 -> 2006-10-01T01:00:00)\n",
    "    total_forcing_df.index = total_forcing_df.index.round(\"H\")\n",
    "    # set the time period to display plot \n",
    "    total_forcing_df = total_forcing_df.loc[start_time:end_time]\n",
    "    # resample data by the average value hourly\n",
    "    total_forcing_df_hourly = total_forcing_df.resample(\"H\").mean()\n",
    "    # resample data by the average for hour of day\n",
    "    total_forcing_by_hour = total_forcing_df_hourly.groupby(total_forcing_df_hourly.index.hour).mean()\n",
    "    return total_forcing_by_hour"
   ]
  },
  {
   "cell_type": "markdown",
   "metadata": {},
   "source": [
    "#### 4.4) Get hour of day forcing of the four below canopy shortwave radiation parameterizations for the specific period (2005-10-01~2006-09-30)"
   ]
  },
  {
   "cell_type": "code",
   "execution_count": 19,
   "metadata": {},
   "outputs": [],
   "source": [
    "import xarray as xr\n",
    "forcing_path =file_manager.split('/settings')[0]+'/data/forcingData/forcing_above_aspen.nc'\n",
    "forcing = xr.open_dataset(forcing_path)"
   ]
  },
  {
   "cell_type": "code",
   "execution_count": 20,
   "metadata": {},
   "outputs": [],
   "source": [
    "forcing_data = calc_forcing(forcing, \"2005-10-01\", \"2006-09-30\")"
   ]
  },
  {
   "cell_type": "markdown",
   "metadata": {},
   "source": [
    "#### 4.5) Combine the below canopy shortwave radiation parameterizations into a single Pandas Dataframe (2005-10-01~2006-09-30)"
   ]
  },
  {
   "cell_type": "code",
   "execution_count": 21,
   "metadata": {},
   "outputs": [],
   "source": [
    "# Combine each below canopy shortwave radiation parameterizations\n",
    "Radiation_Combine = pd.concat([UEB_2stream_LAI_1_00, UEB_2stream_LAI_1_25, UEB_2stream_LAI_1_50, UEB_2stream_LAI_1_75, UEB_2stream_LAI_2_00, forcing_data], axis=1)\n",
    "# add label \n",
    "Radiation_Combine.columns = [\"LAI = 1.00\", \"LAI = 1.25\", \"LAI = 1.50\", \"LAI = 1.75\", \"LAI = 2.00\", \"Above canopy forcing\"]"
   ]
  },
  {
   "cell_type": "code",
   "execution_count": 22,
   "metadata": {},
   "outputs": [
    {
     "data": {
      "text/html": [
       "<div>\n",
       "<style scoped>\n",
       "    .dataframe tbody tr th:only-of-type {\n",
       "        vertical-align: middle;\n",
       "    }\n",
       "\n",
       "    .dataframe tbody tr th {\n",
       "        vertical-align: top;\n",
       "    }\n",
       "\n",
       "    .dataframe thead th {\n",
       "        text-align: right;\n",
       "    }\n",
       "</style>\n",
       "<table border=\"1\" class=\"dataframe\">\n",
       "  <thead>\n",
       "    <tr style=\"text-align: right;\">\n",
       "      <th></th>\n",
       "      <th>LAI = 1.00</th>\n",
       "      <th>LAI = 1.25</th>\n",
       "      <th>LAI = 1.50</th>\n",
       "      <th>LAI = 1.75</th>\n",
       "      <th>LAI = 2.00</th>\n",
       "      <th>Above canopy forcing</th>\n",
       "    </tr>\n",
       "  </thead>\n",
       "  <tbody>\n",
       "    <tr>\n",
       "      <th>0</th>\n",
       "      <td>0.000000</td>\n",
       "      <td>0.000000</td>\n",
       "      <td>0.000000</td>\n",
       "      <td>0.000000</td>\n",
       "      <td>0.000000</td>\n",
       "      <td>0.000000</td>\n",
       "    </tr>\n",
       "    <tr>\n",
       "      <th>1</th>\n",
       "      <td>0.000000</td>\n",
       "      <td>0.000000</td>\n",
       "      <td>0.000000</td>\n",
       "      <td>0.000000</td>\n",
       "      <td>0.000000</td>\n",
       "      <td>0.000000</td>\n",
       "    </tr>\n",
       "    <tr>\n",
       "      <th>2</th>\n",
       "      <td>0.000000</td>\n",
       "      <td>0.000000</td>\n",
       "      <td>0.000000</td>\n",
       "      <td>0.000000</td>\n",
       "      <td>0.000000</td>\n",
       "      <td>0.000000</td>\n",
       "    </tr>\n",
       "    <tr>\n",
       "      <th>3</th>\n",
       "      <td>0.000000</td>\n",
       "      <td>0.000000</td>\n",
       "      <td>0.000000</td>\n",
       "      <td>0.000000</td>\n",
       "      <td>0.000000</td>\n",
       "      <td>0.000000</td>\n",
       "    </tr>\n",
       "    <tr>\n",
       "      <th>4</th>\n",
       "      <td>0.000000</td>\n",
       "      <td>0.000000</td>\n",
       "      <td>0.000000</td>\n",
       "      <td>0.000000</td>\n",
       "      <td>0.000000</td>\n",
       "      <td>0.000000</td>\n",
       "    </tr>\n",
       "    <tr>\n",
       "      <th>5</th>\n",
       "      <td>0.000000</td>\n",
       "      <td>0.000000</td>\n",
       "      <td>0.000000</td>\n",
       "      <td>0.000000</td>\n",
       "      <td>0.000000</td>\n",
       "      <td>0.000000</td>\n",
       "    </tr>\n",
       "    <tr>\n",
       "      <th>6</th>\n",
       "      <td>0.266894</td>\n",
       "      <td>0.235772</td>\n",
       "      <td>0.210224</td>\n",
       "      <td>0.188790</td>\n",
       "      <td>0.170544</td>\n",
       "      <td>0.868493</td>\n",
       "    </tr>\n",
       "    <tr>\n",
       "      <th>7</th>\n",
       "      <td>12.219209</td>\n",
       "      <td>10.824034</td>\n",
       "      <td>9.642653</td>\n",
       "      <td>8.629992</td>\n",
       "      <td>7.759439</td>\n",
       "      <td>31.739726</td>\n",
       "    </tr>\n",
       "    <tr>\n",
       "      <th>8</th>\n",
       "      <td>52.471320</td>\n",
       "      <td>47.491494</td>\n",
       "      <td>43.136688</td>\n",
       "      <td>39.299758</td>\n",
       "      <td>35.926724</td>\n",
       "      <td>112.805479</td>\n",
       "    </tr>\n",
       "    <tr>\n",
       "      <th>9</th>\n",
       "      <td>121.598173</td>\n",
       "      <td>112.397456</td>\n",
       "      <td>104.179359</td>\n",
       "      <td>96.759561</td>\n",
       "      <td>90.116069</td>\n",
       "      <td>229.090411</td>\n",
       "    </tr>\n",
       "    <tr>\n",
       "      <th>10</th>\n",
       "      <td>212.538764</td>\n",
       "      <td>199.711492</td>\n",
       "      <td>188.110250</td>\n",
       "      <td>177.466583</td>\n",
       "      <td>167.816962</td>\n",
       "      <td>365.671233</td>\n",
       "    </tr>\n",
       "    <tr>\n",
       "      <th>11</th>\n",
       "      <td>301.659396</td>\n",
       "      <td>285.933016</td>\n",
       "      <td>271.615646</td>\n",
       "      <td>258.444607</td>\n",
       "      <td>246.400837</td>\n",
       "      <td>492.008219</td>\n",
       "    </tr>\n",
       "    <tr>\n",
       "      <th>12</th>\n",
       "      <td>359.102261</td>\n",
       "      <td>341.714462</td>\n",
       "      <td>325.859635</td>\n",
       "      <td>311.211146</td>\n",
       "      <td>297.764953</td>\n",
       "      <td>571.342466</td>\n",
       "    </tr>\n",
       "    <tr>\n",
       "      <th>13</th>\n",
       "      <td>376.259526</td>\n",
       "      <td>358.145020</td>\n",
       "      <td>341.623683</td>\n",
       "      <td>326.376672</td>\n",
       "      <td>312.368923</td>\n",
       "      <td>598.134247</td>\n",
       "    </tr>\n",
       "    <tr>\n",
       "      <th>14</th>\n",
       "      <td>352.656915</td>\n",
       "      <td>335.071716</td>\n",
       "      <td>319.058729</td>\n",
       "      <td>304.336218</td>\n",
       "      <td>290.832225</td>\n",
       "      <td>570.789041</td>\n",
       "    </tr>\n",
       "    <tr>\n",
       "      <th>15</th>\n",
       "      <td>293.852276</td>\n",
       "      <td>277.739537</td>\n",
       "      <td>263.118296</td>\n",
       "      <td>249.770761</td>\n",
       "      <td>237.612234</td>\n",
       "      <td>498.301370</td>\n",
       "    </tr>\n",
       "    <tr>\n",
       "      <th>16</th>\n",
       "      <td>211.686642</td>\n",
       "      <td>198.164213</td>\n",
       "      <td>186.065653</td>\n",
       "      <td>175.157438</td>\n",
       "      <td>165.360267</td>\n",
       "      <td>389.660274</td>\n",
       "    </tr>\n",
       "    <tr>\n",
       "      <th>17</th>\n",
       "      <td>123.189340</td>\n",
       "      <td>113.397138</td>\n",
       "      <td>104.837131</td>\n",
       "      <td>97.289832</td>\n",
       "      <td>90.656075</td>\n",
       "      <td>257.890411</td>\n",
       "    </tr>\n",
       "    <tr>\n",
       "      <th>18</th>\n",
       "      <td>53.103029</td>\n",
       "      <td>47.743351</td>\n",
       "      <td>43.231631</td>\n",
       "      <td>39.387251</td>\n",
       "      <td>36.110378</td>\n",
       "      <td>136.213699</td>\n",
       "    </tr>\n",
       "    <tr>\n",
       "      <th>19</th>\n",
       "      <td>15.211228</td>\n",
       "      <td>13.621880</td>\n",
       "      <td>12.304546</td>\n",
       "      <td>11.190477</td>\n",
       "      <td>10.236772</td>\n",
       "      <td>47.610959</td>\n",
       "    </tr>\n",
       "    <tr>\n",
       "      <th>20</th>\n",
       "      <td>1.686322</td>\n",
       "      <td>1.507137</td>\n",
       "      <td>1.349860</td>\n",
       "      <td>1.211241</td>\n",
       "      <td>1.088691</td>\n",
       "      <td>4.263014</td>\n",
       "    </tr>\n",
       "    <tr>\n",
       "      <th>21</th>\n",
       "      <td>0.000000</td>\n",
       "      <td>0.000000</td>\n",
       "      <td>0.000000</td>\n",
       "      <td>0.000000</td>\n",
       "      <td>0.000000</td>\n",
       "      <td>0.000000</td>\n",
       "    </tr>\n",
       "    <tr>\n",
       "      <th>22</th>\n",
       "      <td>0.000000</td>\n",
       "      <td>0.000000</td>\n",
       "      <td>0.000000</td>\n",
       "      <td>0.000000</td>\n",
       "      <td>0.000000</td>\n",
       "      <td>0.000000</td>\n",
       "    </tr>\n",
       "    <tr>\n",
       "      <th>23</th>\n",
       "      <td>0.000000</td>\n",
       "      <td>0.000000</td>\n",
       "      <td>0.000000</td>\n",
       "      <td>0.000000</td>\n",
       "      <td>0.000000</td>\n",
       "      <td>0.000000</td>\n",
       "    </tr>\n",
       "  </tbody>\n",
       "</table>\n",
       "</div>"
      ],
      "text/plain": [
       "    LAI = 1.00  LAI = 1.25  LAI = 1.50  LAI = 1.75  LAI = 2.00  \\\n",
       "0     0.000000    0.000000    0.000000    0.000000    0.000000   \n",
       "1     0.000000    0.000000    0.000000    0.000000    0.000000   \n",
       "2     0.000000    0.000000    0.000000    0.000000    0.000000   \n",
       "3     0.000000    0.000000    0.000000    0.000000    0.000000   \n",
       "4     0.000000    0.000000    0.000000    0.000000    0.000000   \n",
       "5     0.000000    0.000000    0.000000    0.000000    0.000000   \n",
       "6     0.266894    0.235772    0.210224    0.188790    0.170544   \n",
       "7    12.219209   10.824034    9.642653    8.629992    7.759439   \n",
       "8    52.471320   47.491494   43.136688   39.299758   35.926724   \n",
       "9   121.598173  112.397456  104.179359   96.759561   90.116069   \n",
       "10  212.538764  199.711492  188.110250  177.466583  167.816962   \n",
       "11  301.659396  285.933016  271.615646  258.444607  246.400837   \n",
       "12  359.102261  341.714462  325.859635  311.211146  297.764953   \n",
       "13  376.259526  358.145020  341.623683  326.376672  312.368923   \n",
       "14  352.656915  335.071716  319.058729  304.336218  290.832225   \n",
       "15  293.852276  277.739537  263.118296  249.770761  237.612234   \n",
       "16  211.686642  198.164213  186.065653  175.157438  165.360267   \n",
       "17  123.189340  113.397138  104.837131   97.289832   90.656075   \n",
       "18   53.103029   47.743351   43.231631   39.387251   36.110378   \n",
       "19   15.211228   13.621880   12.304546   11.190477   10.236772   \n",
       "20    1.686322    1.507137    1.349860    1.211241    1.088691   \n",
       "21    0.000000    0.000000    0.000000    0.000000    0.000000   \n",
       "22    0.000000    0.000000    0.000000    0.000000    0.000000   \n",
       "23    0.000000    0.000000    0.000000    0.000000    0.000000   \n",
       "\n",
       "    Above canopy forcing  \n",
       "0               0.000000  \n",
       "1               0.000000  \n",
       "2               0.000000  \n",
       "3               0.000000  \n",
       "4               0.000000  \n",
       "5               0.000000  \n",
       "6               0.868493  \n",
       "7              31.739726  \n",
       "8             112.805479  \n",
       "9             229.090411  \n",
       "10            365.671233  \n",
       "11            492.008219  \n",
       "12            571.342466  \n",
       "13            598.134247  \n",
       "14            570.789041  \n",
       "15            498.301370  \n",
       "16            389.660274  \n",
       "17            257.890411  \n",
       "18            136.213699  \n",
       "19             47.610959  \n",
       "20              4.263014  \n",
       "21              0.000000  \n",
       "22              0.000000  \n",
       "23              0.000000  "
      ]
     },
     "execution_count": 22,
     "metadata": {},
     "output_type": "execute_result"
    }
   ],
   "source": [
    "Radiation_Combine"
   ]
  },
  {
   "cell_type": "markdown",
   "metadata": {},
   "source": [
    "#### 4.6) Add obervation data from Aspen station and Reynolds Mountain East to the plot (2005-10-01~2006-09-30)"
   ]
  },
  {
   "cell_type": "code",
   "execution_count": 23,
   "metadata": {},
   "outputs": [],
   "source": [
    "# create pySUMMA Plotting Object\n",
    "Val_eddyFlux = Plotting(file_manager.split('/settings')[0]+'/data/validationData/ReynoldsCreek_eddyFlux.nc')"
   ]
  },
  {
   "cell_type": "code",
   "execution_count": 24,
   "metadata": {},
   "outputs": [],
   "source": [
    "def obs_radiation(Val_eddyFlux, start_time, end_time):\n",
    "    # read upward solar radiation from CNR 1(rsd) from validation netcdf file\n",
    "    Obs_radiation = Val_eddyFlux.ds['rsd']\n",
    "    # create dates(X-axis) attribute from validation netcdf file\n",
    "    dates = Obs_radiation.coords['time'].data\n",
    "    data_values = Obs_radiation.data  \n",
    "    # create two dimensional tabular data structure \n",
    "    df = pd.DataFrame(data_values, index=dates)\n",
    "    # set the time period to display plot\n",
    "    df_filt = df.loc[start_time:end_time]\n",
    "    # select aspen obervation station among three different stations\n",
    "    df_filt.columns = ['-','-','Observation (aspen)']\n",
    "    # resample data by the average for hour of day\n",
    "    df_gp_hr = df_filt.groupby([df_filt.index.hour, df_filt.index.minute]).mean()\n",
    "    # reset index so each row has an hour an minute column\n",
    "    df_gp_hr.reset_index(inplace=True)\n",
    "    # add hour and minute columns for plotting\n",
    "    xvals = df_gp_hr.reset_index()['level_0'] + df_gp_hr.reset_index()['level_1']/60.\n",
    "    return xvals, df_gp_hr"
   ]
  },
  {
   "cell_type": "code",
   "execution_count": 25,
   "metadata": {},
   "outputs": [],
   "source": [
    "xvals, df_gp_hr = obs_radiation(Val_eddyFlux, \"2005-10-01\", \"2006-09-30\")"
   ]
  },
  {
   "cell_type": "markdown",
   "metadata": {},
   "source": [
    "#### 4.7) Plotting output of four different below canopy shortwave radiation parameterizations, forcing data and observation data (2005-10-01~2006-09-30)"
   ]
  },
  {
   "cell_type": "code",
   "execution_count": 30,
   "metadata": {
    "scrolled": false
   },
   "outputs": [
    {
     "data": {
      "image/png": "[encoded data removed]",
      "text/plain": [
       "<matplotlib.figure.Figure at 0x7fbebced88d0>"
      ]
     },
     "metadata": {
      "needs_background": "light"
     },
     "output_type": "display_data"
    }
   ],
   "source": [
    "# create plot with four different below canopy shortwave radiation parameterizations\n",
    "Radiation_Combine_Graph = Radiation_Combine.plot(legend=False)\n",
    "\n",
    "Radiation_Combine_Graph.plot(Radiation_Combine['Above canopy forcing'], color='k', marker='')\n",
    "Radiation_Combine_Graph.plot(Radiation_Combine[\"LAI = 1.00\"], color='b', marker='^') \n",
    "Radiation_Combine_Graph.plot(Radiation_Combine['LAI = 1.25'], color='c', marker='o')\n",
    "Radiation_Combine_Graph.plot(Radiation_Combine['LAI = 1.50'], color='g', marker='d')\n",
    "Radiation_Combine_Graph.plot(Radiation_Combine['LAI = 1.75'], color='y', marker='p')\n",
    "Radiation_Combine_Graph.plot(Radiation_Combine['LAI = 2.00'], color='r', marker='x')\n",
    "\n",
    "Radiation_Combine_Graph.tick_params(labelsize = 20)\n",
    "# plot scatter with x='xvals', y='Observation (aspen)'\n",
    "d = Radiation_Combine_Graph.scatter(xvals, df_gp_hr['Observation (aspen)'], color='black')\n",
    "\n",
    "# add x, y label\n",
    "Radiation_Combine_Graph.set_xlabel(\"Time of day (hr)\", fontsize=20)\n",
    "Radiation_Combine_Graph.set_ylabel(\"below canopy shortwave radiation (Wm-2)\", fontsize=20)\n",
    "\n",
    "handles, labels = Radiation_Combine_Graph.get_legend_handles_labels()\n",
    "# show up the legend\n",
    "Radiation_Combine_Graph.legend(handles[6:12], labels[6:12], fontsize=16)\n",
    "jtplot.figsize(x=10, y=10)"
   ]
  },
  {
   "cell_type": "markdown",
   "metadata": {},
   "source": [
    "#### 4.8) Get hour of day output of the four below canopy shortwave radiation parameterization for the specific period (2006-10-01~2007-09-30)"
   ]
  },
  {
   "cell_type": "code",
   "execution_count": 31,
   "metadata": {},
   "outputs": [],
   "source": [
    "UEB_2stream_hour = calc_short_radiation(results_UEB_2stream, \"2006-10-01\", \"2007-09-30\")"
   ]
  },
  {
   "cell_type": "code",
   "execution_count": 32,
   "metadata": {},
   "outputs": [],
   "source": [
    "UEB_2stream_LAI_1_00 = UEB_2stream_hour[0]\n",
    "UEB_2stream_LAI_1_25 = UEB_2stream_hour[1]\n",
    "UEB_2stream_LAI_1_50 = UEB_2stream_hour[2]\n",
    "UEB_2stream_LAI_1_75 = UEB_2stream_hour[3]\n",
    "UEB_2stream_LAI_2_00 = UEB_2stream_hour[4]\n",
    "forcing_data = calc_forcing(forcing, \"2006-10-01\", \"2007-09-30\")"
   ]
  },
  {
   "cell_type": "markdown",
   "metadata": {},
   "source": [
    "#### 4.9) Combine the below canopy shortwave radiation parameterizations into a single Pandas Dataframe (2006-10-01~2007-09-30)"
   ]
  },
  {
   "cell_type": "code",
   "execution_count": 33,
   "metadata": {},
   "outputs": [],
   "source": [
    "# Combine each below canopy shortwave radiation parameterizations\n",
    "Radiation_Combine = pd.concat([UEB_2stream_LAI_1_00, UEB_2stream_LAI_1_25, UEB_2stream_LAI_1_50, UEB_2stream_LAI_1_75, UEB_2stream_LAI_2_00, forcing_data], axis=1)\n",
    "# add label \n",
    "Radiation_Combine.columns = [\"LAI = 1.00\", \"LAI = 1.25\", \"LAI = 1.50\", \"LAI = 1.75\", \"LAI = 2.00\", \"Above canopy forcing\"]"
   ]
  },
  {
   "cell_type": "markdown",
   "metadata": {},
   "source": [
    "#### 4.10) Get hour of day forcing of the four below canopy shortwave radiation parameterizations for the specific period  (2006-10-01~2007-09-30)"
   ]
  },
  {
   "cell_type": "code",
   "execution_count": 34,
   "metadata": {},
   "outputs": [],
   "source": [
    "xvals, df_gp_hr = obs_radiation(Val_eddyFlux, \"2006-10-01\", \"2007-09-30\")"
   ]
  },
  {
   "cell_type": "markdown",
   "metadata": {},
   "source": [
    "#### 4.11) Plotting output of four different below canopy shortwave radiation parameterizations, forcing data and observation data (2006-10-01~2007-09-30)"
   ]
  },
  {
   "cell_type": "code",
   "execution_count": 36,
   "metadata": {
    "scrolled": false
   },
   "outputs": [
    {
     "data": {
      "image/png": "[encoded data removed]",
      "text/plain": [
       "<matplotlib.figure.Figure at 0x7fbebcd92c50>"
      ]
     },
     "metadata": {
      "needs_background": "light"
     },
     "output_type": "display_data"
    }
   ],
   "source": [
    "# create plot with four different below canopy shortwave radiation parameterizations\n",
    "Radiation_Combine_Graph = Radiation_Combine.plot(legend=False)\n",
    "\n",
    "Radiation_Combine_Graph.plot(Radiation_Combine['Above canopy forcing'], color='k', marker='')\n",
    "Radiation_Combine_Graph.plot(Radiation_Combine[\"LAI = 1.00\"], color='b', marker='^') \n",
    "Radiation_Combine_Graph.plot(Radiation_Combine['LAI = 1.25'], color='c', marker='o')\n",
    "Radiation_Combine_Graph.plot(Radiation_Combine['LAI = 1.50'], color='g', marker='d')\n",
    "Radiation_Combine_Graph.plot(Radiation_Combine['LAI = 1.75'], color='y', marker='p')\n",
    "Radiation_Combine_Graph.plot(Radiation_Combine['LAI = 2.00'], color='r', marker='x')\n",
    "\n",
    "Radiation_Combine_Graph.tick_params(labelsize = 20)\n",
    "# plot scatter with x='xvals', y='Observation (aspen)'\n",
    "d = Radiation_Combine_Graph.scatter(xvals, df_gp_hr['Observation (aspen)'], color='black')\n",
    "\n",
    "# add x, y label\n",
    "Radiation_Combine_Graph.set_xlabel(\"Time of day (hr)\", fontsize=20)\n",
    "Radiation_Combine_Graph.set_ylabel(\"below canopy shortwave radiation (Wm-2)\", fontsize=20)\n",
    "\n",
    "handles, labels = Radiation_Combine_Graph.get_legend_handles_labels()\n",
    "# show up the legend\n",
    "Radiation_Combine_Graph.legend(handles[6:12], labels[6:12], fontsize=16)\n",
    "jtplot.figsize(x=10, y=10)"
   ]
  },
  {
   "cell_type": "markdown",
   "metadata": {},
   "source": [
    "#### 4.12) Get hour of day output of the four below canopy shortwave radiation parameterization for the specific period (2007-10-01~2008-09-30)"
   ]
  },
  {
   "cell_type": "code",
   "execution_count": 37,
   "metadata": {},
   "outputs": [],
   "source": [
    "UEB_2stream_hour = calc_short_radiation(results_UEB_2stream, \"2007-10-01\", \"2008-09-30\")"
   ]
  },
  {
   "cell_type": "code",
   "execution_count": 38,
   "metadata": {},
   "outputs": [],
   "source": [
    "UEB_2stream_LAI_1_00 = UEB_2stream_hour[0]\n",
    "UEB_2stream_LAI_1_25 = UEB_2stream_hour[1]\n",
    "UEB_2stream_LAI_1_50 = UEB_2stream_hour[2]\n",
    "UEB_2stream_LAI_1_75 = UEB_2stream_hour[3]\n",
    "UEB_2stream_LAI_2_00 = UEB_2stream_hour[4]\n",
    "forcing_data = calc_forcing(forcing, \"2007-10-01\", \"2008-09-30\")"
   ]
  },
  {
   "cell_type": "markdown",
   "metadata": {},
   "source": [
    "#### 4.13) Combine the below canopy shortwave radiation parameterizations into a single Pandas Dataframe (2007-10-01~2008-09-30)"
   ]
  },
  {
   "cell_type": "code",
   "execution_count": 39,
   "metadata": {},
   "outputs": [],
   "source": [
    "# Combine each below canopy shortwave radiation parameterizations\n",
    "Radiation_Combine = pd.concat([UEB_2stream_LAI_1_00, UEB_2stream_LAI_1_25, UEB_2stream_LAI_1_50, UEB_2stream_LAI_1_75, UEB_2stream_LAI_2_00, forcing_data], axis=1)\n",
    "# add label \n",
    "Radiation_Combine.columns = [\"LAI = 1.00\", \"LAI = 1.25\", \"LAI = 1.50\", \"LAI = 1.75\", \"LAI = 2.00\", \"Above canopy forcing\"]"
   ]
  },
  {
   "cell_type": "markdown",
   "metadata": {},
   "source": [
    "#### 4.14) Get hour of day forcing of the four below canopy shortwave radiation parameterizations for the specific period  (2007-07-01~2008-09-30)"
   ]
  },
  {
   "cell_type": "code",
   "execution_count": 40,
   "metadata": {},
   "outputs": [],
   "source": [
    "xvals, df_gp_hr = obs_radiation(Val_eddyFlux, \"2007-07-01\", \"2008-09-30\")"
   ]
  },
  {
   "cell_type": "markdown",
   "metadata": {},
   "source": [
    "#### 4.15) Plotting output of four different below canopy shortwave radiation parameterizations, forcing data and observation data (2007-10-01~2008-09-30)"
   ]
  },
  {
   "cell_type": "code",
   "execution_count": 42,
   "metadata": {
    "scrolled": false
   },
   "outputs": [
    {
     "data": {
      "image/png": "[encoded data removed]",
      "text/plain": [
       "<matplotlib.figure.Figure at 0x7fbebcc48f60>"
      ]
     },
     "metadata": {
      "needs_background": "light"
     },
     "output_type": "display_data"
    }
   ],
   "source": [
    "# create plot with four different below canopy shortwave radiation parameterizations\n",
    "Radiation_Combine_Graph = Radiation_Combine.plot(legend=False)\n",
    "\n",
    "Radiation_Combine_Graph.plot(Radiation_Combine['Above canopy forcing'], color='k', marker='')\n",
    "Radiation_Combine_Graph.plot(Radiation_Combine[\"LAI = 1.00\"], color='b', marker='^') \n",
    "Radiation_Combine_Graph.plot(Radiation_Combine['LAI = 1.25'], color='c', marker='o')\n",
    "Radiation_Combine_Graph.plot(Radiation_Combine['LAI = 1.50'], color='g', marker='d')\n",
    "Radiation_Combine_Graph.plot(Radiation_Combine['LAI = 1.75'], color='y', marker='p')\n",
    "Radiation_Combine_Graph.plot(Radiation_Combine['LAI = 2.00'], color='r', marker='x')\n",
    "\n",
    "Radiation_Combine_Graph.tick_params(labelsize = 20)\n",
    "# plot scatter with x='xvals', y='Observation (aspen)'\n",
    "d = Radiation_Combine_Graph.scatter(xvals, df_gp_hr['Observation (aspen)'], color='black')\n",
    "\n",
    "# add x, y label\n",
    "Radiation_Combine_Graph.set_xlabel(\"Time of day (hr)\", fontsize=20)\n",
    "Radiation_Combine_Graph.set_ylabel(\"below canopy shortwave radiation (Wm-2)\", fontsize=20)\n",
    "\n",
    "handles, labels = Radiation_Combine_Graph.get_legend_handles_labels()\n",
    "# show up the legend\n",
    "Radiation_Combine_Graph.legend(handles[6:12], labels[6:12], fontsize=16)\n",
    "jtplot.figsize(x=10, y=10)"
   ]
  },
  {
   "cell_type": "markdown",
   "metadata": {},
   "source": [
    "#### 4.16) Validation between the observation and simulation data."
   ]
  },
  {
   "cell_type": "code",
   "execution_count": 37,
   "metadata": {},
   "outputs": [],
   "source": [
    "from pysumma.Validation import validation"
   ]
  },
  {
   "cell_type": "code",
   "execution_count": 38,
   "metadata": {
    "scrolled": false
   },
   "outputs": [],
   "source": [
    "# defind simulation data\n",
    "UEB_2stream_simulation_1_00 = Radiation_Combine [\"LAI = 1.00\"]\n",
    "UEB_2stream_simulation_1_25 = Radiation_Combine ['LAI = 1.25']\n",
    "UEB_2stream_simulation_1_50 = Radiation_Combine ['LAI = 1.50']\n",
    "UEB_2stream_simulation_1_75 = Radiation_Combine ['LAI = 1.75']\n",
    "UEB_2stream_simulation_2_00 = Radiation_Combine ['LAI = 2.00']"
   ]
  },
  {
   "cell_type": "code",
   "execution_count": 39,
   "metadata": {},
   "outputs": [],
   "source": [
    "# defind observation data\n",
    "obs = df_gp_hr.groupby('level_0').mean()\n",
    "observation_data = obs['Observation (aspen)']"
   ]
  },
  {
   "cell_type": "code",
   "execution_count": 40,
   "metadata": {},
   "outputs": [
    {
     "name": "stdout",
     "output_type": "stream",
     "text": [
      "Mean Absolute Error: 76.388164\n",
      "Mean Squared Error: 13106.550299\n",
      "Root Mean Squared Error: 114.483843\n"
     ]
    }
   ],
   "source": [
    "# analyze validtation between BeersLaw simulation and observation data.\n",
    "validation.analysis(observation_data, UEB_2stream_simulation_1_00)"
   ]
  },
  {
   "cell_type": "code",
   "execution_count": 41,
   "metadata": {},
   "outputs": [
    {
     "name": "stdout",
     "output_type": "stream",
     "text": [
      "Mean Absolute Error: 82.362294\n",
      "Mean Squared Error: 15208.140971\n",
      "Root Mean Squared Error: 123.321292\n"
     ]
    }
   ],
   "source": [
    "# analyze validtation between NL_scatter simulation and observation data.\n",
    "validation.analysis(observation_data, UEB_2stream_simulation_1_25)"
   ]
  },
  {
   "cell_type": "code",
   "execution_count": 42,
   "metadata": {},
   "outputs": [
    {
     "name": "stdout",
     "output_type": "stream",
     "text": [
      "Mean Absolute Error: 87.729153\n",
      "Mean Squared Error: 17252.896916\n",
      "Root Mean Squared Error: 131.350283\n"
     ]
    }
   ],
   "source": [
    "# analyze validtation between UEB_2stream simulation and observation data.\n",
    "validation.analysis(observation_data, UEB_2stream_simulation_1_50)"
   ]
  },
  {
   "cell_type": "code",
   "execution_count": 43,
   "metadata": {},
   "outputs": [
    {
     "name": "stdout",
     "output_type": "stream",
     "text": [
      "Mean Absolute Error: 92.597719\n",
      "Mean Squared Error: 19238.045014\n",
      "Root Mean Squared Error: 138.701280\n"
     ]
    }
   ],
   "source": [
    "# analyze validtation between CLM_2stream_ simulation and observation data.\n",
    "validation.analysis(observation_data, UEB_2stream_simulation_1_75)"
   ]
  },
  {
   "cell_type": "code",
   "execution_count": 44,
   "metadata": {},
   "outputs": [
    {
     "name": "stdout",
     "output_type": "stream",
     "text": [
      "Mean Absolute Error: 97.077248\n",
      "Mean Squared Error: 21176.465188\n",
      "Root Mean Squared Error: 145.521356\n"
     ]
    }
   ],
   "source": [
    "# analyze validtation between CLM_2stream_ simulation and observation data.\n",
    "validation.analysis(observation_data, UEB_2stream_simulation_2_00)"
   ]
  },
  {
   "cell_type": "markdown",
   "metadata": {},
   "source": [
    "## 5. Discussion"
   ]
  },
  {
   "cell_type": "markdown",
   "metadata": {},
   "source": [
    "As stated in Clark et al., 2015, the following insights can be gained from this analysis:\n",
    "* This plotting compares the model simulations of downwelling shortwave radiation below the vegetation canopy with below-canopy shortwave radiation observations for the aspen site in Reynolds Mountain East. \n",
    "* The results in Figure 1 show that the choice of canopy shortwave parameterization with default parameters can result in differences in estimates of below-canopy shortwave radiation of around 50 W m22 at the Aspen site in Reynolds Mountain East"
   ]
  },
  {
   "cell_type": "markdown",
   "metadata": {},
   "source": [
    "## 6. Post a renewal Model Instance, SUMMA output, and notebook back to Hydroshare"
   ]
  },
  {
   "cell_type": "code",
   "execution_count": 46,
   "metadata": {},
   "outputs": [
    {
     "name": "stdout",
     "output_type": "stream",
     "text": [
      "Successfully established a connection with HydroShare\n"
     ]
    }
   ],
   "source": [
    "from pysumma.hydroshare import hydroshare\n",
    "hs = hydroshare.hydroshare()"
   ]
  },
  {
   "cell_type": "code",
   "execution_count": 48,
   "metadata": {},
   "outputs": [],
   "source": [
    "# zip a renewal SUMMA Model Instance to upload on HydroShare\n",
    "import shutil, os\n",
    "archive_name = os.path.expanduser(os.path.join('~', os.getcwd() +'/' + instance +'_new'))\n",
    "root_dir = os.path.expanduser(os.path.join('~', os.getcwd() +'/' + instance))\n",
    "shutil.make_archive(archive_name, 'zip', root_dir)\n",
    "Model_instance = os.getcwd() +'/' + instance +'_new.zip'"
   ]
  },
  {
   "cell_type": "code",
   "execution_count": 49,
   "metadata": {},
   "outputs": [],
   "source": [
    "# set meta data such as abstract, title, keywords, rtype to create a new SUMMA Model Instance\n",
    "title = 'Sensitivity to Below Canopy Shortwave Radiation Parameterization of SUMMA Model in Aspen stand at Reynolds Mountain East_LAI_new'\n",
    "abstract = 'Sensitivity to Below Canopy Shortwave Radiation Parameterization of SUMMA Model in Aspen stand at Reynolds Mountain East_LAI(new)'\n",
    "keywords = ('SUMMA', 'Hydrologic Model', 'Reynolds Mountain East', 'Below Canopy Shortwave Radiation Parameterization')\n",
    "rtype = 'ModelInstanceResource'\n",
    "fpath = Model_instance,\n",
    "metadata = '[{\"creator\":{\"name\":\"Youngdon Choi\"}}, {\"creator\":{\"name\":\"Jeffrey Sadler\"}}]'\n",
    "extra_metadata = '{\"key-1\": \"value-1\", \"key-2\": \"value-2\"}'"
   ]
  },
  {
   "cell_type": "code",
   "execution_count": 50,
   "metadata": {},
   "outputs": [
    {
     "name": "stdout",
     "output_type": "stream",
     "text": [
      "Resource Created Successfully                           \n"
     ]
    },
    {
     "data": {
      "text/html": [
       "Resource id: b0b17562214d4675bae218f763c7028c"
      ],
      "text/plain": [
       "<IPython.core.display.HTML object>"
      ]
     },
     "metadata": {},
     "output_type": "display_data"
    },
    {
     "data": {
      "text/html": [
       "<a href=https://www.hydroshare.org/resource/b0b17562214d4675bae218f763c7028c target=\"_blank\">Open Resource in HydroShare<a>"
      ],
      "text/plain": [
       "<IPython.core.display.HTML object>"
      ]
     },
     "metadata": {},
     "output_type": "display_data"
    }
   ],
   "source": [
    "# create a new SUMMA Model Instance on HydroShare\n",
    "resource_id1 = hs.createHydroShareResource(title=title, content_files=fpath, keywords=keywords, abstract=abstract, resource_type='modelinstanceresource', public=False)"
   ]
  },
  {
   "cell_type": "code",
   "execution_count": 51,
   "metadata": {},
   "outputs": [],
   "source": [
    "# set meta data such as abstract, title, keywords, rtype to create a SUMMA Composite Resource that contains SUMMA Model instance, output, and notebook.\n",
    "title = 'Sensitivity to Below Canopy Shortwave Radiation Parameterization of SUMMA Model in Aspen stand at Reynolds Mountain East_LAI_new'\n",
    "abstract = 'Sensitivity to Below Canopy Shortwave Radiation Parameterization of SUMMA Model in Aspen stand at Reynolds Mountain East_LAI(new)'\n",
    "keywords = ('SUMMA', 'Hydrologic Model', 'Reynolds Mountain East', 'Below Canopy Shortwave Radiation Parameterization')\n",
    "rtype = 'CompositeResource'\n",
    "files = out_file,\n",
    "metadata = '[{\"creator\":{\"name\":\"Youngdon Choi\"}}, {\"creator\":{\"name\":\"Jeffrey Sadler\"}}]'\n",
    "extra_metadata = '{\"key-1\": \"value-1\", \"key-2\": \"value-2\"}'"
   ]
  },
  {
   "cell_type": "code",
   "execution_count": 52,
   "metadata": {},
   "outputs": [
    {
     "name": "stdout",
     "output_type": "stream",
     "text": [
      "Resource Created Successfully                           \n"
     ]
    },
    {
     "data": {
      "text/html": [
       "Resource id: ca82dd8214e94ad5aafd06b347be602c"
      ],
      "text/plain": [
       "<IPython.core.display.HTML object>"
      ]
     },
     "metadata": {},
     "output_type": "display_data"
    },
    {
     "data": {
      "text/html": [
       "<a href=https://www.hydroshare.org/resource/ca82dd8214e94ad5aafd06b347be602c target=\"_blank\">Open Resource in HydroShare<a>"
      ],
      "text/plain": [
       "<IPython.core.display.HTML object>"
      ]
     },
     "metadata": {},
     "output_type": "display_data"
    }
   ],
   "source": [
    "# create a new SUMMA Composite Resource on HydroShare\n",
    "resource_id2 = hs.createHydroShareResource(title=title, content_files=files, keywords=keywords, abstract=abstract, resource_type='compositeresource', public=False)"
   ]
  },
  {
   "cell_type": "code",
   "execution_count": 53,
   "metadata": {},
   "outputs": [
    {
     "name": "stdout",
     "output_type": "stream",
     "text": [
      "Successfully Added Content Files                      \n"
     ]
    }
   ],
   "source": [
    "# add a new SUMMA Model Instance to a new SUMMA Composite Resource.\n",
    "hs.addContentToExistingResource(resource_id2, [Model_instance])"
   ]
  },
  {
   "cell_type": "markdown",
   "metadata": {},
   "source": [
    "#### Save this notebook file and add the notebook to the resource"
   ]
  },
  {
   "cell_type": "code",
   "execution_count": 54,
   "metadata": {},
   "outputs": [
    {
     "name": "stdout",
     "output_type": "stream",
     "text": [
      "Successfully Added Content Files                      \n"
     ]
    }
   ],
   "source": [
    "# add a new notebook to a new SUMMA Composite Resource.\n",
    "npath = os.getcwd() +'/SummaModel_ReynoldsAspenStand_ShortwaveRadiation_LAI.ipynb'\n",
    "# check the resource id on HS that created.\n",
    "hs.addContentToExistingResource(resource_id2, [npath])"
   ]
  },
  {
   "cell_type": "code",
   "execution_count": null,
   "metadata": {
    "collapsed": true
   },
   "outputs": [],
   "source": []
  }
 ],
 "metadata": {
  "kernelspec": {
   "display_name": "Python 3",
   "language": "python",
   "name": "python3"
  },
  "language_info": {
   "codemirror_mode": {
    "name": "ipython",
    "version": 3
   },
   "file_extension": ".py",
   "mimetype": "text/x-python",
   "name": "python",
   "nbconvert_exporter": "python",
   "pygments_lexer": "ipython3",
   "version": "3.6.5"
  }
 },
 "nbformat": 4,
 "nbformat_minor": 2
}
