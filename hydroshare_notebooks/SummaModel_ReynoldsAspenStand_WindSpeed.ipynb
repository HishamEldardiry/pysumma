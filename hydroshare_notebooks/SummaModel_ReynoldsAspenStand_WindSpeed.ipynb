{
 "cells": [
  {
   "cell_type": "markdown",
   "metadata": {},
   "source": [
    "##  Modeling the Impact of the canopy wind parameter for the exponential wind profile on simulation of below canopy wind speed in the Reynolds Mountain East catchment using pySUMMA"
   ]
  },
  {
   "cell_type": "markdown",
   "metadata": {},
   "source": [
    "## 1. Introduction"
   ]
  },
  {
   "cell_type": "markdown",
   "metadata": {},
   "source": [
    "One part of the Clark et al. (2015) study explored the impact of the choice of the canopy wind parameter for the exponential wind profile on simulations of below canopy wind speed at the aspen site in the Reynolds Mountain East catchment. This study looked at the impact of the Canopy wind parameter[0.10, 0.28, 0.50, 0.750] as used in the parameterization described by the exponential wind profile.\n",
    "\n",
    "In this Jupyter Notebook, the pySUMMA library is used to reproduce this analysis. According to the application of different Canopy wind parameter[0.10, 0.28, 0.50, 0.750], the sensitivity of result describes. \n",
    "The Results section shows how to use pySUMMA and the Pandas library to reproduce Figure 2 from Clark et al. (2015). \n",
    "\n",
    "Collectively, this Jupyter Notebook serves as an example of how hydrologic modeling can be conducted directly within a Jupyter Notebook by leveraging the pySUMMA library. "
   ]
  },
  {
   "cell_type": "markdown",
   "metadata": {},
   "source": [
    "## 2. Background"
   ]
  },
  {
   "cell_type": "markdown",
   "metadata": {},
   "source": [
    "### Wind profile through the canopy"
   ]
  },
  {
   "cell_type": "markdown",
   "metadata": {},
   "source": [
    "In describing wind profiles, we depart from the positive-downward coordinate system used in the rest of the paper and use the variable h (m) to define the height above the soil surface (h is defined as positive-upward). This is done to maintain consistency with the presentation in previous papers.\n",
    "\n",
    "There are substantial inter-model differences in parameterization of wind profiles through the canopy: for example, the original model of Choudhury and Monteith [1988] developed for wheat assumes an exponential reduction in wind speed through the canopy extends to the ground surface, and this parameteriztion has been directly applied by Niu and Yang [2004] for forests. In contrast, Mahat et al. [2013] and Andreadis et al. [2009] assume winds follow a logarithmic profile from the upper boundary to the top of the canopy, an exponential profile within the canopy, and a logarithmic profile again below the canopy."
   ]
  },
  {
   "cell_type": "markdown",
   "metadata": {},
   "source": [
    "The Mahat et al. [2013] parameterization is"
   ]
  },
  {
   "cell_type": "markdown",
   "metadata": {},
   "source": [
    "\\begin{equation*}\n",
    "u(h) = \\frac{1}{k}u_{*}^{veg}ln(\\frac{h-d}{z_{0}^{veg}})    \\mspace{350mu}                        h \\geq h_{top}^{veg}\n",
    "\\end{equation*}\n",
    "\\begin{equation*}\n",
    "\\mspace{50mu} u(h) = u(h_{top}^{veg})exp[-a_{w}(1-\\frac{h}{h_{top}^{veg}})]    \\mspace{250mu}   h_{bot}^{veg} \\le h \\lt h_{top}^{veg}    \\mspace{50mu}                   (1)\n",
    "\\end{equation*}\n",
    "\\begin{equation*}\n",
    "u(h) = \\frac{1}{k}u_{*}^{sfc}ln(\\frac{h}{z_{0}^{sfc}})    \\mspace{360mu}    h \\lt h_{bot}^{veg}\n",
    "\\end{equation*}"
   ]
  },
  {
   "cell_type": "markdown",
   "metadata": {},
   "source": [
    "where $u(h)$ $(m s^{-1})$ is the wind speed at height h (m),  $a_{w}$(-) is an exponential wind decay coefficient, d (m) is the zero-plane displacement height, $u_{*}^{\\Omega}$ $(m s^{-1})$ is the friction velocity $(\\Omega = sfc, veg)$, k≈0.4 is von Karman’s constant, $z_{0}^{veg}$ and $z_{0}^{sfc}$ (m) define the roughness length of the vegetation canopy and the surface, and $h_{top}^{veg}$ and $h_{bot}^{veg}$ (m) define the height of the top and the bottom of the vegetation canopy."
   ]
  },
  {
   "cell_type": "markdown",
   "metadata": {},
   "source": [
    "The friction velocity $u_{*}^{\\Omega}$ is defined as"
   ]
  },
  {
   "cell_type": "markdown",
   "metadata": {},
   "source": [
    "\\begin{equation*}\n",
    "u_{*}^{veg} = \\frac{ku_{air}}{ln(\\frac{h_{air}-d}{z_{0}^{veg}})}\n",
    "\\end{equation*}"
   ]
  },
  {
   "cell_type": "markdown",
   "metadata": {},
   "source": [
    "\\begin{equation*}\n",
    "u_{*}^{sfc} = \\frac{ku_{bot}^{veg}}{ln(\\frac{h_{bot}^{veg}}{z_{0}^{sfc}})}\n",
    "\\end{equation*}"
   ]
  },
  {
   "cell_type": "markdown",
   "metadata": {},
   "source": [
    "where $u_{air}$ and $u_{bot}^{veg}$ (m s-1) define the wind speed at the model forcing level $h_{air}$ and the height of the bottom of the vegetation (vegboth)."
   ]
  },
  {
   "cell_type": "markdown",
   "metadata": {},
   "source": [
    "The parameterizations of wind profiles depend critically on the exponential decay coefficient describing reduction in windspeed throughout the canopy, i.e., $a_{w}$ in equation (1) is both represented as constant across all vegetation types (e.g.,  $a_{w}$ = 3 as in Niu and Yang [2004]), or parameterized in terms of the leaf area index, canopy height, and leaf dimension as [Norman et al., 1995]"
   ]
  },
  {
   "cell_type": "markdown",
   "metadata": {},
   "source": [
    "\\begin{equation*}\n",
    "a_{w} = a_{w,0}(V_{ex})^{2/3} \\frac{(h_{top}^{veg})^{1/3}}{(S_{leaf})^{1/3}}\n",
    "\\end{equation*}"
   ]
  },
  {
   "cell_type": "markdown",
   "metadata": {},
   "source": [
    "where $a_{w,0}$ $\\approx$ 0.28 and $S_{leaf}$ (m) is the mean leaf size given by four times the leaf area divided by the leaf perimeter. These parameterizations can have a large impact on the form of the wind profile and the turbulent fluxes within and above the canopy."
   ]
  },
  {
   "cell_type": "markdown",
   "metadata": {},
   "source": [
    "## 3. Methods"
   ]
  },
  {
   "cell_type": "markdown",
   "metadata": {},
   "source": [
    "### 1) Install pySUMMA from GitHub (UVA-Hydroinformatics/pysumma-develop branch)"
   ]
  },
  {
   "cell_type": "code",
   "execution_count": null,
   "metadata": {},
   "outputs": [],
   "source": [
    "# On HydroShare, pySUMMA installed, so users don't need to install pySUMMA.\n",
    "# !/opt/conda/bin/pip install git+https://github.com/uva-hydroinformatics/pysumma.git@develop"
   ]
  },
  {
   "cell_type": "markdown",
   "metadata": {},
   "source": [
    "### 2) Download SUMMA Model Instance from HydroShare"
   ]
  },
  {
   "cell_type": "code",
   "execution_count": 1,
   "metadata": {},
   "outputs": [],
   "source": [
    "from pysumma.utils import utils   "
   ]
  },
  {
   "cell_type": "code",
   "execution_count": 2,
   "metadata": {},
   "outputs": [],
   "source": [
    "resource_id = '4064a7b014094f50aa63730e4a3ff976'\n",
    "instance = utils.download_model_instance(resource_id)"
   ]
  },
  {
   "cell_type": "markdown",
   "metadata": {},
   "source": [
    "### 3) Study Area"
   ]
  },
  {
   "cell_type": "markdown",
   "metadata": {},
   "source": [
    "#### The Reynolds Mountain East catchment is located in southwestern Idaho as shown in the figure below."
   ]
  },
  {
   "cell_type": "code",
   "execution_count": 3,
   "metadata": {},
   "outputs": [],
   "source": [
    "from ipyleaflet import Map, GeoJSON\n",
    "import json, os"
   ]
  },
  {
   "cell_type": "code",
   "execution_count": 4,
   "metadata": {},
   "outputs": [
    {
     "data": {
      "application/vnd.jupyter.widget-view+json": {
       "model_id": "4da7c14f2ab74e3d8eb0d454ea180542",
       "version_major": 2,
       "version_minor": 0
      },
      "text/plain": [
       "Map(basemap={'url': 'https://{s}.tile.openstreetmap.org/{z}/{x}/{y}.png', 'max_zoom': 19, 'attribution': 'Map …"
      ]
     },
     "metadata": {},
     "output_type": "display_data"
    }
   ],
   "source": [
    "m = Map(center=[43.06745, -116.75489], zoom=15)\n",
    "with open(os.getcwd() + '/' + instance + '/data/reynolds_geojson_latlon.geojson') as f:\n",
    "    data = json.load(f)\n",
    "g = GeoJSON(data=data)\n",
    "m.add_layer(g)\n",
    "m"
   ]
  },
  {
   "cell_type": "markdown",
   "metadata": {},
   "source": [
    "### 4) Create pySUMMA Simulation Object"
   ]
  },
  {
   "cell_type": "code",
   "execution_count": 5,
   "metadata": {
    "scrolled": true
   },
   "outputs": [],
   "source": [
    "from pysumma.Simulation import Simulation"
   ]
  },
  {
   "cell_type": "code",
   "execution_count": 6,
   "metadata": {},
   "outputs": [],
   "source": [
    "# path to the SUMMA filemanager file\n",
    "file_manager = os.getcwd() + '/' + instance + '/settings/summa_fileManager_riparianAspenWindParamPerturb.txt'"
   ]
  },
  {
   "cell_type": "code",
   "execution_count": 7,
   "metadata": {},
   "outputs": [
    {
     "name": "stdout",
     "output_type": "stream",
     "text": [
      "ModelOuput master file filepath: /home/jovyan/work/notebooks/data/c1bb4a12bff44bf08c5958cba7947348/c1bb4a12bff44bf08c5958cba7947348/data/contents/SummaModel_ReynoldsAspenStand_WindAttenuation_sopron/settings/meta/var_lookup.f90\n"
     ]
    }
   ],
   "source": [
    "# Create pySUMMA Simulation Object\n",
    "S = Simulation(case_data = file_manager)"
   ]
  },
  {
   "cell_type": "markdown",
   "metadata": {},
   "source": [
    "### 5) Check parameter and parameterization and Run SUMMA for the different canopy wind parameters"
   ]
  },
  {
   "cell_type": "code",
   "execution_count": 8,
   "metadata": {},
   "outputs": [
    {
     "data": {
      "text/plain": [
       "('2005-07-01 00:00', '2008-09-30 00:00')"
      ]
     },
     "execution_count": 8,
     "metadata": {},
     "output_type": "execute_result"
    }
   ],
   "source": [
    "# check the simulation start and finish times\n",
    "S.decision_obj.simulStart.value, S.decision_obj.simulFinsh.value"
   ]
  },
  {
   "cell_type": "markdown",
   "metadata": {},
   "source": [
    "#### 5-1) Checkcanopy wind parameters"
   ]
  },
  {
   "cell_type": "code",
   "execution_count": 9,
   "metadata": {},
   "outputs": [
    {
     "data": {
      "text/plain": [
       "<xarray.DataArray 'windReductionParam' (hru: 5)>\n",
       "array([ 0.1 ,  0.28,  0.5 ,  0.75,  1.  ])\n",
       "Dimensions without coordinates: hru"
      ]
     },
     "execution_count": 9,
     "metadata": {},
     "output_type": "execute_result"
    }
   ],
   "source": [
    "# create a trial parameter object to check canopy wind parameters\n",
    "import xarray as xr\n",
    "Param_trial = xr.open_dataset(os.path.dirname(file_manager)+'/'+S.para_trial.value)\n",
    "Param_trial.windReductionParam"
   ]
  },
  {
   "cell_type": "markdown",
   "metadata": {},
   "source": [
    "#### 5.2) Check the exponential wind profile method"
   ]
  },
  {
   "cell_type": "code",
   "execution_count": 10,
   "metadata": {},
   "outputs": [
    {
     "data": {
      "text/plain": [
       "['exponential', 'logBelowCanopy']"
      ]
     },
     "execution_count": 10,
     "metadata": {},
     "output_type": "execute_result"
    }
   ],
   "source": [
    "# check the exponential wind profile method\n",
    "S.decision_obj.windPrfile.options"
   ]
  },
  {
   "cell_type": "code",
   "execution_count": 11,
   "metadata": {},
   "outputs": [
    {
     "data": {
      "text/plain": [
       "'exponential'"
      ]
     },
     "execution_count": 11,
     "metadata": {},
     "output_type": "execute_result"
    }
   ],
   "source": [
    "# check the current exponential wind profile method \n",
    "S.decision_obj.windPrfile.value = 'exponential'\n",
    "S.decision_obj.windPrfile.value "
   ]
  },
  {
   "cell_type": "code",
   "execution_count": 12,
   "metadata": {},
   "outputs": [],
   "source": [
    "S.output_prefix.value = \"wind_speed\""
   ]
  },
  {
   "cell_type": "markdown",
   "metadata": {},
   "source": [
    "#### 5.3) Simulate SUMMA with the different canopy wind parameters and the exponential wind profile method"
   ]
  },
  {
   "cell_type": "markdown",
   "metadata": {},
   "source": [
    "#### if you executed SUMMA for this test case previously and have output file in output folder, you can move to next line."
   ]
  },
  {
   "cell_type": "code",
   "execution_count": 13,
   "metadata": {},
   "outputs": [
    {
     "name": "stderr",
     "output_type": "stream",
     "text": [
      "/home/jovyan/libs/specworker/__init__.py:4: Warning: The SPECS library is in beta development, use at your own risk.\n",
      "  warnings.warn(\"The SPECS library is in beta development, use at your own risk.\", Warning)\n"
     ]
    },
    {
     "name": "stdout",
     "output_type": "stream",
     "text": [
      "Job finished                                           \n",
      "task complete\n",
      "file_master is '/tmp/summa/home/jovyan/work/notebooks/data/c1bb4a12bff44bf08c5958cba7947348/c1bb4a12bff44bf08c5958cba7947348/data/contents/SummaModel_ReynoldsAspenStand_WindAttenuation_sopron/settings/summa_fileManager_riparianAspenWindParamPerturb.txt_tmp'.\n",
      "start at 06:05:26\n",
      "Name of Model Output control file: /tmp/summa/home/jovyan/work/notebooks/data/c1bb4a12bff44bf08c5958cba7947348/c1bb4a12bff44bf08c5958cba7947348/data/contents/SummaModel_ReynoldsAspenStand_WindAttenuation_sopron/settings/meta/Model_Output.txt\n",
      "decisions file =  /tmp/summa/home/jovyan/work/notebooks/data/c1bb4a12bff44bf08c5958cba7947348/c1bb4a12bff44bf08c5958cba7947348/data/contents/SummaModel_ReynoldsAspenStand_WindAttenuation_sopron/settings/summa_zDecisions_riparianAspenUEB2stream.txt\n",
      "   1 simulStart: 2005-07-01 00:00\n",
      "   2 simulFinsh: 2008-09-30 00:00\n",
      "   3 soilCatTbl: ROSETTA\n",
      "   4 vegeParTbl: USGS\n",
      "   5 soilStress: NoahType\n",
      "   6 stomResist: BallBerry\n",
      "   7 num_method: itertive\n",
      "   8 fDerivMeth: analytic\n",
      "   9 LAI_method: specified\n",
      "  10 f_Richards: mixdform\n",
      "  11 groundwatr: noXplict\n",
      "  12 hc_profile: constant\n",
      "  13 bcUpprTdyn: nrg_flux\n",
      "  14 bcLowrTdyn: zeroFlux\n",
      "  15 bcUpprSoiH: liq_flux\n",
      "  16 bcLowrSoiH: drainage\n",
      "  17 veg_traits: CM_QJRMS1988\n",
      "  18 canopyEmis: difTrans\n",
      "  19 snowIncept: lightSnow\n",
      "  20 windPrfile: exponential\n",
      "  21 astability: louisinv\n",
      "  22 canopySrad: UEB_2stream\n",
      "  23 alb_method: varDecay\n",
      "  24 compaction: anderson\n",
      "  25 snowLayers: CLM_2010\n",
      "  26 thCondSnow: jrdn1991\n",
      "  27 thCondSoil: mixConstit\n",
      "  28 spatial_gw: localColumn\n",
      "  29 subRouting: timeDlay\n",
      "startTime: iyyy, im, id, ih, imin = 2005  7  1  0  0\n",
      "finshTime: iyyy, im, id, ih, imin = 2008  9 30  0  0\n",
      "/tmp/summa/home/jovyan/work/notebooks/data/c1bb4a12bff44bf08c5958cba7947348/c1bb4a12bff44bf08c5958cba7947348/data/contents/SummaModel_ReynoldsAspenStand_WindAttenuation_sopron/settings/summa_zLocalParamInfo.txt\n",
      "/tmp/summa/home/jovyan/work/notebooks/data/c1bb4a12bff44bf08c5958cba7947348/c1bb4a12bff44bf08c5958cba7947348/data/contents/SummaModel_ReynoldsAspenStand_WindAttenuation_sopron/settings/summa_zBasinParamInfo.txt\n",
      "Skipping over SLTYPE = STAS\n",
      "Skipping over SLTYPE = STAS-RUC\n",
      " hruIndex\n",
      " frozenPrecipMultip\n",
      " rootingDepth\n",
      " rootDistExp\n",
      " theta_sat\n",
      " theta_res\n",
      " vGn_alpha\n",
      " vGn_n\n",
      " k_soil\n",
      " critSoilWilting\n",
      " critSoilTranspire\n",
      " winterSAI\n",
      " summerLAI\n",
      " heightCanopyTop\n",
      " heightCanopyBottom\n",
      " windReductionParam\n",
      "Created output file:/tmp/summa/home/jovyan/work/notebooks/data/c1bb4a12bff44bf08c5958cba7947348/c1bb4a12bff44bf08c5958cba7947348/data/contents/SummaModel_ReynoldsAspenStand_WindAttenuation_sopron/output/wind_speed_output_timestep.nc\n",
      "2005  7  1  0  0\n",
      "2005  7  2  0  0\n",
      "2005  7  3  0  0\n",
      "2005  7  4  0  0\n",
      "2005  7  5  0  0\n",
      "2005  7  6  0  0\n",
      "2005  7  7  0  0\n",
      "2005  7  8  0  0\n",
      "2005  7  9  0  0\n",
      "2005  7 10  0  0\n",
      "2005  7 11  0  0\n",
      "2005  7 12  0  0\n",
      "2005  7 13  0  0\n",
      "2005  7 14  0  0\n",
      "2005  7 15  0  0\n",
      "2005  7 16  0  0\n",
      "2005  7 17  0  0\n",
      "2005  7 18  0  0\n",
      "2005  7 19  0  0\n",
      "2005  7 20  0  0\n",
      "2005  7 21  0  0\n",
      "2005  7 22  0  0\n",
      "2005  7 23  0  0\n",
      "2005  7 24  0  0\n",
      "2005  7 25  0  0\n",
      "2005  7 26  0  0\n",
      "2005  7 27  0  0\n",
      "2005  7 28  0  0\n",
      "2005  7 29  0  0\n",
      "2005  7 30  0  0\n",
      "2005  7 31  0  0\n",
      "2005  8  1  0  0\n",
      "2005  8  2  0  0\n",
      "2005  8  3  0  0\n",
      "2005  8  4  0  0\n",
      "2005  8  5  0  0\n",
      "2005  8  6  0  0\n",
      "2005  8  7  0  0\n",
      "2005  8  8  0  0\n",
      "2005  8  9  0  0\n",
      "2005  8 10  0  0\n",
      "2005  8 11  0  0\n",
      "2005  8 12  0  0\n",
      "2005  8 13  0  0\n",
      "2005  8 14  0  0\n",
      "2005  8 15  0  0\n",
      "2005  8 16  0  0\n",
      "2005  8 17  0  0\n",
      "2005  8 18  0  0\n",
      "2005  8 19  0  0\n",
      "2005  8 20  0  0\n",
      "2005  8 21  0  0\n",
      "2005  8 22  0  0\n",
      "2005  8 23  0  0\n",
      "2005  8 24  0  0\n",
      "2005  8 25  0  0\n",
      "2005  8 26  0  0\n",
      "2005  8 27  0  0\n",
      "2005  8 28  0  0\n",
      "2005  8 29  0  0\n",
      "2005  8 30  0  0\n",
      "2005  8 31  0  0\n",
      "2005  9  1  0  0\n",
      "2005  9  2  0  0\n",
      "2005  9  3  0  0\n",
      "2005  9  4  0  0\n",
      "2005  9  5  0  0\n",
      "2005  9  6  0  0\n",
      "2005  9  7  0  0\n",
      "2005  9  8  0  0\n",
      "2005  9  9  0  0\n",
      "2005  9 10  0  0\n",
      "2005  9 11  0  0\n",
      "2005  9 12  0  0\n",
      "2005  9 13  0  0\n",
      "2005  9 14  0  0\n",
      "2005  9 15  0  0\n",
      "2005  9 16  0  0\n",
      "2005  9 17  0  0\n",
      "2005  9 18  0  0\n",
      "2005  9 19  0  0\n",
      "2005  9 20  0  0\n",
      "2005  9 21  0  0\n",
      "2005  9 22  0  0\n",
      "2005  9 23  0  0\n",
      "2005  9 24  0  0\n",
      "2005  9 25  0  0\n",
      "2005  9 26  0  0\n",
      "2005  9 27  0  0\n",
      "2005  9 28  0  0\n",
      "2005  9 29  0  0\n",
      "2005  9 30  0  0\n",
      "2005 10  1  0  0\n",
      "2005 10  2  0  0\n",
      "2005 10  3  0  0\n",
      "2005 10  4  0  0\n",
      "2005 10  5  0  0\n",
      "2005 10  6  0  0\n",
      "2005 10  7  0  0\n",
      "2005 10  8  0  0\n",
      "2005 10  9  0  0\n",
      "2005 10 10  0  0\n",
      "2005 10 11  0  0\n",
      "2005 10 12  0  0\n",
      "2005 10 13  0  0\n",
      "2005 10 14  0  0\n",
      "2005 10 15  0  0\n",
      "2005 10 16  0  0\n",
      "2005 10 17  0  0\n",
      "2005 10 18  0  0\n",
      "2005 10 19  0  0\n",
      "2005 10 20  0  0\n",
      "2005 10 21  0  0\n",
      "2005 10 22  0  0\n",
      "2005 10 23  0  0\n",
      "2005 10 24  0  0\n",
      "2005 10 25  0  0\n",
      "2005 10 26  0  0\n",
      "2005 10 27  0  0\n",
      "2005 10 28  0  0\n",
      "2005 10 29  0  0\n",
      "2005 10 30  0  0\n",
      "2005 10 31  0  0\n",
      "2005 11  1  0  0\n",
      "2005 11  2  0  0\n",
      "2005 11  3  0  0\n",
      "2005 11  4  0  0\n",
      "2005 11  5  0  0\n",
      "2005 11  6  0  0\n",
      "2005 11  7  0  0\n",
      "2005 11  8  0  0\n",
      "2005 11  9  0  0\n",
      "2005 11 10  0  0\n",
      "2005 11 11  0  0\n",
      "2005 11 12  0  0\n",
      "2005 11 13  0  0\n",
      "2005 11 14  0  0\n",
      "2005 11 15  0  0\n",
      "2005 11 16  0  0\n",
      "2005 11 17  0  0\n",
      "2005 11 18  0  0\n",
      "2005 11 19  0  0\n",
      "2005 11 20  0  0\n",
      "2005 11 21  0  0\n",
      "2005 11 22  0  0\n",
      "2005 11 23  0  0\n",
      "2005 11 24  0  0\n",
      "2005 11 25  0  0\n",
      "2005 11 26  0  0\n",
      "2005 11 27  0  0\n",
      "2005 11 28  0  0\n",
      "2005 11 29  0  0\n",
      "2005 11 30  0  0\n",
      "2005 12  1  0  0\n",
      "2005 12  2  0  0\n",
      "2005 12  3  0  0\n",
      "2005 12  4  0  0\n",
      "2005 12  5  0  0\n",
      "2005 12  6  0  0\n",
      "2005 12  7  0  0\n",
      "2005 12  8  0  0\n",
      "2005 12  9  0  0\n",
      "2005 12 10  0  0\n",
      "2005 12 11  0  0\n",
      "2005 12 12  0  0\n",
      "2005 12 13  0  0\n",
      "2005 12 14  0  0\n",
      "2005 12 15  0  0\n",
      "2005 12 16  0  0\n",
      "2005 12 17  0  0\n",
      "2005 12 18  0  0\n",
      "2005 12 19  0  0\n",
      "2005 12 20  0  0\n",
      "2005 12 21  0  0\n",
      "2005 12 22  0  0\n",
      "2005 12 23  0  0\n",
      "2005 12 24  0  0\n",
      "2005 12 25  0  0\n",
      "2005 12 26  0  0\n",
      "2005 12 27  0  0\n",
      "2005 12 28  0  0\n",
      "2005 12 29  0  0\n",
      "2005 12 30  0  0\n",
      "2005 12 31  0  0\n",
      "2006  1  1  0  0\n",
      "2006  1  2  0  0\n",
      "2006  1  3  0  0\n",
      "2006  1  4  0  0\n",
      "2006  1  5  0  0\n",
      "2006  1  6  0  0\n",
      "2006  1  7  0  0\n",
      "2006  1  8  0  0\n",
      "2006  1  9  0  0\n",
      "2006  1 10  0  0\n",
      "2006  1 11  0  0\n",
      "2006  1 12  0  0\n",
      "2006  1 13  0  0\n",
      "2006  1 14  0  0\n",
      "2006  1 15  0  0\n",
      "2006  1 16  0  0\n",
      "2006  1 17  0  0\n",
      "2006  1 18  0  0\n",
      "2006  1 19  0  0\n",
      "2006  1 20  0  0\n",
      "2006  1 21  0  0\n",
      "2006  1 22  0  0\n",
      "2006  1 23  0  0\n",
      "2006  1 24  0  0\n",
      "2006  1 25  0  0\n",
      "2006  1 26  0  0\n",
      "2006  1 27  0  0\n",
      "2006  1 28  0  0\n",
      "2006  1 29  0  0\n",
      "2006  1 30  0  0\n",
      "2006  1 31  0  0\n",
      "2006  2  1  0  0\n",
      "2006  2  2  0  0\n",
      "2006  2  3  0  0\n",
      "2006  2  4  0  0\n",
      "2006  2  5  0  0\n",
      "2006  2  6  0  0\n",
      "2006  2  7  0  0\n",
      "2006  2  8  0  0\n",
      "2006  2  9  0  0\n",
      "2006  2 10  0  0\n",
      "2006  2 11  0  0\n",
      "2006  2 12  0  0\n",
      "2006  2 13  0  0\n",
      "2006  2 14  0  0\n",
      "2006  2 15  0  0\n",
      "2006  2 16  0  0\n",
      "2006  2 17  0  0\n",
      "2006  2 18  0  0\n",
      "2006  2 19  0  0\n",
      "2006  2 20  0  0\n",
      "2006  2 21  0  0\n",
      "2006  2 22  0  0\n",
      "2006  2 23  0  0\n",
      "2006  2 24  0  0\n",
      "2006  2 25  0  0\n",
      "2006  2 26  0  0\n",
      "2006  2 27  0  0\n",
      "2006  2 28  0  0\n",
      "2006  3  1  0  0\n",
      "2006  3  2  0  0\n",
      "2006  3  3  0  0\n",
      "2006  3  4  0  0\n",
      "2006  3  5  0  0\n",
      "2006  3  6  0  0\n",
      "2006  3  7  0  0\n",
      "2006  3  8  0  0\n",
      "2006  3  9  0  0\n",
      "2006  3 10  0  0\n",
      "2006  3 11  0  0\n",
      "2006  3 12  0  0\n",
      "2006  3 13  0  0\n",
      "2006  3 14  0  0\n",
      "2006  3 15  0  0\n",
      "2006  3 16  0  0\n",
      "2006  3 17  0  0\n",
      "2006  3 18  0  0\n",
      "2006  3 19  0  0\n",
      "2006  3 20  0  0\n",
      "2006  3 21  0  0\n",
      "2006  3 22  0  0\n",
      "2006  3 23  0  0\n",
      "2006  3 24  0  0\n",
      "2006  3 25  0  0\n",
      "2006  3 26  0  0\n",
      "2006  3 27  0  0\n",
      "2006  3 28  0  0\n",
      "2006  3 29  0  0\n",
      "2006  3 30  0  0\n",
      "2006  3 31  0  0\n",
      "2006  4  1  0  0\n",
      "2006  4  2  0  0\n",
      "2006  4  3  0  0\n",
      "2006  4  4  0  0\n",
      "2006  4  5  0  0\n",
      "2006  4  6  0  0\n",
      "2006  4  7  0  0\n",
      "2006  4  8  0  0\n",
      "2006  4  9  0  0\n",
      "2006  4 10  0  0\n",
      "2006  4 11  0  0\n",
      "2006  4 12  0  0\n",
      "2006  4 13  0  0\n",
      "2006  4 14  0  0\n",
      "2006  4 15  0  0\n",
      "2006  4 16  0  0\n",
      "2006  4 17  0  0\n",
      "2006  4 18  0  0\n",
      "2006  4 19  0  0\n",
      "2006  4 20  0  0\n",
      "2006  4 21  0  0\n",
      "2006  4 22  0  0\n",
      "2006  4 23  0  0\n",
      "2006  4 24  0  0\n",
      "2006  4 25  0  0\n",
      "2006  4 26  0  0\n",
      "2006  4 27  0  0\n",
      "2006  4 28  0  0\n",
      "2006  4 29  0  0\n",
      "2006  4 30  0  0\n",
      "2006  5  1  0  0\n",
      "2006  5  2  0  0\n",
      "2006  5  3  0  0\n",
      "2006  5  4  0  0\n",
      "2006  5  5  0  0\n",
      "2006  5  6  0  0\n",
      "2006  5  7  0  0\n",
      "2006  5  8  0  0\n",
      "2006  5  9  0  0\n",
      "2006  5 10  0  0\n",
      "2006  5 11  0  0\n",
      "2006  5 12  0  0\n",
      "2006  5 13  0  0\n",
      "2006  5 14  0  0\n",
      "2006  5 15  0  0\n",
      "2006  5 16  0  0\n",
      "2006  5 17  0  0\n",
      "2006  5 18  0  0\n",
      "2006  5 19  0  0\n",
      "2006  5 20  0  0\n",
      "2006  5 21  0  0\n",
      "2006  5 22  0  0\n",
      "2006  5 23  0  0\n",
      "2006  5 24  0  0\n",
      "2006  5 25  0  0\n",
      "2006  5 26  0  0\n",
      "2006  5 27  0  0\n",
      "2006  5 28  0  0\n",
      "2006  5 29  0  0\n",
      "2006  5 30  0  0\n",
      "2006  5 31  0  0\n",
      "2006  6  1  0  0\n",
      "2006  6  2  0  0\n",
      "2006  6  3  0  0\n",
      "2006  6  4  0  0\n",
      "2006  6  5  0  0\n",
      "2006  6  6  0  0\n",
      "2006  6  7  0  0\n",
      "2006  6  8  0  0\n",
      "2006  6  9  0  0\n",
      "2006  6 10  0  0\n",
      "2006  6 11  0  0\n",
      "2006  6 12  0  0\n",
      "2006  6 13  0  0\n",
      "2006  6 14  0  0\n",
      "2006  6 15  0  0\n",
      "2006  6 16  0  0\n",
      "2006  6 17  0  0\n",
      "2006  6 18  0  0\n",
      "2006  6 19  0  0\n",
      "2006  6 20  0  0\n",
      "2006  6 21  0  0\n",
      "2006  6 22  0  0\n",
      "2006  6 23  0  0\n",
      "2006  6 24  0  0\n",
      "2006  6 25  0  0\n",
      "2006  6 26  0  0\n",
      "2006  6 27  0  0\n",
      "2006  6 28  0  0\n",
      "2006  6 29  0  0\n",
      "2006  6 30  0  0\n",
      "2006  7  1  0  0\n",
      "2006  7  2  0  0\n",
      "2006  7  3  0  0\n",
      "2006  7  4  0  0\n",
      "2006  7  5  0  0\n",
      "2006  7  6  0  0\n",
      "2006  7  7  0  0\n",
      "2006  7  8  0  0\n",
      "2006  7  9  0  0\n",
      "2006  7 10  0  0\n",
      "2006  7 11  0  0\n",
      "2006  7 12  0  0\n",
      "2006  7 13  0  0\n",
      "2006  7 14  0  0\n",
      "2006  7 15  0  0\n",
      "2006  7 16  0  0\n",
      "2006  7 17  0  0\n",
      "2006  7 18  0  0\n",
      "2006  7 19  0  0\n",
      "2006  7 20  0  0\n",
      "2006  7 21  0  0\n",
      "2006  7 22  0  0\n",
      "2006  7 23  0  0\n",
      "2006  7 24  0  0\n",
      "2006  7 25  0  0\n",
      "2006  7 26  0  0\n",
      "2006  7 27  0  0\n",
      "2006  7 28  0  0\n",
      "2006  7 29  0  0\n",
      "2006  7 30  0  0\n",
      "2006  7 31  0  0\n",
      "2006  8  1  0  0\n",
      "2006  8  2  0  0\n",
      "2006  8  3  0  0\n",
      "2006  8  4  0  0\n",
      "2006  8  5  0  0\n",
      "2006  8  6  0  0\n",
      "2006  8  7  0  0\n",
      "2006  8  8  0  0\n",
      "2006  8  9  0  0\n",
      "2006  8 10  0  0\n",
      "2006  8 11  0  0\n",
      "2006  8 12  0  0\n",
      "2006  8 13  0  0\n",
      "2006  8 14  0  0\n",
      "2006  8 15  0  0\n",
      "2006  8 16  0  0\n",
      "2006  8 17  0  0\n",
      "2006  8 18  0  0\n",
      "2006  8 19  0  0\n",
      "2006  8 20  0  0\n",
      "2006  8 21  0  0\n",
      "2006  8 22  0  0\n",
      "2006  8 23  0  0\n",
      "2006  8 24  0  0\n",
      "2006  8 25  0  0\n",
      "2006  8 26  0  0\n",
      "2006  8 27  0  0\n",
      "2006  8 28  0  0\n",
      "2006  8 29  0  0\n",
      "2006  8 30  0  0\n",
      "2006  8 31  0  0\n",
      "2006  9  1  0  0\n",
      "2006  9  2  0  0\n",
      "2006  9  3  0  0\n",
      "2006  9  4  0  0\n",
      "2006  9  5  0  0\n",
      "2006  9  6  0  0\n",
      "2006  9  7  0  0\n",
      "2006  9  8  0  0\n",
      "2006  9  9  0  0\n",
      "2006  9 10  0  0\n",
      "2006  9 11  0  0\n",
      "2006  9 12  0  0\n",
      "2006  9 13  0  0\n",
      "2006  9 14  0  0\n",
      "2006  9 15  0  0\n",
      "2006  9 16  0  0\n",
      "2006  9 17  0  0\n",
      "2006  9 18  0  0\n",
      "2006  9 19  0  0\n",
      "2006  9 20  0  0\n",
      "2006  9 21  0  0\n",
      "2006  9 22  0  0\n",
      "2006  9 23  0  0\n",
      "2006  9 24  0  0\n",
      "2006  9 25  0  0\n",
      "2006  9 26  0  0\n",
      "2006  9 27  0  0\n",
      "2006  9 28  0  0\n",
      "2006  9 29  0  0\n",
      "2006  9 30  0  0\n",
      "2006 10  1  0  0\n",
      "2006 10  2  0  0\n",
      "2006 10  3  0  0\n",
      "2006 10  4  0  0\n",
      "2006 10  5  0  0\n",
      "2006 10  6  0  0\n",
      "2006 10  7  0  0\n",
      "2006 10  8  0  0\n",
      "2006 10  9  0  0\n",
      "2006 10 10  0  0\n",
      "2006 10 11  0  0\n",
      "2006 10 12  0  0\n",
      "2006 10 13  0  0\n",
      "2006 10 14  0  0\n",
      "2006 10 15  0  0\n",
      "2006 10 16  0  0\n",
      "2006 10 17  0  0\n",
      "2006 10 18  0  0\n",
      "2006 10 19  0  0\n",
      "2006 10 20  0  0\n",
      "2006 10 21  0  0\n",
      "2006 10 22  0  0\n",
      "2006 10 23  0  0\n",
      "2006 10 24  0  0\n",
      "2006 10 25  0  0\n",
      "2006 10 26  0  0\n",
      "2006 10 27  0  0\n",
      "2006 10 28  0  0\n",
      "2006 10 29  0  0\n",
      "2006 10 30  0  0\n",
      "2006 10 31  0  0\n",
      "2006 11  1  0  0\n",
      "2006 11  2  0  0\n",
      "2006 11  3  0  0\n",
      "2006 11  4  0  0\n",
      "2006 11  5  0  0\n",
      "2006 11  6  0  0\n",
      "2006 11  7  0  0\n",
      "2006 11  8  0  0\n",
      "2006 11  9  0  0\n",
      "2006 11 10  0  0\n",
      "2006 11 11  0  0\n",
      "2006 11 12  0  0\n",
      "2006 11 13  0  0\n",
      "2006 11 14  0  0\n",
      "2006 11 15  0  0\n",
      "2006 11 16  0  0\n",
      "2006 11 17  0  0\n",
      "2006 11 18  0  0\n",
      "2006 11 19  0  0\n",
      "2006 11 20  0  0\n",
      "2006 11 21  0  0\n",
      "2006 11 22  0  0\n",
      "2006 11 23  0  0\n",
      "2006 11 24  0  0\n",
      "2006 11 25  0  0\n",
      "2006 11 26  0  0\n",
      "2006 11 27  0  0\n",
      "2006 11 28  0  0\n",
      "2006 11 29  0  0\n",
      "2006 11 30  0  0\n",
      "2006 12  1  0  0\n",
      "2006 12  2  0  0\n",
      "2006 12  3  0  0\n",
      "2006 12  4  0  0\n",
      "2006 12  5  0  0\n",
      "2006 12  6  0  0\n",
      "2006 12  7  0  0\n",
      "2006 12  8  0  0\n",
      "2006 12  9  0  0\n",
      "2006 12 10  0  0\n",
      "2006 12 11  0  0\n",
      "2006 12 12  0  0\n",
      "2006 12 13  0  0\n",
      "2006 12 14  0  0\n",
      "2006 12 15  0  0\n",
      "2006 12 16  0  0\n",
      "2006 12 17  0  0\n",
      "2006 12 18  0  0\n",
      "2006 12 19  0  0\n",
      "2006 12 20  0  0\n",
      "2006 12 21  0  0\n",
      "2006 12 22  0  0\n",
      "2006 12 23  0  0\n",
      "2006 12 24  0  0\n",
      "2006 12 25  0  0\n",
      "2006 12 26  0  0\n",
      "2006 12 27  0  0\n",
      "2006 12 28  0  0\n",
      "2006 12 29  0  0\n",
      "2006 12 30  0  0\n",
      "2006 12 31  0  0\n",
      "2007  1  1  0  0\n",
      "2007  1  2  0  0\n",
      "2007  1  3  0  0\n",
      "2007  1  4  0  0\n",
      "2007  1  5  0  0\n",
      "2007  1  6  0  0\n",
      "2007  1  7  0  0\n",
      "2007  1  8  0  0\n",
      "2007  1  9  0  0\n",
      "2007  1 10  0  0\n",
      "2007  1 11  0  0\n",
      "2007  1 12  0  0\n",
      "2007  1 13  0  0\n",
      "2007  1 14  0  0\n",
      "2007  1 15  0  0\n",
      "2007  1 16  0  0\n",
      "2007  1 17  0  0\n",
      "2007  1 18  0  0\n",
      "2007  1 19  0  0\n",
      "2007  1 20  0  0\n",
      "2007  1 21  0  0\n",
      "2007  1 22  0  0\n",
      "2007  1 23  0  0\n",
      "2007  1 24  0  0\n",
      "2007  1 25  0  0\n",
      "2007  1 26  0  0\n",
      "2007  1 27  0  0\n",
      "2007  1 28  0  0\n",
      "2007  1 29  0  0\n",
      "2007  1 30  0  0\n",
      "2007  1 31  0  0\n",
      "2007  2  1  0  0\n",
      "2007  2  2  0  0\n",
      "2007  2  3  0  0\n",
      "2007  2  4  0  0\n",
      "2007  2  5  0  0\n",
      "2007  2  6  0  0\n",
      "2007  2  7  0  0\n",
      "2007  2  8  0  0\n",
      "2007  2  9  0  0\n",
      "2007  2 10  0  0\n",
      "2007  2 11  0  0\n",
      "2007  2 12  0  0\n",
      "2007  2 13  0  0\n",
      "2007  2 14  0  0\n",
      "2007  2 15  0  0\n",
      "2007  2 16  0  0\n",
      "2007  2 17  0  0\n",
      "2007  2 18  0  0\n",
      "2007  2 19  0  0\n",
      "2007  2 20  0  0\n",
      "2007  2 21  0  0\n",
      "2007  2 22  0  0\n",
      "2007  2 23  0  0\n",
      "2007  2 24  0  0\n",
      "2007  2 25  0  0\n",
      "2007  2 26  0  0\n",
      "2007  2 27  0  0\n",
      "2007  2 28  0  0\n",
      "2007  3  1  0  0\n",
      "2007  3  2  0  0\n",
      "2007  3  3  0  0\n",
      "2007  3  4  0  0\n",
      "2007  3  5  0  0\n",
      "2007  3  6  0  0\n",
      "2007  3  7  0  0\n",
      "2007  3  8  0  0\n",
      "2007  3  9  0  0\n",
      "2007  3 10  0  0\n",
      "2007  3 11  0  0\n",
      "2007  3 12  0  0\n",
      "2007  3 13  0  0\n",
      "2007  3 14  0  0\n",
      "2007  3 15  0  0\n",
      "2007  3 16  0  0\n",
      "2007  3 17  0  0\n",
      "2007  3 18  0  0\n",
      "2007  3 19  0  0\n",
      "2007  3 20  0  0\n",
      "2007  3 21  0  0\n",
      "2007  3 22  0  0\n",
      "2007  3 23  0  0\n",
      "2007  3 24  0  0\n",
      "2007  3 25  0  0\n",
      "2007  3 26  0  0\n",
      "2007  3 27  0  0\n",
      "2007  3 28  0  0\n",
      "2007  3 29  0  0\n",
      "2007  3 30  0  0\n",
      "2007  3 31  0  0\n",
      "2007  4  1  0  0\n",
      "2007  4  2  0  0\n",
      "2007  4  3  0  0\n",
      "2007  4  4  0  0\n",
      "2007  4  5  0  0\n",
      "2007  4  6  0  0\n",
      "2007  4  7  0  0\n",
      "2007  4  8  0  0\n",
      "2007  4  9  0  0\n",
      "2007  4 10  0  0\n",
      "2007  4 11  0  0\n",
      "2007  4 12  0  0\n",
      "2007  4 13  0  0\n",
      "2007  4 14  0  0\n",
      "2007  4 15  0  0\n",
      "2007  4 16  0  0\n",
      "2007  4 17  0  0\n",
      "2007  4 18  0  0\n",
      "2007  4 19  0  0\n",
      "2007  4 20  0  0\n",
      "2007  4 21  0  0\n",
      "2007  4 22  0  0\n",
      "2007  4 23  0  0\n",
      "2007  4 24  0  0\n",
      "2007  4 25  0  0\n",
      "2007  4 26  0  0\n",
      "2007  4 27  0  0\n",
      "2007  4 28  0  0\n",
      "2007  4 29  0  0\n",
      "2007  4 30  0  0\n",
      "2007  5  1  0  0\n",
      "2007  5  2  0  0\n",
      "2007  5  3  0  0\n",
      "2007  5  4  0  0\n",
      "2007  5  5  0  0\n",
      "2007  5  6  0  0\n",
      "2007  5  7  0  0\n",
      "2007  5  8  0  0\n",
      "2007  5  9  0  0\n",
      "2007  5 10  0  0\n",
      "2007  5 11  0  0\n",
      "2007  5 12  0  0\n",
      "2007  5 13  0  0\n",
      "2007  5 14  0  0\n",
      "2007  5 15  0  0\n",
      "2007  5 16  0  0\n",
      "2007  5 17  0  0\n",
      "2007  5 18  0  0\n",
      "2007  5 19  0  0\n",
      "2007  5 20  0  0\n",
      "2007  5 21  0  0\n",
      "2007  5 22  0  0\n",
      "2007  5 23  0  0\n",
      "2007  5 24  0  0\n",
      "2007  5 25  0  0\n",
      "2007  5 26  0  0\n",
      "2007  5 27  0  0\n",
      "2007  5 28  0  0\n",
      "2007  5 29  0  0\n",
      "2007  5 30  0  0\n",
      "2007  5 31  0  0\n",
      "2007  6  1  0  0\n",
      "2007  6  2  0  0\n",
      "2007  6  3  0  0\n",
      "2007  6  4  0  0\n",
      "2007  6  5  0  0\n",
      "2007  6  6  0  0\n",
      "2007  6  7  0  0\n",
      "2007  6  8  0  0\n",
      "2007  6  9  0  0\n",
      "2007  6 10  0  0\n",
      "2007  6 11  0  0\n",
      "2007  6 12  0  0\n",
      "2007  6 13  0  0\n",
      "2007  6 14  0  0\n",
      "2007  6 15  0  0\n",
      "2007  6 16  0  0\n",
      "2007  6 17  0  0\n",
      "2007  6 18  0  0\n",
      "2007  6 19  0  0\n",
      "2007  6 20  0  0\n",
      "2007  6 21  0  0\n",
      "2007  6 22  0  0\n",
      "2007  6 23  0  0\n",
      "2007  6 24  0  0\n",
      "2007  6 25  0  0\n",
      "2007  6 26  0  0\n",
      "2007  6 27  0  0\n",
      "2007  6 28  0  0\n",
      "2007  6 29  0  0\n",
      "2007  6 30  0  0\n",
      "2007  7  1  0  0\n",
      "2007  7  2  0  0\n",
      "2007  7  3  0  0\n",
      "2007  7  4  0  0\n",
      "2007  7  5  0  0\n",
      "2007  7  6  0  0\n",
      "2007  7  7  0  0\n",
      "2007  7  8  0  0\n",
      "2007  7  9  0  0\n",
      "2007  7 10  0  0\n",
      "2007  7 11  0  0\n",
      "2007  7 12  0  0\n",
      "2007  7 13  0  0\n",
      "2007  7 14  0  0\n",
      "2007  7 15  0  0\n",
      "2007  7 16  0  0\n",
      "2007  7 17  0  0\n",
      "2007  7 18  0  0\n",
      "2007  7 19  0  0\n",
      "2007  7 20  0  0\n",
      "2007  7 21  0  0\n",
      "2007  7 22  0  0\n",
      "2007  7 23  0  0\n",
      "2007  7 24  0  0\n",
      "2007  7 25  0  0\n",
      "2007  7 26  0  0\n",
      "2007  7 27  0  0\n",
      "2007  7 28  0  0\n",
      "2007  7 29  0  0\n",
      "2007  7 30  0  0\n",
      "2007  7 31  0  0\n",
      "2007  8  1  0  0\n",
      "2007  8  2  0  0\n",
      "2007  8  3  0  0\n",
      "2007  8  4  0  0\n",
      "2007  8  5  0  0\n",
      "2007  8  6  0  0\n",
      "2007  8  7  0  0\n",
      "2007  8  8  0  0\n",
      "2007  8  9  0  0\n",
      "2007  8 10  0  0\n",
      "2007  8 11  0  0\n",
      "2007  8 12  0  0\n",
      "2007  8 13  0  0\n",
      "2007  8 14  0  0\n",
      "2007  8 15  0  0\n",
      "2007  8 16  0  0\n",
      "2007  8 17  0  0\n",
      "2007  8 18  0  0\n",
      "2007  8 19  0  0\n",
      "2007  8 20  0  0\n",
      "2007  8 21  0  0\n",
      "2007  8 22  0  0\n",
      "2007  8 23  0  0\n",
      "2007  8 24  0  0\n",
      "2007  8 25  0  0\n",
      "2007  8 26  0  0\n",
      "2007  8 27  0  0\n",
      "2007  8 28  0  0\n",
      "2007  8 29  0  0\n",
      "2007  8 30  0  0\n",
      "2007  8 31  0  0\n",
      "2007  9  1  0  0\n",
      "2007  9  2  0  0\n",
      "2007  9  3  0  0\n",
      "2007  9  4  0  0\n",
      "2007  9  5  0  0\n",
      "2007  9  6  0  0\n",
      "2007  9  7  0  0\n",
      "2007  9  8  0  0\n",
      "2007  9  9  0  0\n",
      "2007  9 10  0  0\n",
      "2007  9 11  0  0\n",
      "2007  9 12  0  0\n",
      "2007  9 13  0  0\n",
      "2007  9 14  0  0\n",
      "2007  9 15  0  0\n",
      "2007  9 16  0  0\n",
      "2007  9 17  0  0\n",
      "2007  9 18  0  0\n",
      "2007  9 19  0  0\n",
      "2007  9 20  0  0\n",
      "2007  9 21  0  0\n",
      "2007  9 22  0  0\n",
      "2007  9 23  0  0\n",
      "2007  9 24  0  0\n",
      "2007  9 25  0  0\n",
      "2007  9 26  0  0\n",
      "2007  9 27  0  0\n",
      "2007  9 28  0  0\n",
      "2007  9 29  0  0\n",
      "2007  9 30  0  0\n",
      "2007 10  1  0  0\n",
      "2007 10  2  0  0\n",
      "2007 10  3  0  0\n",
      "2007 10  4  0  0\n",
      "2007 10  5  0  0\n",
      "2007 10  6  0  0\n",
      "2007 10  7  0  0\n",
      "2007 10  8  0  0\n",
      "2007 10  9  0  0\n",
      "2007 10 10  0  0\n",
      "2007 10 11  0  0\n",
      "2007 10 12  0  0\n",
      "2007 10 13  0  0\n",
      "2007 10 14  0  0\n",
      "2007 10 15  0  0\n",
      "2007 10 16  0  0\n",
      "2007 10 17  0  0\n",
      "2007 10 18  0  0\n",
      "2007 10 19  0  0\n",
      "2007 10 20  0  0\n",
      "2007 10 21  0  0\n",
      "2007 10 22  0  0\n",
      "2007 10 23  0  0\n",
      "2007 10 24  0  0\n",
      "2007 10 25  0  0\n",
      "2007 10 26  0  0\n",
      "2007 10 27  0  0\n",
      "2007 10 28  0  0\n",
      "2007 10 29  0  0\n",
      "2007 10 30  0  0\n",
      "2007 10 31  0  0\n",
      "2007 11  1  0  0\n",
      "2007 11  2  0  0\n",
      "2007 11  3  0  0\n",
      "2007 11  4  0  0\n",
      "2007 11  5  0  0\n",
      "2007 11  6  0  0\n",
      "2007 11  7  0  0\n",
      "2007 11  8  0  0\n",
      "2007 11  9  0  0\n",
      "2007 11 10  0  0\n",
      "2007 11 11  0  0\n",
      "2007 11 12  0  0\n",
      "2007 11 13  0  0\n",
      "2007 11 14  0  0\n",
      "2007 11 15  0  0\n",
      "2007 11 16  0  0\n",
      "2007 11 17  0  0\n",
      "2007 11 18  0  0\n",
      "2007 11 19  0  0\n",
      "2007 11 20  0  0\n",
      "2007 11 21  0  0\n",
      "2007 11 22  0  0\n",
      "2007 11 23  0  0\n",
      "2007 11 24  0  0\n",
      "2007 11 25  0  0\n",
      "2007 11 26  0  0\n",
      "2007 11 27  0  0\n",
      "2007 11 28  0  0\n",
      "2007 11 29  0  0\n",
      "2007 11 30  0  0\n",
      "2007 12  1  0  0\n",
      "2007 12  2  0  0\n",
      "2007 12  3  0  0\n",
      "2007 12  4  0  0\n",
      "2007 12  5  0  0\n",
      "2007 12  6  0  0\n",
      "2007 12  7  0  0\n",
      "2007 12  8  0  0\n",
      "2007 12  9  0  0\n",
      "2007 12 10  0  0\n",
      "2007 12 11  0  0\n",
      "2007 12 12  0  0\n",
      "2007 12 13  0  0\n",
      "2007 12 14  0  0\n",
      "2007 12 15  0  0\n",
      "2007 12 16  0  0\n",
      "2007 12 17  0  0\n",
      "2007 12 18  0  0\n",
      "2007 12 19  0  0\n",
      "2007 12 20  0  0\n",
      "2007 12 21  0  0\n",
      "2007 12 22  0  0\n",
      "2007 12 23  0  0\n",
      "2007 12 24  0  0\n",
      "2007 12 25  0  0\n",
      "2007 12 26  0  0\n",
      "2007 12 27  0  0\n",
      "2007 12 28  0  0\n",
      "2007 12 29  0  0\n",
      "2007 12 30  0  0\n",
      "2007 12 31  0  0\n",
      "2008  1  1  0  0\n",
      "2008  1  2  0  0\n",
      "2008  1  3  0  0\n",
      "2008  1  4  0  0\n",
      "2008  1  5  0  0\n",
      "2008  1  6  0  0\n",
      "2008  1  7  0  0\n",
      "2008  1  8  0  0\n",
      "2008  1  9  0  0\n",
      "2008  1 10  0  0\n",
      "2008  1 11  0  0\n",
      "2008  1 12  0  0\n",
      "2008  1 13  0  0\n",
      "2008  1 14  0  0\n",
      "2008  1 15  0  0\n",
      "2008  1 16  0  0\n",
      "2008  1 17  0  0\n",
      "2008  1 18  0  0\n",
      "2008  1 19  0  0\n",
      "2008  1 20  0  0\n",
      "2008  1 21  0  0\n",
      "2008  1 22  0  0\n",
      "2008  1 23  0  0\n",
      "2008  1 24  0  0\n",
      "2008  1 25  0  0\n",
      "2008  1 26  0  0\n",
      "2008  1 27  0  0\n",
      "2008  1 28  0  0\n",
      "2008  1 29  0  0\n",
      "2008  1 30  0  0\n",
      "2008  1 31  0  0\n",
      "2008  2  1  0  0\n",
      "2008  2  2  0  0\n",
      "2008  2  3  0  0\n",
      "2008  2  4  0  0\n",
      "2008  2  5  0  0\n",
      "2008  2  6  0  0\n",
      "2008  2  7  0  0\n",
      "2008  2  8  0  0\n",
      "2008  2  9  0  0\n",
      "2008  2 10  0  0\n",
      "2008  2 11  0  0\n",
      "2008  2 12  0  0\n",
      "2008  2 13  0  0\n",
      "2008  2 14  0  0\n",
      "2008  2 15  0  0\n",
      "2008  2 16  0  0\n",
      "2008  2 17  0  0\n",
      "2008  2 18  0  0\n",
      "2008  2 19  0  0\n",
      "2008  2 20  0  0\n",
      "2008  2 21  0  0\n",
      "2008  2 22  0  0\n",
      "2008  2 23  0  0\n",
      "2008  2 24  0  0\n",
      "2008  2 25  0  0\n",
      "2008  2 26  0  0\n",
      "2008  2 27  0  0\n",
      "2008  2 28  0  0\n",
      "2008  2 29  0  0\n",
      "2008  3  1  0  0\n",
      "2008  3  2  0  0\n",
      "2008  3  3  0  0\n",
      "2008  3  4  0  0\n",
      "2008  3  5  0  0\n",
      "2008  3  6  0  0\n",
      "2008  3  7  0  0\n",
      "2008  3  8  0  0\n",
      "2008  3  9  0  0\n",
      "2008  3 10  0  0\n",
      "2008  3 11  0  0\n",
      "2008  3 12  0  0\n",
      "2008  3 13  0  0\n",
      "2008  3 14  0  0\n",
      "2008  3 15  0  0\n",
      "2008  3 16  0  0\n",
      "2008  3 17  0  0\n",
      "2008  3 18  0  0\n",
      "2008  3 19  0  0\n",
      "2008  3 20  0  0\n",
      "2008  3 21  0  0\n",
      "2008  3 22  0  0\n",
      "2008  3 23  0  0\n",
      "2008  3 24  0  0\n",
      "2008  3 25  0  0\n",
      "2008  3 26  0  0\n",
      "2008  3 27  0  0\n",
      "2008  3 28  0  0\n",
      "2008  3 29  0  0\n",
      "2008  3 30  0  0\n",
      "2008  3 31  0  0\n",
      "2008  4  1  0  0\n",
      "2008  4  2  0  0\n",
      "2008  4  3  0  0\n",
      "2008  4  4  0  0\n",
      "2008  4  5  0  0\n",
      "2008  4  6  0  0\n",
      "2008  4  7  0  0\n",
      "2008  4  8  0  0\n",
      "2008  4  9  0  0\n",
      "2008  4 10  0  0\n",
      "2008  4 11  0  0\n",
      "2008  4 12  0  0\n",
      "2008  4 13  0  0\n",
      "2008  4 14  0  0\n",
      "2008  4 15  0  0\n",
      "2008  4 16  0  0\n",
      "2008  4 17  0  0\n",
      "2008  4 18  0  0\n",
      "2008  4 19  0  0\n",
      "2008  4 20  0  0\n",
      "2008  4 21  0  0\n",
      "2008  4 22  0  0\n",
      "2008  4 23  0  0\n",
      "2008  4 24  0  0\n",
      "2008  4 25  0  0\n",
      "2008  4 26  0  0\n",
      "2008  4 27  0  0\n",
      "2008  4 28  0  0\n",
      "2008  4 29  0  0\n",
      "2008  4 30  0  0\n",
      "2008  5  1  0  0\n",
      "2008  5  2  0  0\n",
      "2008  5  3  0  0\n",
      "2008  5  4  0  0\n",
      "2008  5  5  0  0\n",
      "2008  5  6  0  0\n",
      "2008  5  7  0  0\n",
      "2008  5  8  0  0\n",
      "2008  5  9  0  0\n",
      "2008  5 10  0  0\n",
      "2008  5 11  0  0\n",
      "2008  5 12  0  0\n",
      "2008  5 13  0  0\n",
      "2008  5 14  0  0\n",
      "2008  5 15  0  0\n",
      "2008  5 16  0  0\n",
      "2008  5 17  0  0\n",
      "2008  5 18  0  0\n",
      "2008  5 19  0  0\n",
      "2008  5 20  0  0\n",
      "2008  5 21  0  0\n",
      "2008  5 22  0  0\n",
      "2008  5 23  0  0\n",
      "2008  5 24  0  0\n",
      "2008  5 25  0  0\n",
      "2008  5 26  0  0\n",
      "2008  5 27  0  0\n",
      "2008  5 28  0  0\n",
      "2008  5 29  0  0\n",
      "2008  5 30  0  0\n",
      "2008  5 31  0  0\n",
      "2008  6  1  0  0\n",
      "2008  6  2  0  0\n",
      "2008  6  3  0  0\n",
      "2008  6  4  0  0\n",
      "2008  6  5  0  0\n",
      "2008  6  6  0  0\n",
      "2008  6  7  0  0\n",
      "2008  6  8  0  0\n",
      "2008  6  9  0  0\n",
      "2008  6 10  0  0\n",
      "2008  6 11  0  0\n",
      "2008  6 12  0  0\n",
      "2008  6 13  0  0\n",
      "2008  6 14  0  0\n",
      "2008  6 15  0  0\n",
      "2008  6 16  0  0\n",
      "2008  6 17  0  0\n",
      "2008  6 18  0  0\n",
      "2008  6 19  0  0\n",
      "2008  6 20  0  0\n",
      "2008  6 21  0  0\n",
      "2008  6 22  0  0\n",
      "2008  6 23  0  0\n",
      "2008  6 24  0  0\n",
      "2008  6 25  0  0\n",
      "2008  6 26  0  0\n",
      "2008  6 27  0  0\n",
      "2008  6 28  0  0\n",
      "2008  6 29  0  0\n",
      "2008  6 30  0  0\n",
      "2008  7  1  0  0\n",
      "2008  7  2  0  0\n",
      "2008  7  3  0  0\n",
      "2008  7  4  0  0\n",
      "2008  7  5  0  0\n",
      "2008  7  6  0  0\n",
      "2008  7  7  0  0\n",
      "2008  7  8  0  0\n",
      "2008  7  9  0  0\n",
      "2008  7 10  0  0\n",
      "2008  7 11  0  0\n",
      "2008  7 12  0  0\n",
      "2008  7 13  0  0\n",
      "2008  7 14  0  0\n",
      "2008  7 15  0  0\n",
      "2008  7 16  0  0\n",
      "2008  7 17  0  0\n",
      "2008  7 18  0  0\n",
      "2008  7 19  0  0\n",
      "2008  7 20  0  0\n",
      "2008  7 21  0  0\n",
      "2008  7 22  0  0\n",
      "2008  7 23  0  0\n",
      "2008  7 24  0  0\n",
      "2008  7 25  0  0\n",
      "2008  7 26  0  0\n",
      "2008  7 27  0  0\n",
      "2008  7 28  0  0\n",
      "2008  7 29  0  0\n",
      "2008  7 30  0  0\n",
      "2008  7 31  0  0\n",
      "2008  8  1  0  0\n",
      "2008  8  2  0  0\n",
      "2008  8  3  0  0\n",
      "2008  8  4  0  0\n",
      "2008  8  5  0  0\n",
      "2008  8  6  0  0\n",
      "2008  8  7  0  0\n",
      "2008  8  8  0  0\n",
      "2008  8  9  0  0\n",
      "2008  8 10  0  0\n",
      "2008  8 11  0  0\n",
      "2008  8 12  0  0\n",
      "2008  8 13  0  0\n",
      "2008  8 14  0  0\n",
      "2008  8 15  0  0\n",
      "2008  8 16  0  0\n",
      "2008  8 17  0  0\n",
      "2008  8 18  0  0\n",
      "2008  8 19  0  0\n",
      "2008  8 20  0  0\n",
      "2008  8 21  0  0\n",
      "2008  8 22  0  0\n",
      "2008  8 23  0  0\n",
      "2008  8 24  0  0\n",
      "2008  8 25  0  0\n",
      "2008  8 26  0  0\n",
      "2008  8 27  0  0\n",
      "2008  8 28  0  0\n",
      "2008  8 29  0  0\n",
      "2008  8 30  0  0\n",
      "2008  8 31  0  0\n",
      "2008  9  1  0  0\n",
      "2008  9  2  0  0\n",
      "2008  9  3  0  0\n",
      "2008  9  4  0  0\n",
      "2008  9  5  0  0\n",
      "2008  9  6  0  0\n",
      "2008  9  7  0  0\n",
      "2008  9  8  0  0\n",
      "2008  9  9  0  0\n",
      "2008  9 10  0  0\n",
      "2008  9 11  0  0\n",
      "2008  9 12  0  0\n",
      "2008  9 13  0  0\n",
      "2008  9 14  0  0\n",
      "2008  9 15  0  0\n",
      "2008  9 16  0  0\n",
      "2008  9 17  0  0\n",
      "2008  9 18  0  0\n",
      "2008  9 19  0  0\n",
      "2008  9 20  0  0\n",
      "2008  9 21  0  0\n",
      "2008  9 22  0  0\n",
      "2008  9 23  0  0\n",
      "2008  9 24  0  0\n",
      "2008  9 25  0  0\n",
      "2008  9 26  0  0\n",
      "2008  9 27  0  0\n",
      "2008  9 28  0  0\n",
      "2008  9 29  0  0\n",
      "2008  9 30  0  0\n",
      "\n",
      "initial date/time = 2018-11-25   6:05:26.820\n",
      "  final date/time = 2018-11-25   6:07:10.498\n",
      "\n",
      "     elapsed init =   0.1130000     s\n",
      "    fraction init =   1.0899130E-03 s\n",
      "\n",
      "     elapsed read =    1.000000     s\n",
      "    fraction read =   9.6452478E-03 s\n",
      "\n",
      "    elapsed write =    7.938000     s\n",
      "   fraction write =   7.6563977E-02 s\n",
      "\n",
      "  elapsed physics =    94.39300     s\n",
      " fraction physics =   0.9104439     s\n",
      "\n",
      "     elapsed time =    103.6780     s\n",
      "       or              1.727967     m\n",
      "       or             2.8799444E-02 h\n",
      "       or             1.1999769E-03 d\n",
      "\n",
      "   number threads =          1\n",
      "\n",
      " FORTRAN STOP: finished simulation successfully.\n",
      "Note: The following floating-point exceptions are signalling: IEEE_INVALID_FLAG IEEE_UNDERFLOW_FLAG IEEE_DENORMAL\n",
      "para_trial           -> OK\n",
      "meta_basinpar        -> OK\n",
      "local_par            -> OK\n",
      "meta_force           -> OK\n",
      "meta_type            -> OK\n",
      "forcing_list         -> OK\n",
      "decision             -> OK\n",
      "OUTPUT_CONTROL       -> OK\n",
      "meta_basinvar        -> OK\n",
      "basin_par            -> OK\n",
      "initial_cond         -> OK\n",
      "output_path          -> OK\n",
      "output_prefix        -> OK\n",
      "meta_localpar        -> OK\n",
      "setting_path         -> OK\n",
      "meta_index           -> OK\n",
      "input_path           -> OK\n",
      "meta_attr            -> OK\n",
      "meta_time            -> OK\n",
      "local_attr           -> OK\n",
      "fman_ver             -> OK\n",
      "Running SUMMA simulation\n",
      "\n"
     ]
    }
   ],
   "source": [
    "# run the model giving the output the prefix \"wind_spped\"\n",
    "results_windspeed, output_sim_path = S.execute(run_suffix=\"wind_speed\", run_option = 'specworker', specworker_img='cuahsi/summa:sopron')"
   ]
  },
  {
   "cell_type": "code",
   "execution_count": 14,
   "metadata": {},
   "outputs": [],
   "source": [
    "# get xarry output and output path if you executed SUMMA.\n",
    "S.output_prefix.value = \"wind_speed\"\n",
    "results_windspeed, output_sim_path = S.get_output(\"cuahsi_sopron\", S.output_prefix.value)"
   ]
  },
  {
   "cell_type": "markdown",
   "metadata": {},
   "source": [
    "## 4. Results"
   ]
  },
  {
   "cell_type": "markdown",
   "metadata": {},
   "source": [
    "### Recreate the Figure 2 plot from Clark et al., 2015: The Impact of the canopy wind parameter for the exponential wind profile on simulation of below canopy wind speed in the Reynolds Mountain East catchment using pySUMMA"
   ]
  },
  {
   "cell_type": "code",
   "execution_count": 15,
   "metadata": {},
   "outputs": [],
   "source": [
    "from pysumma.Plotting import Plotting\n",
    "from jupyterthemes import jtplot\n",
    "import matplotlib.pyplot as plt\n",
    "import pandas as pd\n",
    "jtplot.figsize(x=10, y=10)"
   ]
  },
  {
   "cell_type": "markdown",
   "metadata": {},
   "source": [
    "#### 1) Creating method to get output, forcing, and validation data"
   ]
  },
  {
   "cell_type": "markdown",
   "metadata": {},
   "source": [
    "#### Method to get hourly model output  "
   ]
  },
  {
   "cell_type": "code",
   "execution_count": 16,
   "metadata": {},
   "outputs": [],
   "source": [
    "# resample specific variable data during certain period hourly\n",
    "def hourly_ouput(summa_result, output_variable, start_date, end_date):\n",
    "    # get certain variable data from output netCDF\n",
    "    variable_data = summa_result[output_variable] \n",
    "    # create dates(X-axis) attribute \n",
    "    dates = variable_data.coords['time'].data\n",
    "    # create data value(Y-axis) attribute \n",
    "    data_values = variable_data.data\n",
    "    # create two dimensional tabular data structure \n",
    "    variable_data_df = pd.DataFrame(data_values, index=dates)\n",
    "    # round time to nearest hour (ex. 2006-10-01T00:59:59.99 -> 2006-10-01T01:00:00)\n",
    "    variable_data_df.index = variable_data_df.index.round(\"H\")\n",
    "    # set the time period to display plot \n",
    "    variable_data_df = variable_data_df.loc[start_date:end_date] \n",
    "    # resample data by the average value hourly\n",
    "    variable_data_df_hourly = variable_data_df.resample(\"H\").mean()\n",
    "    \n",
    "    return variable_data_df_hourly"
   ]
  },
  {
   "cell_type": "markdown",
   "metadata": {},
   "source": [
    "#### Method to get hourly forcing data"
   ]
  },
  {
   "cell_type": "code",
   "execution_count": 17,
   "metadata": {},
   "outputs": [],
   "source": [
    "# resample specific variable data during certain period hourly\n",
    "def hourly_forcing(forcing_path, variable, start_date, end_date):\n",
    "    # create xarray dataset from forcing file\n",
    "    forcing_xr = xr.open_dataset(forcing_path)\n",
    "    # get certain variable data from xarray dataset\n",
    "    variable_data = forcing_xr[variable]\n",
    "    # create dates(X-axis) attribute \n",
    "    dates = variable_data.coords['time'].data\n",
    "    # create data value(Y-axis) attribute \n",
    "    data_values = variable_data.data\n",
    "    # create two dimensional tabular data structure \n",
    "    variable_data_df = pd.DataFrame(data_values, index=dates)\n",
    "    # round time to nearest hour (ex. 2006-10-01T00:59:59.99 -> 2006-10-01T01:00:00)\n",
    "    variable_data_df.index = variable_data_df.index.round(\"H\")\n",
    "    # set the time period to display plot \n",
    "    variable_data_df = variable_data_df.loc[start_date:end_date]\n",
    "    # resample data by the average value hourly\n",
    "    variable_data_df_hourly = variable_data_df.resample(\"H\").mean()\n",
    "\n",
    "    return variable_data_df_hourly"
   ]
  },
  {
   "cell_type": "markdown",
   "metadata": {},
   "source": [
    "#### Method to get hourly valdation data (observation data)"
   ]
  },
  {
   "cell_type": "code",
   "execution_count": 18,
   "metadata": {},
   "outputs": [],
   "source": [
    "# resample specific variable data during certain period hourly\n",
    "def hourly_observation(path, variable, start_date, end_date):\n",
    "    # create xarray dataset from forcing file\n",
    "    obs_data = xr.open_dataset(path)\n",
    "    # get certain variable data from xarray dataset\n",
    "    obs_wind_speed = obs_data[variable]  #wind\n",
    "    # create dates(X-axis) attribute\n",
    "    dates = obs_wind_speed.coords['time'].data\n",
    "    # create data value(Y-axis) attribute\n",
    "    data_values = obs_wind_speed.data  \n",
    "    # create two dimensional tabular data structure \n",
    "    obs_wind_speed_df = pd.DataFrame(data_values, index=dates)\n",
    "    # set the time period to display plot\n",
    "    obs_wind_speed_df_filt = obs_wind_speed_df.loc[start_date:end_date]\n",
    "    # select certain stations among three different stations\n",
    "    obs_wind_speed_df_filt.columns = ['Observation (Aspen understory)','Observation (aspen)','-']\n",
    "    # groupby data by the average for hour of day\n",
    "    obs_wind_speed_hr = obs_wind_speed_df_filt.groupby([obs_wind_speed_df_filt.index.date, obs_wind_speed_df_filt.index.hour]).mean()\n",
    "    # reset index so each row has an hour \n",
    "    obs_wind_speed_hr.reset_index(inplace=True)\n",
    "    # add Date and Time columns for plotting\n",
    "    xvals = pd.DataFrame({'Date_Time': pd.date_range('10/1/2006 00:00:00', periods=8760, freq='1H')})\n",
    "    # create hourly wind speed data\n",
    "    obs_wind_speed_hourly = pd.concat([xvals, obs_wind_speed_hr], axis = 1)\n",
    "    return obs_wind_speed_hourly #new_df"
   ]
  },
  {
   "cell_type": "markdown",
   "metadata": {},
   "source": [
    "#### 2) Get Data Frame from specific variables, periods"
   ]
  },
  {
   "cell_type": "markdown",
   "metadata": {},
   "source": [
    "#### Get model output of wind speed"
   ]
  },
  {
   "cell_type": "code",
   "execution_count": 19,
   "metadata": {},
   "outputs": [
    {
     "data": {
      "text/plain": [
       "<xarray.Dataset>\n",
       "Dimensions:                    (gru: 1, hru: 5, ifcSoil: 9, ifcToto: 14, midSoil: 8, midToto: 13, time: 28489)\n",
       "Coordinates:\n",
       "  * time                       (time) datetime64[ns] 2005-07-01 ...\n",
       "  * hru                        (hru) int32 1 2 3 4 5\n",
       "Dimensions without coordinates: gru, ifcSoil, ifcToto, midSoil, midToto\n",
       "Data variables:\n",
       "    pptrate                    (time, hru) float64 ...\n",
       "    airtemp                    (time, hru) float64 ...\n",
       "    hruId                      (hru) int32 ...\n",
       "    basin__SurfaceRunoff       (time, gru) float64 ...\n",
       "    basin__ColumnOutflow       (time, gru) float64 ...\n",
       "    basin__AquiferStorage      (time, gru) float64 ...\n",
       "    basin__AquiferRecharge     (time, gru) float64 ...\n",
       "    basin__AquiferBaseflow     (time, gru) float64 ...\n",
       "    basin__AquiferTranspire    (time, gru) float64 ...\n",
       "    averageInstantRunoff       (time, gru) float64 ...\n",
       "    averageRoutedRunoff        (time, gru) float64 ...\n",
       "    nSnow                      (time, hru) int32 ...\n",
       "    nSoil                      (time, hru) int32 ...\n",
       "    nLayers                    (time, hru) int32 ...\n",
       "    scalarSWE                  (time, hru) float64 ...\n",
       "    mLayerTemp                 (time, midToto, hru) float64 ...\n",
       "    mLayerVolFracIce           (time, midToto, hru) float64 ...\n",
       "    mLayerVolFracLiq           (time, midToto, hru) float64 ...\n",
       "    mLayerVolFracWat           (time, midToto, hru) float64 ...\n",
       "    mLayerMatricHead           (time, midSoil, hru) float64 ...\n",
       "    scalarSurfaceTemp          (time, hru) float64 ...\n",
       "    mLayerDepth                (time, midToto, hru) float64 ...\n",
       "    iLayerHeight               (time, ifcToto, hru) float64 ...\n",
       "    scalarBelowCanopySolar     (time, hru) float64 ...\n",
       "    scalarWindspdCanopyBottom  (time, hru) float64 ...\n",
       "    scalarSenHeatTotal         (time, hru) float64 ...\n",
       "    scalarLatHeatTotal         (time, hru) float64 ...\n",
       "    scalarSnowSublimation      (time, hru) float64 ...\n",
       "    scalarCanopyTranspiration  (time, hru) float64 ...\n",
       "    scalarCanopyEvaporation    (time, hru) float64 ...\n",
       "    scalarGroundEvaporation    (time, hru) float64 ...\n",
       "    scalarThroughfallSnow      (time, hru) float64 ...\n",
       "    scalarThroughfallRain      (time, hru) float64 ...\n",
       "    scalarRainPlusMelt         (time, hru) float64 ...\n",
       "    scalarInfiltration         (time, hru) float64 ...\n",
       "    scalarExfiltration         (time, hru) float64 ...\n",
       "    scalarSurfaceRunoff        (time, hru) float64 ...\n",
       "    iLayerLiqFluxSoil          (time, ifcSoil, hru) float64 ...\n",
       "    mLayerLiqFluxSoil          (time, midSoil, hru) float64 ...\n",
       "Attributes:\n",
       "    summaVersion:     v2.0.0\n",
       "    buildTime:        Fri Sep 14 23:18:10 UTC 2018\n",
       "    gitBranch:        sopron_2018-0-gdb0bd07\n",
       "    gitHash:          db0bd07b19a6c0824a1a95e393719b8134c5ea8d\n",
       "    soilStress:       NoahType\n",
       "    stomResist:       BallBerry\n",
       "    num_method:       itertive\n",
       "    fDerivMeth:       analytic\n",
       "    LAI_method:       specified\n",
       "    notPopulatedYet:  notPopulatedYet\n",
       "    f_Richards:       mixdform\n",
       "    groundwatr:       noXplict\n",
       "    hc_profile:       constant\n",
       "    bcUpprTdyn:       nrg_flux\n",
       "    bcLowrTdyn:       zeroFlux\n",
       "    bcUpprSoiH:       liq_flux\n",
       "    bcLowrSoiH:       drainage\n",
       "    veg_traits:       CM_QJRMS1988\n",
       "    canopyEmis:       difTrans\n",
       "    snowIncept:       lightSnow\n",
       "    windPrfile:       exponential\n",
       "    astability:       louisinv\n",
       "    canopySrad:       UEB_2stream\n",
       "    alb_method:       varDecay\n",
       "    snowLayers:       CLM_2010\n",
       "    compaction:       anderson\n",
       "    thCondSnow:       jrdn1991\n",
       "    thCondSoil:       mixConstit\n",
       "    spatial_gw:       localColumn\n",
       "    subRouting:       timeDlay"
      ]
     },
     "execution_count": 19,
     "metadata": {},
     "output_type": "execute_result"
    }
   ],
   "source": [
    "# check output varible what we want \n",
    "results_windspeed"
   ]
  },
  {
   "cell_type": "code",
   "execution_count": 20,
   "metadata": {},
   "outputs": [],
   "source": [
    "# Create data frame object to get wind speed data from model output\n",
    "sim_wind_speed = hourly_ouput(results_windspeed, 'scalarWindspdCanopyBottom', '2006-10-01', '2007-09-30')"
   ]
  },
  {
   "cell_type": "code",
   "execution_count": 21,
   "metadata": {},
   "outputs": [
    {
     "data": {
      "text/html": [
       "<div>\n",
       "<style scoped>\n",
       "    .dataframe tbody tr th:only-of-type {\n",
       "        vertical-align: middle;\n",
       "    }\n",
       "\n",
       "    .dataframe tbody tr th {\n",
       "        vertical-align: top;\n",
       "    }\n",
       "\n",
       "    .dataframe thead th {\n",
       "        text-align: right;\n",
       "    }\n",
       "</style>\n",
       "<table border=\"1\" class=\"dataframe\">\n",
       "  <thead>\n",
       "    <tr style=\"text-align: right;\">\n",
       "      <th></th>\n",
       "      <th>0</th>\n",
       "      <th>1</th>\n",
       "      <th>2</th>\n",
       "      <th>3</th>\n",
       "      <th>4</th>\n",
       "    </tr>\n",
       "  </thead>\n",
       "  <tbody>\n",
       "    <tr>\n",
       "      <th>2006-10-01 00:00:00</th>\n",
       "      <td>0.874746</td>\n",
       "      <td>0.433970</td>\n",
       "      <td>0.184242</td>\n",
       "      <td>0.069595</td>\n",
       "      <td>0.026289</td>\n",
       "    </tr>\n",
       "    <tr>\n",
       "      <th>2006-10-01 01:00:00</th>\n",
       "      <td>1.076867</td>\n",
       "      <td>0.534422</td>\n",
       "      <td>0.226981</td>\n",
       "      <td>0.085779</td>\n",
       "      <td>0.032417</td>\n",
       "    </tr>\n",
       "    <tr>\n",
       "      <th>2006-10-01 02:00:00</th>\n",
       "      <td>0.908823</td>\n",
       "      <td>0.451176</td>\n",
       "      <td>0.191702</td>\n",
       "      <td>0.072480</td>\n",
       "      <td>0.027404</td>\n",
       "    </tr>\n",
       "    <tr>\n",
       "      <th>2006-10-01 03:00:00</th>\n",
       "      <td>0.909040</td>\n",
       "      <td>0.451434</td>\n",
       "      <td>0.191890</td>\n",
       "      <td>0.072585</td>\n",
       "      <td>0.027456</td>\n",
       "    </tr>\n",
       "    <tr>\n",
       "      <th>2006-10-01 04:00:00</th>\n",
       "      <td>0.942933</td>\n",
       "      <td>0.468421</td>\n",
       "      <td>0.199192</td>\n",
       "      <td>0.075382</td>\n",
       "      <td>0.028527</td>\n",
       "    </tr>\n",
       "  </tbody>\n",
       "</table>\n",
       "</div>"
      ],
      "text/plain": [
       "                            0         1         2         3         4\n",
       "2006-10-01 00:00:00  0.874746  0.433970  0.184242  0.069595  0.026289\n",
       "2006-10-01 01:00:00  1.076867  0.534422  0.226981  0.085779  0.032417\n",
       "2006-10-01 02:00:00  0.908823  0.451176  0.191702  0.072480  0.027404\n",
       "2006-10-01 03:00:00  0.909040  0.451434  0.191890  0.072585  0.027456\n",
       "2006-10-01 04:00:00  0.942933  0.468421  0.199192  0.075382  0.028527"
      ]
     },
     "execution_count": 21,
     "metadata": {},
     "output_type": "execute_result"
    }
   ],
   "source": [
    "sim_wind_speed.head() # model_output"
   ]
  },
  {
   "cell_type": "markdown",
   "metadata": {},
   "source": [
    "####  Get forcing data of wind speed "
   ]
  },
  {
   "cell_type": "code",
   "execution_count": 22,
   "metadata": {},
   "outputs": [],
   "source": [
    "# get forcing data path\n",
    "forcing_path =file_manager.split('/settings')[0]+'/data/forcingData/forcing_above_aspenPP.nc'"
   ]
  },
  {
   "cell_type": "code",
   "execution_count": 23,
   "metadata": {},
   "outputs": [
    {
     "data": {
      "text/plain": [
       "<xarray.Dataset>\n",
       "Dimensions:    (hru: 5, time: 87672)\n",
       "Coordinates:\n",
       "  * time       (time) datetime64[ns] 1998-10-01T00:59:59.999996640 ...\n",
       "Dimensions without coordinates: hru\n",
       "Data variables:\n",
       "    hruId      (hru) int32 ...\n",
       "    latitude   (hru) float64 ...\n",
       "    longitude  (hru) float64 ...\n",
       "    data_step  timedelta64[ns] ...\n",
       "    LWRadAtm   (time, hru) float64 ...\n",
       "    SWRadAtm   (time, hru) float64 ...\n",
       "    airpres    (time, hru) float64 ...\n",
       "    airtemp    (time, hru) float64 ...\n",
       "    pptrate    (time, hru) float64 ...\n",
       "    spechum    (time, hru) float64 ...\n",
       "    windspd    (time, hru) float64 ...\n",
       "Attributes:\n",
       "    dataset_orig_path:  /d2/anewman/summa/summaTestCases/testCases_data/input...\n",
       "    history:            Tue Sep 27 21:53:08 2016: ncrename -d nHRU,hru ./inpu...\n",
       "    NCO:                \"4.6.0\""
      ]
     },
     "execution_count": 23,
     "metadata": {},
     "output_type": "execute_result"
    }
   ],
   "source": [
    "# check forcing varible what we want \n",
    "forcing_variables = Plotting(forcing_path)\n",
    "forcing_variables.open_netcdf()"
   ]
  },
  {
   "cell_type": "code",
   "execution_count": 24,
   "metadata": {},
   "outputs": [
    {
     "data": {
      "text/html": [
       "<div>\n",
       "<style scoped>\n",
       "    .dataframe tbody tr th:only-of-type {\n",
       "        vertical-align: middle;\n",
       "    }\n",
       "\n",
       "    .dataframe tbody tr th {\n",
       "        vertical-align: top;\n",
       "    }\n",
       "\n",
       "    .dataframe thead th {\n",
       "        text-align: right;\n",
       "    }\n",
       "</style>\n",
       "<table border=\"1\" class=\"dataframe\">\n",
       "  <thead>\n",
       "    <tr style=\"text-align: right;\">\n",
       "      <th></th>\n",
       "      <th>0</th>\n",
       "      <th>1</th>\n",
       "      <th>2</th>\n",
       "      <th>3</th>\n",
       "      <th>4</th>\n",
       "    </tr>\n",
       "  </thead>\n",
       "  <tbody>\n",
       "    <tr>\n",
       "      <th>2006-10-01 00:00:00</th>\n",
       "      <td>2.6</td>\n",
       "      <td>2.6</td>\n",
       "      <td>2.6</td>\n",
       "      <td>2.6</td>\n",
       "      <td>2.6</td>\n",
       "    </tr>\n",
       "    <tr>\n",
       "      <th>2006-10-01 01:00:00</th>\n",
       "      <td>3.2</td>\n",
       "      <td>3.2</td>\n",
       "      <td>3.2</td>\n",
       "      <td>3.2</td>\n",
       "      <td>3.2</td>\n",
       "    </tr>\n",
       "    <tr>\n",
       "      <th>2006-10-01 02:00:00</th>\n",
       "      <td>2.7</td>\n",
       "      <td>2.7</td>\n",
       "      <td>2.7</td>\n",
       "      <td>2.7</td>\n",
       "      <td>2.7</td>\n",
       "    </tr>\n",
       "    <tr>\n",
       "      <th>2006-10-01 03:00:00</th>\n",
       "      <td>2.7</td>\n",
       "      <td>2.7</td>\n",
       "      <td>2.7</td>\n",
       "      <td>2.7</td>\n",
       "      <td>2.7</td>\n",
       "    </tr>\n",
       "    <tr>\n",
       "      <th>2006-10-01 04:00:00</th>\n",
       "      <td>2.8</td>\n",
       "      <td>2.8</td>\n",
       "      <td>2.8</td>\n",
       "      <td>2.8</td>\n",
       "      <td>2.8</td>\n",
       "    </tr>\n",
       "  </tbody>\n",
       "</table>\n",
       "</div>"
      ],
      "text/plain": [
       "                       0    1    2    3    4\n",
       "2006-10-01 00:00:00  2.6  2.6  2.6  2.6  2.6\n",
       "2006-10-01 01:00:00  3.2  3.2  3.2  3.2  3.2\n",
       "2006-10-01 02:00:00  2.7  2.7  2.7  2.7  2.7\n",
       "2006-10-01 03:00:00  2.7  2.7  2.7  2.7  2.7\n",
       "2006-10-01 04:00:00  2.8  2.8  2.8  2.8  2.8"
      ]
     },
     "execution_count": 24,
     "metadata": {},
     "output_type": "execute_result"
    }
   ],
   "source": [
    "# Create data frame object to get wind speed data from forcing data\n",
    "forcing_wind_speed = hourly_forcing(forcing_path, 'windspd', '2006-10-01', '2007-09-30')\n",
    "forcing_wind_speed.head() # wind_forcing"
   ]
  },
  {
   "cell_type": "markdown",
   "metadata": {},
   "source": [
    "####  Get validation data(observation data) of wind speed  "
   ]
  },
  {
   "cell_type": "code",
   "execution_count": 25,
   "metadata": {},
   "outputs": [],
   "source": [
    "# get validation data path\n",
    "valdata_path =file_manager.split('/settings')[0]+'/data/validationData/ReynoldsCreek_eddyFlux.nc'"
   ]
  },
  {
   "cell_type": "code",
   "execution_count": 26,
   "metadata": {},
   "outputs": [
    {
     "data": {
      "text/plain": [
       "<xarray.Dataset>\n",
       "Dimensions:      (station: 3, time: 87696)\n",
       "Coordinates:\n",
       "  * station      (station) |S30 b'176b-AspenUnderstory' b'176d-Aspen' ...\n",
       "  * time         (time) datetime64[ns] 2004-01-01 2004-01-01T00:30:00 ...\n",
       "Data variables:\n",
       "    date         (time) |S30 ...\n",
       "    time_of_day  (time) |S30 ...\n",
       "    rncnr        (time, station) float64 ...\n",
       "    FC-wpl       (time, station) float64 ...\n",
       "    LE-wpl       (time, station) float64 ...\n",
       "    H-wpl        (time, station) float64 ...\n",
       "    Scan         (time, station) float64 ...\n",
       "    G            (time, station) float64 ...\n",
       "    Rn-S-G       (time, station) float64 ...\n",
       "    turbFlux     (time, station) float64 ...\n",
       "    error        (time, station) float64 ...\n",
       "    LECor        (time, station) float64 ...\n",
       "    HCor         (time, station) float64 ...\n",
       "    rsd          (time, station) float64 ...\n",
       "    rsu          (time, station) float64 ...\n",
       "    rld          (time, station) float64 ...\n",
       "    rlu          (time, station) float64 ...\n",
       "    wind         (time, station) float64 ...\n",
       "    ustar        (time, station) float64 ...\n",
       "    WindDir      (time, station) float64 ...\n",
       "    WindFlag     (time, station) int16 ..."
      ]
     },
     "execution_count": 26,
     "metadata": {},
     "output_type": "execute_result"
    }
   ],
   "source": [
    "# check observation varible what we want \n",
    "obs_variables = Plotting(valdata_path)\n",
    "obs_variables.open_netcdf()"
   ]
  },
  {
   "cell_type": "code",
   "execution_count": 27,
   "metadata": {},
   "outputs": [],
   "source": [
    "# Create data frame object to get wind speed data from observation data\n",
    "obs_wind_speed = hourly_observation(valdata_path, 'wind', '2006-10-01', '2007-09-30')"
   ]
  },
  {
   "cell_type": "markdown",
   "metadata": {},
   "source": [
    "#### 3) Create the plotting of the above canopy wind speed"
   ]
  },
  {
   "cell_type": "code",
   "execution_count": 28,
   "metadata": {},
   "outputs": [],
   "source": [
    "# create each object to create new Dataframe\n",
    "time = obs_wind_speed['Date_Time'].values\n",
    "obs_wind_speed1 = obs_wind_speed['Observation (aspen)'].values\n",
    "forcing_wind_speed = forcing_wind_speed[0].values"
   ]
  },
  {
   "cell_type": "code",
   "execution_count": 29,
   "metadata": {},
   "outputs": [
    {
     "data": {
      "text/html": [
       "<div>\n",
       "<style scoped>\n",
       "    .dataframe tbody tr th:only-of-type {\n",
       "        vertical-align: middle;\n",
       "    }\n",
       "\n",
       "    .dataframe tbody tr th {\n",
       "        vertical-align: top;\n",
       "    }\n",
       "\n",
       "    .dataframe thead th {\n",
       "        text-align: right;\n",
       "    }\n",
       "</style>\n",
       "<table border=\"1\" class=\"dataframe\">\n",
       "  <thead>\n",
       "    <tr style=\"text-align: right;\">\n",
       "      <th></th>\n",
       "      <th>Observed windspeed at the \"exposed\" site</th>\n",
       "      <th>Observed windspeed above the Aspen canopy</th>\n",
       "    </tr>\n",
       "  </thead>\n",
       "  <tbody>\n",
       "    <tr>\n",
       "      <th>2006-10-01 00:00:00</th>\n",
       "      <td>2.6</td>\n",
       "      <td>NaN</td>\n",
       "    </tr>\n",
       "    <tr>\n",
       "      <th>2006-10-01 01:00:00</th>\n",
       "      <td>3.2</td>\n",
       "      <td>NaN</td>\n",
       "    </tr>\n",
       "    <tr>\n",
       "      <th>2006-10-01 02:00:00</th>\n",
       "      <td>2.7</td>\n",
       "      <td>NaN</td>\n",
       "    </tr>\n",
       "    <tr>\n",
       "      <th>2006-10-01 03:00:00</th>\n",
       "      <td>2.7</td>\n",
       "      <td>NaN</td>\n",
       "    </tr>\n",
       "    <tr>\n",
       "      <th>2006-10-01 04:00:00</th>\n",
       "      <td>2.8</td>\n",
       "      <td>NaN</td>\n",
       "    </tr>\n",
       "  </tbody>\n",
       "</table>\n",
       "</div>"
      ],
      "text/plain": [
       "                     Observed windspeed at the \"exposed\" site  \\\n",
       "2006-10-01 00:00:00                                       2.6   \n",
       "2006-10-01 01:00:00                                       3.2   \n",
       "2006-10-01 02:00:00                                       2.7   \n",
       "2006-10-01 03:00:00                                       2.7   \n",
       "2006-10-01 04:00:00                                       2.8   \n",
       "\n",
       "                     Observed windspeed above the Aspen canopy  \n",
       "2006-10-01 00:00:00                                        NaN  \n",
       "2006-10-01 01:00:00                                        NaN  \n",
       "2006-10-01 02:00:00                                        NaN  \n",
       "2006-10-01 03:00:00                                        NaN  \n",
       "2006-10-01 04:00:00                                        NaN  "
      ]
     },
     "execution_count": 29,
     "metadata": {},
     "output_type": "execute_result"
    }
   ],
   "source": [
    "# Create Data Frame to merge forcing and observation data\n",
    "above_canopy_wind_speed = pd.DataFrame({'Observed windspeed at the \"exposed\" site':forcing_wind_speed, 'Observed windspeed above the Aspen canopy':obs_wind_speed1}, index=time)\n",
    "above_canopy_wind_speed = above_canopy_wind_speed[['Observed windspeed at the \"exposed\" site', 'Observed windspeed above the Aspen canopy']]\n",
    "above_canopy_wind_speed.head()"
   ]
  },
  {
   "cell_type": "code",
   "execution_count": 30,
   "metadata": {
    "scrolled": false
   },
   "outputs": [
    {
     "data": {
      "image/png": "[encoded data removed]",
      "text/plain": [
       "<matplotlib.figure.Figure at 0x7f8ff92a76d8>"
      ]
     },
     "metadata": {
      "needs_background": "light"
     },
     "output_type": "display_data"
    }
   ],
   "source": [
    "# Plotting above canopy wind speed (SUMMA 2nd Paper Figure2-right above)\n",
    "above_canopy_wind_speed.plot()\n",
    "jtplot.figsize(x=20, y=4)"
   ]
  },
  {
   "cell_type": "markdown",
   "metadata": {},
   "source": [
    "#### 4) Create the plotting of  the below canopy wind speed"
   ]
  },
  {
   "cell_type": "code",
   "execution_count": 31,
   "metadata": {},
   "outputs": [],
   "source": [
    "# create each object to create new Dataframe\n",
    "sim_wind_speed1 = sim_wind_speed[1].values\n",
    "obs_wind_speed2 = obs_wind_speed['Observation (Aspen understory)'].values"
   ]
  },
  {
   "cell_type": "code",
   "execution_count": 32,
   "metadata": {},
   "outputs": [
    {
     "data": {
      "text/html": [
       "<div>\n",
       "<style scoped>\n",
       "    .dataframe tbody tr th:only-of-type {\n",
       "        vertical-align: middle;\n",
       "    }\n",
       "\n",
       "    .dataframe tbody tr th {\n",
       "        vertical-align: top;\n",
       "    }\n",
       "\n",
       "    .dataframe thead th {\n",
       "        text-align: right;\n",
       "    }\n",
       "</style>\n",
       "<table border=\"1\" class=\"dataframe\">\n",
       "  <thead>\n",
       "    <tr style=\"text-align: right;\">\n",
       "      <th></th>\n",
       "      <th>Simulated windspeed below the Aspen canopy</th>\n",
       "      <th>Observed windspeed below the Aspen canopy</th>\n",
       "    </tr>\n",
       "  </thead>\n",
       "  <tbody>\n",
       "    <tr>\n",
       "      <th>2006-10-01 00:00:00</th>\n",
       "      <td>0.433970</td>\n",
       "      <td>0.22705</td>\n",
       "    </tr>\n",
       "    <tr>\n",
       "      <th>2006-10-01 01:00:00</th>\n",
       "      <td>0.534422</td>\n",
       "      <td>0.40650</td>\n",
       "    </tr>\n",
       "    <tr>\n",
       "      <th>2006-10-01 02:00:00</th>\n",
       "      <td>0.451176</td>\n",
       "      <td>0.46735</td>\n",
       "    </tr>\n",
       "    <tr>\n",
       "      <th>2006-10-01 03:00:00</th>\n",
       "      <td>0.451434</td>\n",
       "      <td>0.40700</td>\n",
       "    </tr>\n",
       "    <tr>\n",
       "      <th>2006-10-01 04:00:00</th>\n",
       "      <td>0.468421</td>\n",
       "      <td>0.43690</td>\n",
       "    </tr>\n",
       "  </tbody>\n",
       "</table>\n",
       "</div>"
      ],
      "text/plain": [
       "                     Simulated windspeed below the Aspen canopy  \\\n",
       "2006-10-01 00:00:00                                    0.433970   \n",
       "2006-10-01 01:00:00                                    0.534422   \n",
       "2006-10-01 02:00:00                                    0.451176   \n",
       "2006-10-01 03:00:00                                    0.451434   \n",
       "2006-10-01 04:00:00                                    0.468421   \n",
       "\n",
       "                     Observed windspeed below the Aspen canopy  \n",
       "2006-10-01 00:00:00                                    0.22705  \n",
       "2006-10-01 01:00:00                                    0.40650  \n",
       "2006-10-01 02:00:00                                    0.46735  \n",
       "2006-10-01 03:00:00                                    0.40700  \n",
       "2006-10-01 04:00:00                                    0.43690  "
      ]
     },
     "execution_count": 32,
     "metadata": {},
     "output_type": "execute_result"
    }
   ],
   "source": [
    "# Create Data Frame to merge forcing and observation data\n",
    "below_canopy_wind_speed = pd.DataFrame({'Simulated windspeed below the Aspen canopy':sim_wind_speed1, 'Observed windspeed below the Aspen canopy':obs_wind_speed2}, index=time)\n",
    "below_canopy_wind_speed.head()"
   ]
  },
  {
   "cell_type": "code",
   "execution_count": 68,
   "metadata": {},
   "outputs": [
    {
     "data": {
      "image/png": "[encoded data removed]",
      "text/plain": [
       "<matplotlib.figure.Figure at 0x7f8f69de0208>"
      ]
     },
     "metadata": {
      "needs_background": "light"
     },
     "output_type": "display_data"
    }
   ],
   "source": [
    "# Plotting below canopy wind speed (SUMMA 2nd Paper Figure2-right below)\n",
    "below_canopy_wind_speed_graph = below_canopy_wind_speed.plot()\n",
    "below_canopy_wind_speed_graph.set_xlabel('Date', fontsize=20)\n",
    "below_canopy_wind_speed_graph.set_ylabel('Below-canopy\\nwindspeed (mm s-1) ', fontsize=20)\n",
    "# show up the legend\n",
    "below_canopy_wind_speed_graph.legend(fontsize=17)\n",
    "below_canopy_wind_speed_graph.tick_params(labelsize = 20)\n",
    "jtplot.figsize(x=20, y=4)"
   ]
  },
  {
   "cell_type": "markdown",
   "metadata": {},
   "source": [
    "#### 4) Create the plotting of Exceedance probability"
   ]
  },
  {
   "cell_type": "markdown",
   "metadata": {},
   "source": [
    "#### Case-1) Canopy wind parameter = 0.10"
   ]
  },
  {
   "cell_type": "code",
   "execution_count": 34,
   "metadata": {
    "scrolled": true
   },
   "outputs": [
    {
     "data": {
      "text/html": [
       "<div>\n",
       "<style scoped>\n",
       "    .dataframe tbody tr th:only-of-type {\n",
       "        vertical-align: middle;\n",
       "    }\n",
       "\n",
       "    .dataframe tbody tr th {\n",
       "        vertical-align: top;\n",
       "    }\n",
       "\n",
       "    .dataframe thead th {\n",
       "        text-align: right;\n",
       "    }\n",
       "</style>\n",
       "<table border=\"1\" class=\"dataframe\">\n",
       "  <thead>\n",
       "    <tr style=\"text-align: right;\">\n",
       "      <th></th>\n",
       "      <th>0</th>\n",
       "      <th>1</th>\n",
       "      <th>2</th>\n",
       "      <th>3</th>\n",
       "      <th>4</th>\n",
       "    </tr>\n",
       "  </thead>\n",
       "  <tbody>\n",
       "    <tr>\n",
       "      <th>2006-10-01 00:00:00</th>\n",
       "      <td>0.874746</td>\n",
       "      <td>0.433970</td>\n",
       "      <td>0.184242</td>\n",
       "      <td>0.069595</td>\n",
       "      <td>0.026289</td>\n",
       "    </tr>\n",
       "    <tr>\n",
       "      <th>2006-10-01 01:00:00</th>\n",
       "      <td>1.076867</td>\n",
       "      <td>0.534422</td>\n",
       "      <td>0.226981</td>\n",
       "      <td>0.085779</td>\n",
       "      <td>0.032417</td>\n",
       "    </tr>\n",
       "    <tr>\n",
       "      <th>2006-10-01 02:00:00</th>\n",
       "      <td>0.908823</td>\n",
       "      <td>0.451176</td>\n",
       "      <td>0.191702</td>\n",
       "      <td>0.072480</td>\n",
       "      <td>0.027404</td>\n",
       "    </tr>\n",
       "    <tr>\n",
       "      <th>2006-10-01 03:00:00</th>\n",
       "      <td>0.909040</td>\n",
       "      <td>0.451434</td>\n",
       "      <td>0.191890</td>\n",
       "      <td>0.072585</td>\n",
       "      <td>0.027456</td>\n",
       "    </tr>\n",
       "    <tr>\n",
       "      <th>2006-10-01 04:00:00</th>\n",
       "      <td>0.942933</td>\n",
       "      <td>0.468421</td>\n",
       "      <td>0.199192</td>\n",
       "      <td>0.075382</td>\n",
       "      <td>0.028527</td>\n",
       "    </tr>\n",
       "  </tbody>\n",
       "</table>\n",
       "</div>"
      ],
      "text/plain": [
       "                            0         1         2         3         4\n",
       "2006-10-01 00:00:00  0.874746  0.433970  0.184242  0.069595  0.026289\n",
       "2006-10-01 01:00:00  1.076867  0.534422  0.226981  0.085779  0.032417\n",
       "2006-10-01 02:00:00  0.908823  0.451176  0.191702  0.072480  0.027404\n",
       "2006-10-01 03:00:00  0.909040  0.451434  0.191890  0.072585  0.027456\n",
       "2006-10-01 04:00:00  0.942933  0.468421  0.199192  0.075382  0.028527"
      ]
     },
     "execution_count": 34,
     "metadata": {},
     "output_type": "execute_result"
    }
   ],
   "source": [
    "# Check wind speed data from SUMMA output\n",
    "sim_wind_speed.head()"
   ]
  },
  {
   "cell_type": "code",
   "execution_count": 35,
   "metadata": {},
   "outputs": [
    {
     "data": {
      "text/html": [
       "<div>\n",
       "<style scoped>\n",
       "    .dataframe tbody tr th:only-of-type {\n",
       "        vertical-align: middle;\n",
       "    }\n",
       "\n",
       "    .dataframe tbody tr th {\n",
       "        vertical-align: top;\n",
       "    }\n",
       "\n",
       "    .dataframe thead th {\n",
       "        text-align: right;\n",
       "    }\n",
       "</style>\n",
       "<table border=\"1\" class=\"dataframe\">\n",
       "  <thead>\n",
       "    <tr style=\"text-align: right;\">\n",
       "      <th></th>\n",
       "      <th>0</th>\n",
       "      <th>1</th>\n",
       "      <th>2</th>\n",
       "      <th>3</th>\n",
       "      <th>4</th>\n",
       "    </tr>\n",
       "  </thead>\n",
       "  <tbody>\n",
       "    <tr>\n",
       "      <th>2007-06-13 02:00:00</th>\n",
       "      <td>0.144510</td>\n",
       "      <td>0.057858</td>\n",
       "      <td>0.018901</td>\n",
       "      <td>0.005301</td>\n",
       "      <td>0.001487</td>\n",
       "    </tr>\n",
       "    <tr>\n",
       "      <th>2007-06-07 22:00:00</th>\n",
       "      <td>0.148167</td>\n",
       "      <td>0.061469</td>\n",
       "      <td>0.020973</td>\n",
       "      <td>0.006180</td>\n",
       "      <td>0.001821</td>\n",
       "    </tr>\n",
       "    <tr>\n",
       "      <th>2006-10-14 06:00:00</th>\n",
       "      <td>0.190115</td>\n",
       "      <td>0.105310</td>\n",
       "      <td>0.051158</td>\n",
       "      <td>0.022521</td>\n",
       "      <td>0.009915</td>\n",
       "    </tr>\n",
       "    <tr>\n",
       "      <th>2007-07-26 04:00:00</th>\n",
       "      <td>0.194602</td>\n",
       "      <td>0.073708</td>\n",
       "      <td>0.022500</td>\n",
       "      <td>0.005842</td>\n",
       "      <td>0.001517</td>\n",
       "    </tr>\n",
       "    <tr>\n",
       "      <th>2007-07-05 23:00:00</th>\n",
       "      <td>0.196130</td>\n",
       "      <td>0.075121</td>\n",
       "      <td>0.023247</td>\n",
       "      <td>0.006131</td>\n",
       "      <td>0.001617</td>\n",
       "    </tr>\n",
       "  </tbody>\n",
       "</table>\n",
       "</div>"
      ],
      "text/plain": [
       "                            0         1         2         3         4\n",
       "2007-06-13 02:00:00  0.144510  0.057858  0.018901  0.005301  0.001487\n",
       "2007-06-07 22:00:00  0.148167  0.061469  0.020973  0.006180  0.001821\n",
       "2006-10-14 06:00:00  0.190115  0.105310  0.051158  0.022521  0.009915\n",
       "2007-07-26 04:00:00  0.194602  0.073708  0.022500  0.005842  0.001517\n",
       "2007-07-05 23:00:00  0.196130  0.075121  0.023247  0.006131  0.001617"
      ]
     },
     "execution_count": 35,
     "metadata": {},
     "output_type": "execute_result"
    }
   ],
   "source": [
    "# Sort column '0' value as ascending order to apply the case of canopy wind parameter 0.10\n",
    "sim_wind_speed_0_10_sort = sim_wind_speed.sort_values(by=[0])\n",
    "sim_wind_speed_0_10_sort.head()"
   ]
  },
  {
   "cell_type": "code",
   "execution_count": 36,
   "metadata": {},
   "outputs": [],
   "source": [
    "# Create rank column to link with sorting data\n",
    "sim_wind_speed_0_10_sort.insert(0, 'rank', range(0, len(sim_wind_speed)))"
   ]
  },
  {
   "cell_type": "code",
   "execution_count": 37,
   "metadata": {},
   "outputs": [
    {
     "data": {
      "text/html": [
       "<div>\n",
       "<style scoped>\n",
       "    .dataframe tbody tr th:only-of-type {\n",
       "        vertical-align: middle;\n",
       "    }\n",
       "\n",
       "    .dataframe tbody tr th {\n",
       "        vertical-align: top;\n",
       "    }\n",
       "\n",
       "    .dataframe thead th {\n",
       "        text-align: right;\n",
       "    }\n",
       "</style>\n",
       "<table border=\"1\" class=\"dataframe\">\n",
       "  <thead>\n",
       "    <tr style=\"text-align: right;\">\n",
       "      <th></th>\n",
       "      <th>rank</th>\n",
       "      <th>0</th>\n",
       "      <th>1</th>\n",
       "      <th>2</th>\n",
       "      <th>3</th>\n",
       "      <th>4</th>\n",
       "    </tr>\n",
       "  </thead>\n",
       "  <tbody>\n",
       "    <tr>\n",
       "      <th>2007-06-13 02:00:00</th>\n",
       "      <td>0</td>\n",
       "      <td>0.144510</td>\n",
       "      <td>0.057858</td>\n",
       "      <td>0.018901</td>\n",
       "      <td>0.005301</td>\n",
       "      <td>0.001487</td>\n",
       "    </tr>\n",
       "    <tr>\n",
       "      <th>2007-06-07 22:00:00</th>\n",
       "      <td>1</td>\n",
       "      <td>0.148167</td>\n",
       "      <td>0.061469</td>\n",
       "      <td>0.020973</td>\n",
       "      <td>0.006180</td>\n",
       "      <td>0.001821</td>\n",
       "    </tr>\n",
       "    <tr>\n",
       "      <th>2006-10-14 06:00:00</th>\n",
       "      <td>2</td>\n",
       "      <td>0.190115</td>\n",
       "      <td>0.105310</td>\n",
       "      <td>0.051158</td>\n",
       "      <td>0.022521</td>\n",
       "      <td>0.009915</td>\n",
       "    </tr>\n",
       "    <tr>\n",
       "      <th>2007-07-26 04:00:00</th>\n",
       "      <td>3</td>\n",
       "      <td>0.194602</td>\n",
       "      <td>0.073708</td>\n",
       "      <td>0.022500</td>\n",
       "      <td>0.005842</td>\n",
       "      <td>0.001517</td>\n",
       "    </tr>\n",
       "    <tr>\n",
       "      <th>2007-07-05 23:00:00</th>\n",
       "      <td>4</td>\n",
       "      <td>0.196130</td>\n",
       "      <td>0.075121</td>\n",
       "      <td>0.023247</td>\n",
       "      <td>0.006131</td>\n",
       "      <td>0.001617</td>\n",
       "    </tr>\n",
       "  </tbody>\n",
       "</table>\n",
       "</div>"
      ],
      "text/plain": [
       "                     rank         0         1         2         3         4\n",
       "2007-06-13 02:00:00     0  0.144510  0.057858  0.018901  0.005301  0.001487\n",
       "2007-06-07 22:00:00     1  0.148167  0.061469  0.020973  0.006180  0.001821\n",
       "2006-10-14 06:00:00     2  0.190115  0.105310  0.051158  0.022521  0.009915\n",
       "2007-07-26 04:00:00     3  0.194602  0.073708  0.022500  0.005842  0.001517\n",
       "2007-07-05 23:00:00     4  0.196130  0.075121  0.023247  0.006131  0.001617"
      ]
     },
     "execution_count": 37,
     "metadata": {},
     "output_type": "execute_result"
    }
   ],
   "source": [
    "sim_wind_speed_0_10_sort.head()"
   ]
  },
  {
   "cell_type": "code",
   "execution_count": 38,
   "metadata": {},
   "outputs": [],
   "source": [
    "# Create the object of the exceedance probability\n",
    "sim_wind_speed_0_10_sort['prob_0'] = 1 - sim_wind_speed_0_10_sort['rank']/(len(sim_wind_speed)+1)"
   ]
  },
  {
   "cell_type": "code",
   "execution_count": 39,
   "metadata": {},
   "outputs": [
    {
     "data": {
      "text/html": [
       "<div>\n",
       "<style scoped>\n",
       "    .dataframe tbody tr th:only-of-type {\n",
       "        vertical-align: middle;\n",
       "    }\n",
       "\n",
       "    .dataframe tbody tr th {\n",
       "        vertical-align: top;\n",
       "    }\n",
       "\n",
       "    .dataframe thead th {\n",
       "        text-align: right;\n",
       "    }\n",
       "</style>\n",
       "<table border=\"1\" class=\"dataframe\">\n",
       "  <thead>\n",
       "    <tr style=\"text-align: right;\">\n",
       "      <th></th>\n",
       "      <th>rank</th>\n",
       "      <th>0</th>\n",
       "      <th>1</th>\n",
       "      <th>2</th>\n",
       "      <th>3</th>\n",
       "      <th>4</th>\n",
       "      <th>prob_0</th>\n",
       "    </tr>\n",
       "  </thead>\n",
       "  <tbody>\n",
       "    <tr>\n",
       "      <th>2007-06-13 02:00:00</th>\n",
       "      <td>0</td>\n",
       "      <td>0.144510</td>\n",
       "      <td>0.057858</td>\n",
       "      <td>0.018901</td>\n",
       "      <td>0.005301</td>\n",
       "      <td>0.001487</td>\n",
       "      <td>1.000000</td>\n",
       "    </tr>\n",
       "    <tr>\n",
       "      <th>2007-06-07 22:00:00</th>\n",
       "      <td>1</td>\n",
       "      <td>0.148167</td>\n",
       "      <td>0.061469</td>\n",
       "      <td>0.020973</td>\n",
       "      <td>0.006180</td>\n",
       "      <td>0.001821</td>\n",
       "      <td>0.999886</td>\n",
       "    </tr>\n",
       "    <tr>\n",
       "      <th>2006-10-14 06:00:00</th>\n",
       "      <td>2</td>\n",
       "      <td>0.190115</td>\n",
       "      <td>0.105310</td>\n",
       "      <td>0.051158</td>\n",
       "      <td>0.022521</td>\n",
       "      <td>0.009915</td>\n",
       "      <td>0.999772</td>\n",
       "    </tr>\n",
       "    <tr>\n",
       "      <th>2007-07-26 04:00:00</th>\n",
       "      <td>3</td>\n",
       "      <td>0.194602</td>\n",
       "      <td>0.073708</td>\n",
       "      <td>0.022500</td>\n",
       "      <td>0.005842</td>\n",
       "      <td>0.001517</td>\n",
       "      <td>0.999658</td>\n",
       "    </tr>\n",
       "    <tr>\n",
       "      <th>2007-07-05 23:00:00</th>\n",
       "      <td>4</td>\n",
       "      <td>0.196130</td>\n",
       "      <td>0.075121</td>\n",
       "      <td>0.023247</td>\n",
       "      <td>0.006131</td>\n",
       "      <td>0.001617</td>\n",
       "      <td>0.999543</td>\n",
       "    </tr>\n",
       "  </tbody>\n",
       "</table>\n",
       "</div>"
      ],
      "text/plain": [
       "                     rank         0         1         2         3         4  \\\n",
       "2007-06-13 02:00:00     0  0.144510  0.057858  0.018901  0.005301  0.001487   \n",
       "2007-06-07 22:00:00     1  0.148167  0.061469  0.020973  0.006180  0.001821   \n",
       "2006-10-14 06:00:00     2  0.190115  0.105310  0.051158  0.022521  0.009915   \n",
       "2007-07-26 04:00:00     3  0.194602  0.073708  0.022500  0.005842  0.001517   \n",
       "2007-07-05 23:00:00     4  0.196130  0.075121  0.023247  0.006131  0.001617   \n",
       "\n",
       "                       prob_0  \n",
       "2007-06-13 02:00:00  1.000000  \n",
       "2007-06-07 22:00:00  0.999886  \n",
       "2006-10-14 06:00:00  0.999772  \n",
       "2007-07-26 04:00:00  0.999658  \n",
       "2007-07-05 23:00:00  0.999543  "
      ]
     },
     "execution_count": 39,
     "metadata": {},
     "output_type": "execute_result"
    }
   ],
   "source": [
    "sim_wind_speed_0_10_sort.head()"
   ]
  },
  {
   "cell_type": "code",
   "execution_count": 40,
   "metadata": {},
   "outputs": [
    {
     "data": {
      "text/plain": [
       "<matplotlib.axes._subplots.AxesSubplot at 0x7f90491d17f0>"
      ]
     },
     "execution_count": 40,
     "metadata": {},
     "output_type": "execute_result"
    },
    {
     "data": {
      "image/png": "[encoded data removed]",
      "text/plain": [
       "<matplotlib.figure.Figure at 0x7f8ffb816c50>"
      ]
     },
     "metadata": {
      "needs_background": "light"
     },
     "output_type": "display_data"
    }
   ],
   "source": [
    "# Create Data frame with Exceedance probability(X-axix) and values(Y-axix) and Plotting\n",
    "wind_speed_0_10_prob = pd.DataFrame({'Canopy wind parameter = 0.10':sim_wind_speed_0_10_sort[0].values}, index = sim_wind_speed_0_10_sort['prob_0'].values)\n",
    "wind_speed_0_10_prob.plot()"
   ]
  },
  {
   "cell_type": "markdown",
   "metadata": {},
   "source": [
    "#### Case-2) Canopy wind parameter = 0.28"
   ]
  },
  {
   "cell_type": "code",
   "execution_count": 41,
   "metadata": {
    "scrolled": true
   },
   "outputs": [],
   "source": [
    "# Check wind speed data from SUMMA output\n",
    "sim_wind_speed.head()\n",
    "sim_wind_speed_0_28_sort = sim_wind_speed.sort_values(by=[1])"
   ]
  },
  {
   "cell_type": "code",
   "execution_count": 42,
   "metadata": {},
   "outputs": [],
   "source": [
    "sim_wind_speed_0_28_sort.insert(0, 'rank', range(0, len(sim_wind_speed)))"
   ]
  },
  {
   "cell_type": "code",
   "execution_count": 43,
   "metadata": {},
   "outputs": [
    {
     "data": {
      "text/plain": [
       "<matplotlib.axes._subplots.AxesSubplot at 0x7f90306b9e80>"
      ]
     },
     "execution_count": 43,
     "metadata": {},
     "output_type": "execute_result"
    },
    {
     "data": {
      "image/png": "[encoded data removed]",
      "text/plain": [
       "<matplotlib.figure.Figure at 0x7f8ff89e5978>"
      ]
     },
     "metadata": {
      "needs_background": "light"
     },
     "output_type": "display_data"
    }
   ],
   "source": [
    "sim_wind_speed_0_28_sort['prob_0_28'] = 1 - sim_wind_speed_0_28_sort['rank']/(len(sim_wind_speed)+1)\n",
    "wind_speed_0_28_prob = pd.DataFrame({'Canopy wind parameter = 0.28':sim_wind_speed_0_28_sort[1].values}, index = sim_wind_speed_0_28_sort['prob_0_28'].values)\n",
    "wind_speed_0_28_prob.plot()"
   ]
  },
  {
   "cell_type": "markdown",
   "metadata": {},
   "source": [
    "#### Case-3) Canopy wind parameter = 0.50"
   ]
  },
  {
   "cell_type": "code",
   "execution_count": 44,
   "metadata": {
    "scrolled": true
   },
   "outputs": [],
   "source": [
    "# Check wind speed data from SUMMA output\n",
    "sim_wind_speed.head()\n",
    "sim_wind_speed_0_50_sort = sim_wind_speed.sort_values(by=[2])"
   ]
  },
  {
   "cell_type": "code",
   "execution_count": 45,
   "metadata": {},
   "outputs": [],
   "source": [
    "sim_wind_speed_0_50_sort.insert(0, 'rank', range(0, len(sim_wind_speed)))"
   ]
  },
  {
   "cell_type": "code",
   "execution_count": 46,
   "metadata": {
    "scrolled": true
   },
   "outputs": [
    {
     "data": {
      "text/plain": [
       "<matplotlib.axes._subplots.AxesSubplot at 0x7f8ff8a42cc0>"
      ]
     },
     "execution_count": 46,
     "metadata": {},
     "output_type": "execute_result"
    },
    {
     "data": {
      "image/png": "[encoded data removed]",
      "text/plain": [
       "<matplotlib.figure.Figure at 0x7f8ff8d13438>"
      ]
     },
     "metadata": {
      "needs_background": "light"
     },
     "output_type": "display_data"
    }
   ],
   "source": [
    "sim_wind_speed_0_50_sort['prob_0_50'] = 1 - sim_wind_speed_0_50_sort['rank']/(len(sim_wind_speed)+1)\n",
    "wind_speed_0_50_prob = pd.DataFrame({'Canopy wind parameter = 0.50':sim_wind_speed_0_50_sort[2].values}, index = sim_wind_speed_0_50_sort['prob_0_50'].values)\n",
    "wind_speed_0_50_prob.plot()"
   ]
  },
  {
   "cell_type": "markdown",
   "metadata": {},
   "source": [
    "#### Case-4) Canopy wind parameter = 0.75"
   ]
  },
  {
   "cell_type": "code",
   "execution_count": 47,
   "metadata": {
    "scrolled": true
   },
   "outputs": [],
   "source": [
    "# Check wind speed data from SUMMA output\n",
    "sim_wind_speed.head()\n",
    "sim_wind_speed_0_75_sort = sim_wind_speed.sort_values(by=[3])"
   ]
  },
  {
   "cell_type": "code",
   "execution_count": 48,
   "metadata": {},
   "outputs": [],
   "source": [
    "sim_wind_speed_0_75_sort.insert(0, 'rank', range(0, len(sim_wind_speed)))"
   ]
  },
  {
   "cell_type": "code",
   "execution_count": 49,
   "metadata": {
    "scrolled": true
   },
   "outputs": [
    {
     "data": {
      "text/plain": [
       "<matplotlib.axes._subplots.AxesSubplot at 0x7f8ff8d80e10>"
      ]
     },
     "execution_count": 49,
     "metadata": {},
     "output_type": "execute_result"
    },
    {
     "data": {
      "image/png": "[encoded data removed]",
      "text/plain": [
       "<matplotlib.figure.Figure at 0x7f8ff8d2d0b8>"
      ]
     },
     "metadata": {
      "needs_background": "light"
     },
     "output_type": "display_data"
    }
   ],
   "source": [
    "sim_wind_speed_0_75_sort['prob_0_75'] = 1 - sim_wind_speed_0_75_sort['rank']/(len(sim_wind_speed)+1)\n",
    "wind_speed_0_75_prob = pd.DataFrame({'Canopy wind parameter = 0.75':sim_wind_speed_0_75_sort[3].values}, index = sim_wind_speed_0_75_sort['prob_0_75'].values)\n",
    "wind_speed_0_75_prob.plot()"
   ]
  },
  {
   "cell_type": "markdown",
   "metadata": {},
   "source": [
    "#### Get Below-canopy observation from validation data"
   ]
  },
  {
   "cell_type": "code",
   "execution_count": 50,
   "metadata": {},
   "outputs": [
    {
     "data": {
      "text/html": [
       "<div>\n",
       "<style scoped>\n",
       "    .dataframe tbody tr th:only-of-type {\n",
       "        vertical-align: middle;\n",
       "    }\n",
       "\n",
       "    .dataframe tbody tr th {\n",
       "        vertical-align: top;\n",
       "    }\n",
       "\n",
       "    .dataframe thead th {\n",
       "        text-align: right;\n",
       "    }\n",
       "</style>\n",
       "<table border=\"1\" class=\"dataframe\">\n",
       "  <thead>\n",
       "    <tr style=\"text-align: right;\">\n",
       "      <th></th>\n",
       "      <th>Date_Time</th>\n",
       "      <th>level_0</th>\n",
       "      <th>level_1</th>\n",
       "      <th>Observation (Aspen understory)</th>\n",
       "      <th>Observation (aspen)</th>\n",
       "      <th>-</th>\n",
       "    </tr>\n",
       "  </thead>\n",
       "  <tbody>\n",
       "    <tr>\n",
       "      <th>0</th>\n",
       "      <td>2006-10-01 00:00:00</td>\n",
       "      <td>2006-10-01</td>\n",
       "      <td>0</td>\n",
       "      <td>0.22705</td>\n",
       "      <td>NaN</td>\n",
       "      <td>3.0145</td>\n",
       "    </tr>\n",
       "    <tr>\n",
       "      <th>1</th>\n",
       "      <td>2006-10-01 01:00:00</td>\n",
       "      <td>2006-10-01</td>\n",
       "      <td>1</td>\n",
       "      <td>0.40650</td>\n",
       "      <td>NaN</td>\n",
       "      <td>2.2605</td>\n",
       "    </tr>\n",
       "    <tr>\n",
       "      <th>2</th>\n",
       "      <td>2006-10-01 02:00:00</td>\n",
       "      <td>2006-10-01</td>\n",
       "      <td>2</td>\n",
       "      <td>0.46735</td>\n",
       "      <td>NaN</td>\n",
       "      <td>1.9130</td>\n",
       "    </tr>\n",
       "    <tr>\n",
       "      <th>3</th>\n",
       "      <td>2006-10-01 03:00:00</td>\n",
       "      <td>2006-10-01</td>\n",
       "      <td>3</td>\n",
       "      <td>0.40700</td>\n",
       "      <td>NaN</td>\n",
       "      <td>2.8460</td>\n",
       "    </tr>\n",
       "    <tr>\n",
       "      <th>4</th>\n",
       "      <td>2006-10-01 04:00:00</td>\n",
       "      <td>2006-10-01</td>\n",
       "      <td>4</td>\n",
       "      <td>0.43690</td>\n",
       "      <td>NaN</td>\n",
       "      <td>2.6405</td>\n",
       "    </tr>\n",
       "  </tbody>\n",
       "</table>\n",
       "</div>"
      ],
      "text/plain": [
       "            Date_Time     level_0  level_1  Observation (Aspen understory)  \\\n",
       "0 2006-10-01 00:00:00  2006-10-01        0                         0.22705   \n",
       "1 2006-10-01 01:00:00  2006-10-01        1                         0.40650   \n",
       "2 2006-10-01 02:00:00  2006-10-01        2                         0.46735   \n",
       "3 2006-10-01 03:00:00  2006-10-01        3                         0.40700   \n",
       "4 2006-10-01 04:00:00  2006-10-01        4                         0.43690   \n",
       "\n",
       "   Observation (aspen)       -  \n",
       "0                  NaN  3.0145  \n",
       "1                  NaN  2.2605  \n",
       "2                  NaN  1.9130  \n",
       "3                  NaN  2.8460  \n",
       "4                  NaN  2.6405  "
      ]
     },
     "execution_count": 50,
     "metadata": {},
     "output_type": "execute_result"
    }
   ],
   "source": [
    "# Check validation data\n",
    "obs_wind_speed.head()"
   ]
  },
  {
   "cell_type": "code",
   "execution_count": 51,
   "metadata": {},
   "outputs": [],
   "source": [
    "# Sort column 'Observation (Aspen understory)' as ascending order to apply the Below canopy observation\n",
    "obs_wind_speed_sort = obs_wind_speed.sort_values(by=['Observation (Aspen understory)'])\n",
    "# Remove missing data to make exact exceedance probability\n",
    "obs_wind_speed_sort_data = obs_wind_speed_sort['Observation (Aspen understory)'].dropna()"
   ]
  },
  {
   "cell_type": "code",
   "execution_count": 52,
   "metadata": {},
   "outputs": [],
   "source": [
    "# Create Data frame\n",
    "obs_wind_speed_sort_data = pd.DataFrame(obs_wind_speed_sort_data)"
   ]
  },
  {
   "cell_type": "code",
   "execution_count": 53,
   "metadata": {},
   "outputs": [],
   "source": [
    "# Create 'rank' column to link with sorting data\n",
    "obs_wind_speed_sort_data.insert(0, 'rank', range(0, len(obs_wind_speed_sort_data)))\n",
    "# Create the object of the exceedance probability\n",
    "obs_wind_speed_sort_data['prob_obs'] = 1 - obs_wind_speed_sort_data['rank']/(len(obs_wind_speed_sort_data)+1)"
   ]
  },
  {
   "cell_type": "code",
   "execution_count": 54,
   "metadata": {},
   "outputs": [
    {
     "data": {
      "text/plain": [
       "<matplotlib.axes._subplots.AxesSubplot at 0x7f8ff8f95518>"
      ]
     },
     "execution_count": 54,
     "metadata": {},
     "output_type": "execute_result"
    },
    {
     "data": {
      "image/png": "[encoded data removed]",
      "text/plain": [
       "<matplotlib.figure.Figure at 0x7f8ff8f95668>"
      ]
     },
     "metadata": {
      "needs_background": "light"
     },
     "output_type": "display_data"
    }
   ],
   "source": [
    "# Create Data frame with Exceedance probability(X-axix) and values(Y-axix) and Plotting\n",
    "obs_wind_speed_graph = pd.DataFrame({'Below-canopy observations':obs_wind_speed_sort_data['Observation (Aspen understory)'].values}, index=obs_wind_speed_sort_data['prob_obs'].values)\n",
    "obs_wind_speed_graph.plot()"
   ]
  },
  {
   "cell_type": "markdown",
   "metadata": {},
   "source": [
    "#### Get combined Exceedance Probability Plot (Figure 2, left in SUMMA 2nd paper)"
   ]
  },
  {
   "cell_type": "code",
   "execution_count": 55,
   "metadata": {},
   "outputs": [],
   "source": [
    "# merge each exceedance probability plot with the different canopy wind parameter\n",
    "Exceed_prob = pd.concat([wind_speed_0_10_prob, wind_speed_0_28_prob, wind_speed_0_50_prob, wind_speed_0_75_prob], axis=1)\n",
    "Exceed_prob.columns = ['Canopy wind parameter = 0.10', 'Canopy wind parameter = 0.28', 'Canopy wind parameter = 0.50', 'Canopy wind parameter = 0.75']"
   ]
  },
  {
   "cell_type": "code",
   "execution_count": 56,
   "metadata": {},
   "outputs": [
    {
     "data": {
      "text/html": [
       "<div>\n",
       "<style scoped>\n",
       "    .dataframe tbody tr th:only-of-type {\n",
       "        vertical-align: middle;\n",
       "    }\n",
       "\n",
       "    .dataframe tbody tr th {\n",
       "        vertical-align: top;\n",
       "    }\n",
       "\n",
       "    .dataframe thead th {\n",
       "        text-align: right;\n",
       "    }\n",
       "</style>\n",
       "<table border=\"1\" class=\"dataframe\">\n",
       "  <thead>\n",
       "    <tr style=\"text-align: right;\">\n",
       "      <th></th>\n",
       "      <th>Canopy wind parameter = 0.10</th>\n",
       "      <th>Canopy wind parameter = 0.28</th>\n",
       "      <th>Canopy wind parameter = 0.50</th>\n",
       "      <th>Canopy wind parameter = 0.75</th>\n",
       "    </tr>\n",
       "  </thead>\n",
       "  <tbody>\n",
       "    <tr>\n",
       "      <th>1.000000</th>\n",
       "      <td>0.144510</td>\n",
       "      <td>0.057858</td>\n",
       "      <td>0.018901</td>\n",
       "      <td>0.005301</td>\n",
       "    </tr>\n",
       "    <tr>\n",
       "      <th>0.999886</th>\n",
       "      <td>0.148167</td>\n",
       "      <td>0.061469</td>\n",
       "      <td>0.020973</td>\n",
       "      <td>0.005842</td>\n",
       "    </tr>\n",
       "    <tr>\n",
       "      <th>0.999772</th>\n",
       "      <td>0.190115</td>\n",
       "      <td>0.073708</td>\n",
       "      <td>0.022500</td>\n",
       "      <td>0.006131</td>\n",
       "    </tr>\n",
       "    <tr>\n",
       "      <th>0.999658</th>\n",
       "      <td>0.194602</td>\n",
       "      <td>0.075121</td>\n",
       "      <td>0.023247</td>\n",
       "      <td>0.006180</td>\n",
       "    </tr>\n",
       "    <tr>\n",
       "      <th>0.999543</th>\n",
       "      <td>0.196130</td>\n",
       "      <td>0.075414</td>\n",
       "      <td>0.023403</td>\n",
       "      <td>0.006191</td>\n",
       "    </tr>\n",
       "  </tbody>\n",
       "</table>\n",
       "</div>"
      ],
      "text/plain": [
       "          Canopy wind parameter = 0.10  Canopy wind parameter = 0.28  \\\n",
       "1.000000                      0.144510                      0.057858   \n",
       "0.999886                      0.148167                      0.061469   \n",
       "0.999772                      0.190115                      0.073708   \n",
       "0.999658                      0.194602                      0.075121   \n",
       "0.999543                      0.196130                      0.075414   \n",
       "\n",
       "          Canopy wind parameter = 0.50  Canopy wind parameter = 0.75  \n",
       "1.000000                      0.018901                      0.005301  \n",
       "0.999886                      0.020973                      0.005842  \n",
       "0.999772                      0.022500                      0.006131  \n",
       "0.999658                      0.023247                      0.006180  \n",
       "0.999543                      0.023403                      0.006191  "
      ]
     },
     "execution_count": 56,
     "metadata": {},
     "output_type": "execute_result"
    }
   ],
   "source": [
    "Exceed_prob.head()"
   ]
  },
  {
   "cell_type": "code",
   "execution_count": 57,
   "metadata": {},
   "outputs": [
    {
     "data": {
      "text/plain": [
       "<matplotlib.axes._subplots.AxesSubplot at 0x7f8ff91a2c88>"
      ]
     },
     "execution_count": 57,
     "metadata": {},
     "output_type": "execute_result"
    },
    {
     "data": {
      "image/png": "[encoded data removed]",
      "text/plain": [
       "<matplotlib.figure.Figure at 0x7f8ff8f4b390>"
      ]
     },
     "metadata": {
      "needs_background": "light"
     },
     "output_type": "display_data"
    }
   ],
   "source": [
    "Exceed_prob.plot()"
   ]
  },
  {
   "cell_type": "markdown",
   "metadata": {},
   "source": [
    "#### Add obserevation data into previous combined plot (Figure 2, left in SUMMA 2nd paper)"
   ]
  },
  {
   "cell_type": "code",
   "execution_count": 62,
   "metadata": {},
   "outputs": [
    {
     "data": {
      "image/png": "[encoded data removed]",
      "text/plain": [
       "<matplotlib.figure.Figure at 0x7f8ff8fed7f0>"
      ]
     },
     "metadata": {
      "needs_background": "light"
     },
     "output_type": "display_data"
    }
   ],
   "source": [
    "# reset the name of legend and color\n",
    "Exceed_prob_combine = Exceed_prob.plot(legend=False)\n",
    "Exceed_prob_combine.plot(Exceed_prob['Canopy wind parameter = 0.10'],color='r') \n",
    "Exceed_prob_combine.plot(Exceed_prob['Canopy wind parameter = 0.28'], color='y')\n",
    "Exceed_prob_combine.plot(Exceed_prob['Canopy wind parameter = 0.50'], color='g')\n",
    "Exceed_prob_combine.plot(Exceed_prob['Canopy wind parameter = 0.75'], color='b')\n",
    "\n",
    "Exceed_prob_combine.tick_params(labelsize = 20)\n",
    "# plot scatter with x='exceedance probability', y='Observation (Aspen understory)'\n",
    "d = Exceed_prob_combine.scatter(obs_wind_speed_sort_data['prob_obs'].values, obs_wind_speed_sort_data['Observation (Aspen understory)'], color='black', s=0.5, label=\"Below-canopy observations\")\n",
    "# add x, y label\n",
    "Exceed_prob_combine.set_xlabel(\"Exceedance probability\", fontsize=20)\n",
    "Exceed_prob_combine.set_ylabel(\"Below-canopy windspeed (m s-1)\", fontsize=20)\n",
    "\n",
    "handles, labels = Exceed_prob_combine.get_legend_handles_labels()\n",
    "# show up the legend\n",
    "Exceed_prob_combine.legend(handles[4:9], labels[4:9], fontsize=17)\n",
    "jtplot.figsize(x=10, y=10)"
   ]
  },
  {
   "cell_type": "markdown",
   "metadata": {},
   "source": [
    "## 5. Discussion"
   ]
  },
  {
   "cell_type": "markdown",
   "metadata": {},
   "source": [
    "As stated in Clark et al., 2015, the following insights can be gained from this analysis:\n",
    "* The simulations in Figure 2(left) illustrate that perturbations in the canopy wind parameter used to define the\n",
    "exponential canopy wind profile (parameter $a_{w,0}$ defined in Clark et al. [2015a]) cause large variability in the\n",
    "simulations of below-canopy wind speed.\n",
    "* Although default values of the canopy wind parameter provide a\n",
    "reasonable match to observations (right plot of Figure 2), perturbations in the canopy wind parameter can\n",
    "modify below-canopy wind speed by a factor of five."
   ]
  },
  {
   "cell_type": "markdown",
   "metadata": {},
   "source": [
    "## 6. Post a renewal Model Instance, SUMMA output, and notebook back to Hydroshare"
   ]
  },
  {
   "cell_type": "code",
   "execution_count": 59,
   "metadata": {
    "scrolled": true
   },
   "outputs": [
    {
     "name": "stdout",
     "output_type": "stream",
     "text": [
      "Successfully established a connection with HydroShare\n"
     ]
    }
   ],
   "source": [
    "from pysumma.hydroshare import hydroshare\n",
    "hs = hydroshare.hydroshare()"
   ]
  },
  {
   "cell_type": "code",
   "execution_count": 60,
   "metadata": {},
   "outputs": [],
   "source": [
    "# zip a renewal SUMMA Model Instance to upload on HydroShare\n",
    "import shutil, os\n",
    "archive_name = os.path.expanduser(os.path.join('~', os.getcwd() +'/' + instance +'_new'))\n",
    "root_dir = os.path.expanduser(os.path.join('~', os.getcwd() +'/' + instance))\n",
    "shutil.make_archive(archive_name, 'zip', root_dir)\n",
    "Model_instance = os.getcwd() +'/' + instance +'_new.zip'"
   ]
  },
  {
   "cell_type": "code",
   "execution_count": 61,
   "metadata": {},
   "outputs": [],
   "source": [
    "# set meta data such as abstract, title, keywords, rtype to create a new SUMMA Model Instance\n",
    "title = 'The Impact of the canopy wind parameter for the exponential wind profile of SUMMA Model in Aspen stand at Reynolds Mountain East_LAI_new'\n",
    "abstract = 'The Impact of the canopy wind parameter for the exponential wind profile of SUMMA Model in Aspen stand at Reynolds Mountain East_LAI(new)'\n",
    "keywords = ('SUMMA', 'Hydrologic Model', 'Reynolds Mountain East', 'exponential wind profile', 'wind speed')\n",
    "rtype = 'ModelInstanceResource'\n",
    "fpath = Model_instance,\n",
    "metadata = '[{\"creator\":{\"name\":\"Youngdon Choi\"}}, {\"creator\":{\"name\":\"Jeffrey Sadler\"}}]'\n",
    "extra_metadata = '{\"key-1\": \"value-1\", \"key-2\": \"value-2\"}'"
   ]
  },
  {
   "cell_type": "code",
   "execution_count": 62,
   "metadata": {},
   "outputs": [
    {
     "name": "stdout",
     "output_type": "stream",
     "text": [
      "Resource Created Successfully                           \n"
     ]
    },
    {
     "data": {
      "text/html": [
       "Resource id: b72a58d8ecd24d6fb5c0505e0711498d"
      ],
      "text/plain": [
       "<IPython.core.display.HTML object>"
      ]
     },
     "metadata": {},
     "output_type": "display_data"
    },
    {
     "data": {
      "text/html": [
       "<a href=https://www.hydroshare.org/resource/b72a58d8ecd24d6fb5c0505e0711498d target=\"_blank\">Open Resource in HydroShare<a>"
      ],
      "text/plain": [
       "<IPython.core.display.HTML object>"
      ]
     },
     "metadata": {},
     "output_type": "display_data"
    }
   ],
   "source": [
    "# create a new SUMMA Model Instance on HydroShare\n",
    "resource_id1 = hs.createHydroShareResource(title=title, content_files=fpath, keywords=keywords, abstract=abstract, resource_type='modelinstanceresource', public=False)"
   ]
  },
  {
   "cell_type": "code",
   "execution_count": 63,
   "metadata": {},
   "outputs": [],
   "source": [
    "# set meta data such as abstract, title, keywords, rtype to create a SUMMA Composite Resource that contains SUMMA Model instance, output, and notebook.\n",
    "title = 'The Impact of the canopy wind parameter for the exponential wind profile of SUMMA Model in Aspen stand at Reynolds Mountain East_LAI_new'\n",
    "abstract = 'The Impact of the canopy wind parameter for the exponential wind profile of SUMMA Model in Aspen stand at Reynolds Mountain East_LAI(new)'\n",
    "keywords = ('SUMMA', 'Hydrologic Model', 'Reynolds Mountain East', 'exponential wind profile', 'wind speed')\n",
    "rtype = 'CompositeResource'\n",
    "files = output_sim_path,\n",
    "metadata = '[{\"creator\":{\"name\":\"Youngdon Choi\"}}, {\"creator\":{\"name\":\"Jeffrey Sadler\"}}]'\n",
    "extra_metadata = '{\"key-1\": \"value-1\", \"key-2\": \"value-2\"}'"
   ]
  },
  {
   "cell_type": "code",
   "execution_count": 64,
   "metadata": {},
   "outputs": [
    {
     "name": "stdout",
     "output_type": "stream",
     "text": [
      "Resource Created Successfully                           \n"
     ]
    },
    {
     "data": {
      "text/html": [
       "Resource id: 908a6bbcb0b54f9b9d42b23579916a93"
      ],
      "text/plain": [
       "<IPython.core.display.HTML object>"
      ]
     },
     "metadata": {},
     "output_type": "display_data"
    },
    {
     "data": {
      "text/html": [
       "<a href=https://www.hydroshare.org/resource/908a6bbcb0b54f9b9d42b23579916a93 target=\"_blank\">Open Resource in HydroShare<a>"
      ],
      "text/plain": [
       "<IPython.core.display.HTML object>"
      ]
     },
     "metadata": {},
     "output_type": "display_data"
    }
   ],
   "source": [
    "# create a new SUMMA Composite Resource on HydroShare\n",
    "resource_id2 = hs.createHydroShareResource(title=title, content_files=files, keywords=keywords, abstract=abstract, resource_type='compositeresource', public=False)"
   ]
  },
  {
   "cell_type": "code",
   "execution_count": 65,
   "metadata": {},
   "outputs": [
    {
     "name": "stdout",
     "output_type": "stream",
     "text": [
      "Successfully Added Content Files                      \n"
     ]
    }
   ],
   "source": [
    "# add a new SUMMA Model Instance to a new SUMMA Composite Resource.\n",
    "hs.addContentToExistingResource(resource_id2, [Model_instance])"
   ]
  },
  {
   "cell_type": "markdown",
   "metadata": {},
   "source": [
    "#### Save this notebook file and add the notebook to the resource"
   ]
  },
  {
   "cell_type": "code",
   "execution_count": 66,
   "metadata": {},
   "outputs": [
    {
     "name": "stdout",
     "output_type": "stream",
     "text": [
      "Successfully Added Content Files                      \n"
     ]
    }
   ],
   "source": [
    "# add a new notebook to a new SUMMA Composite Resource.\n",
    "npath = os.getcwd() +'/SummaModel_ReynoldsAspenStand_WindSpeed.ipynb'\n",
    "# check the resource id on HS that created.\n",
    "hs.addContentToExistingResource(resource_id2, [npath])"
   ]
  },
  {
   "cell_type": "code",
   "execution_count": null,
   "metadata": {
    "collapsed": true
   },
   "outputs": [],
   "source": []
  }
 ],
 "metadata": {
  "kernelspec": {
   "display_name": "Python 3",
   "language": "python",
   "name": "python3"
  },
  "language_info": {
   "codemirror_mode": {
    "name": "ipython",
    "version": 3
   },
   "file_extension": ".py",
   "mimetype": "text/x-python",
   "name": "python",
   "nbconvert_exporter": "python",
   "pygments_lexer": "ipython3",
   "version": "3.6.5"
  }
 },
 "nbformat": 4,
 "nbformat_minor": 2
}
